{
 "cells": [
  {
   "cell_type": "markdown",
   "metadata": {},
   "source": [
    "[Bag of Words Meets Bags of Popcorn](https://www.kaggle.com/c/word2vec-nlp-tutorial/data)\n",
    "======\n",
    "\n",
    "## Data Set\n",
    "\n",
    "The labeled data set consists of 50,000 IMDB movie reviews, specially selected for sentiment analysis. The sentiment of reviews is binary, meaning the IMDB rating < 5 results in a sentiment score of 0, and rating >=7 have a sentiment score of 1. No individual movie has more than 30 reviews. The 25,000 review labeled training set does not include any of the same movies as the 25,000 review test set. In addition, there are another 50,000 IMDB reviews provided without any rating labels.\n",
    "\n",
    "## File descriptions\n",
    "\n",
    "labeledTrainData - The labeled training set. The file is tab-delimited and has a header row followed by 25,000 rows containing an id, sentiment, and text for each review.\n",
    "## Data fields\n",
    "\n",
    "* id - Unique ID of each review\n",
    "* sentiment - Sentiment of the review; 1 for positive reviews and 0 for negative reviews\n",
    "* review - Text of the review\n",
    "\n",
    "## Objective\n",
    "Objective of this dataset is base on **review** we predict **sentiment** (positive or negative) so X is **review** column and y is **sentiment** column"
   ]
  },
  {
   "cell_type": "markdown",
   "metadata": {},
   "source": [
    "## 1. Load Dataset and EDA"
   ]
  },
  {
   "cell_type": "code",
   "execution_count": 1,
   "metadata": {
    "ExecuteTime": {
     "end_time": "2019-08-11T13:15:52.215235Z",
     "start_time": "2019-08-11T13:15:50.800736Z"
    }
   },
   "outputs": [],
   "source": [
    "# Import necessary libraries\n",
    "import time\n",
    "import numpy as np\n",
    "import pandas as pd\n",
    "import seaborn as sns\n",
    "import matplotlib.pyplot as plt\n",
    "import re\n",
    "import pickle\n",
    "import os\n",
    "import nltk\n",
    "from nltk.stem import PorterStemmer\n",
    "from nltk.stem import WordNetLemmatizer\n",
    "from collections import Counter\n",
    "from scipy.sparse import hstack\n",
    "from sklearn.feature_extraction.text import CountVectorizer\n",
    "from sklearn.model_selection import train_test_split\n",
    "from sklearn.feature_extraction.text import TfidfVectorizer\n",
    "from sklearn.metrics import accuracy_score, classification_report, confusion_matrix\n",
    "from sklearn.linear_model import LogisticRegression\n",
    "from sklearn.tree import DecisionTreeClassifier\n",
    "from sklearn.ensemble import RandomForestClassifier\n",
    "from sklearn.neighbors import KNeighborsClassifier\n",
    "from sklearn.svm import SVC\n",
    "from sklearn.model_selection import GridSearchCV\n",
    "from sklearn.model_selection import cross_val_score\n",
    "import warnings\n",
    "warnings.filterwarnings('ignore')"
   ]
  },
  {
   "cell_type": "code",
   "execution_count": 2,
   "metadata": {
    "ExecuteTime": {
     "end_time": "2019-08-11T13:15:52.529374Z",
     "start_time": "2019-08-11T13:15:52.217504Z"
    }
   },
   "outputs": [],
   "source": [
    "# Load dataset\n",
    "data = pd.read_csv('./data/movie_review.csv', sep='\\t', encoding='latin-1')"
   ]
  },
  {
   "cell_type": "code",
   "execution_count": 3,
   "metadata": {
    "ExecuteTime": {
     "end_time": "2019-08-11T13:15:52.579928Z",
     "start_time": "2019-08-11T13:15:52.531996Z"
    }
   },
   "outputs": [
    {
     "data": {
      "text/html": [
       "<div>\n",
       "<style scoped>\n",
       "    .dataframe tbody tr th:only-of-type {\n",
       "        vertical-align: middle;\n",
       "    }\n",
       "\n",
       "    .dataframe tbody tr th {\n",
       "        vertical-align: top;\n",
       "    }\n",
       "\n",
       "    .dataframe thead th {\n",
       "        text-align: right;\n",
       "    }\n",
       "</style>\n",
       "<table border=\"1\" class=\"dataframe\">\n",
       "  <thead>\n",
       "    <tr style=\"text-align: right;\">\n",
       "      <th></th>\n",
       "      <th>id</th>\n",
       "      <th>review</th>\n",
       "      <th>sentiment</th>\n",
       "    </tr>\n",
       "  </thead>\n",
       "  <tbody>\n",
       "    <tr>\n",
       "      <th>0</th>\n",
       "      <td>5814_8</td>\n",
       "      <td>With all this stuff going down at the moment w...</td>\n",
       "      <td>1</td>\n",
       "    </tr>\n",
       "    <tr>\n",
       "      <th>1</th>\n",
       "      <td>2381_9</td>\n",
       "      <td>\\The Classic War of the Worlds\\\" by Timothy Hi...</td>\n",
       "      <td>1</td>\n",
       "    </tr>\n",
       "    <tr>\n",
       "      <th>2</th>\n",
       "      <td>7759_3</td>\n",
       "      <td>The film starts with a manager (Nicholas Bell)...</td>\n",
       "      <td>0</td>\n",
       "    </tr>\n",
       "    <tr>\n",
       "      <th>3</th>\n",
       "      <td>3630_4</td>\n",
       "      <td>It must be assumed that those who praised this...</td>\n",
       "      <td>0</td>\n",
       "    </tr>\n",
       "    <tr>\n",
       "      <th>4</th>\n",
       "      <td>9495_8</td>\n",
       "      <td>Superbly trashy and wondrously unpretentious 8...</td>\n",
       "      <td>1</td>\n",
       "    </tr>\n",
       "  </tbody>\n",
       "</table>\n",
       "</div>"
      ],
      "text/plain": [
       "       id                                             review  sentiment\n",
       "0  5814_8  With all this stuff going down at the moment w...          1\n",
       "1  2381_9  \\The Classic War of the Worlds\\\" by Timothy Hi...          1\n",
       "2  7759_3  The film starts with a manager (Nicholas Bell)...          0\n",
       "3  3630_4  It must be assumed that those who praised this...          0\n",
       "4  9495_8  Superbly trashy and wondrously unpretentious 8...          1"
      ]
     },
     "execution_count": 3,
     "metadata": {},
     "output_type": "execute_result"
    }
   ],
   "source": [
    "data.head()"
   ]
  },
  {
   "cell_type": "code",
   "execution_count": 4,
   "metadata": {
    "ExecuteTime": {
     "end_time": "2019-08-11T13:15:52.594312Z",
     "start_time": "2019-08-11T13:15:52.582183Z"
    }
   },
   "outputs": [
    {
     "name": "stdout",
     "output_type": "stream",
     "text": [
      "<class 'pandas.core.frame.DataFrame'>\n",
      "RangeIndex: 22500 entries, 0 to 22499\n",
      "Data columns (total 3 columns):\n",
      "id           22500 non-null object\n",
      "review       22500 non-null object\n",
      "sentiment    22500 non-null int64\n",
      "dtypes: int64(1), object(2)\n",
      "memory usage: 527.4+ KB\n"
     ]
    }
   ],
   "source": [
    "data.info()"
   ]
  },
  {
   "cell_type": "code",
   "execution_count": 5,
   "metadata": {
    "ExecuteTime": {
     "end_time": "2019-08-11T13:15:52.601675Z",
     "start_time": "2019-08-11T13:15:52.596704Z"
    }
   },
   "outputs": [],
   "source": [
    "data.drop(['id'], axis=1, inplace=True)"
   ]
  },
  {
   "cell_type": "code",
   "execution_count": 6,
   "metadata": {
    "ExecuteTime": {
     "end_time": "2019-08-11T13:15:52.611150Z",
     "start_time": "2019-08-11T13:15:52.603408Z"
    }
   },
   "outputs": [
    {
     "data": {
      "text/plain": [
       "review       0\n",
       "sentiment    0\n",
       "dtype: int64"
      ]
     },
     "execution_count": 6,
     "metadata": {},
     "output_type": "execute_result"
    }
   ],
   "source": [
    "data.isnull().sum()"
   ]
  },
  {
   "cell_type": "code",
   "execution_count": 7,
   "metadata": {
    "ExecuteTime": {
     "end_time": "2019-08-11T13:15:52.623779Z",
     "start_time": "2019-08-11T13:15:52.613393Z"
    }
   },
   "outputs": [
    {
     "data": {
      "text/plain": [
       "review       11278\n",
       "sentiment    11278\n",
       "dtype: int64"
      ]
     },
     "execution_count": 7,
     "metadata": {},
     "output_type": "execute_result"
    }
   ],
   "source": [
    "# how many possitive and negative labels?\n",
    "data[data['sentiment'] == 1].count()"
   ]
  },
  {
   "cell_type": "markdown",
   "metadata": {},
   "source": [
    "#### Classes distribution in the dataset"
   ]
  },
  {
   "cell_type": "code",
   "execution_count": 8,
   "metadata": {
    "ExecuteTime": {
     "end_time": "2019-08-11T13:15:52.809552Z",
     "start_time": "2019-08-11T13:15:52.627639Z"
    }
   },
   "outputs": [
    {
     "data": {
      "image/png": "[encoded data removed]",
      "text/plain": [
       "<Figure size 432x288 with 1 Axes>"
      ]
     },
     "metadata": {
      "needs_background": "light"
     },
     "output_type": "display_data"
    },
    {
     "name": "stdout",
     "output_type": "stream",
     "text": [
      "Positive: 11278 - Negative: 11222\n"
     ]
    }
   ],
   "source": [
    "# how many possitive and negative labels?\n",
    "plt.hist(data[data.sentiment == 1].sentiment,\n",
    "         bins=2, color='green', label='Positive')\n",
    "plt.hist(data[data.sentiment == 0].sentiment,\n",
    "         bins=2, color='blue', label='Negative')\n",
    "plt.title('Classes distribution in the train data')\n",
    "plt.xticks([data[data.sentiment == 1].sentiment.count(), data[data.sentiment == 0].sentiment.count()])\n",
    "plt.xlim(-0.5, 2)\n",
    "plt.legend()\n",
    "plt.show()\n",
    "print('Positive: {} - Negative: {}'.format(data[data.sentiment == 1].sentiment.count(), data[data.sentiment == 0].sentiment.count()))"
   ]
  },
  {
   "cell_type": "code",
   "execution_count": 9,
   "metadata": {
    "ExecuteTime": {
     "end_time": "2019-08-11T13:15:53.180491Z",
     "start_time": "2019-08-11T13:15:52.811637Z"
    }
   },
   "outputs": [],
   "source": [
    "# get a word count per sentence column\n",
    "def word_count(sentence):\n",
    "    return len(sentence.split())\n",
    "    \n",
    "data['word count'] = data['review'].apply(word_count)"
   ]
  },
  {
   "cell_type": "code",
   "execution_count": 10,
   "metadata": {
    "ExecuteTime": {
     "end_time": "2019-08-11T13:15:53.191638Z",
     "start_time": "2019-08-11T13:15:53.182805Z"
    }
   },
   "outputs": [
    {
     "data": {
      "text/html": [
       "<div>\n",
       "<style scoped>\n",
       "    .dataframe tbody tr th:only-of-type {\n",
       "        vertical-align: middle;\n",
       "    }\n",
       "\n",
       "    .dataframe tbody tr th {\n",
       "        vertical-align: top;\n",
       "    }\n",
       "\n",
       "    .dataframe thead th {\n",
       "        text-align: right;\n",
       "    }\n",
       "</style>\n",
       "<table border=\"1\" class=\"dataframe\">\n",
       "  <thead>\n",
       "    <tr style=\"text-align: right;\">\n",
       "      <th></th>\n",
       "      <th>review</th>\n",
       "      <th>sentiment</th>\n",
       "      <th>word count</th>\n",
       "    </tr>\n",
       "  </thead>\n",
       "  <tbody>\n",
       "    <tr>\n",
       "      <th>0</th>\n",
       "      <td>With all this stuff going down at the moment w...</td>\n",
       "      <td>1</td>\n",
       "      <td>433</td>\n",
       "    </tr>\n",
       "    <tr>\n",
       "      <th>1</th>\n",
       "      <td>\\The Classic War of the Worlds\\\" by Timothy Hi...</td>\n",
       "      <td>1</td>\n",
       "      <td>158</td>\n",
       "    </tr>\n",
       "    <tr>\n",
       "      <th>2</th>\n",
       "      <td>The film starts with a manager (Nicholas Bell)...</td>\n",
       "      <td>0</td>\n",
       "      <td>378</td>\n",
       "    </tr>\n",
       "    <tr>\n",
       "      <th>3</th>\n",
       "      <td>It must be assumed that those who praised this...</td>\n",
       "      <td>0</td>\n",
       "      <td>379</td>\n",
       "    </tr>\n",
       "    <tr>\n",
       "      <th>4</th>\n",
       "      <td>Superbly trashy and wondrously unpretentious 8...</td>\n",
       "      <td>1</td>\n",
       "      <td>367</td>\n",
       "    </tr>\n",
       "  </tbody>\n",
       "</table>\n",
       "</div>"
      ],
      "text/plain": [
       "                                              review  sentiment  word count\n",
       "0  With all this stuff going down at the moment w...          1         433\n",
       "1  \\The Classic War of the Worlds\\\" by Timothy Hi...          1         158\n",
       "2  The film starts with a manager (Nicholas Bell)...          0         378\n",
       "3  It must be assumed that those who praised this...          0         379\n",
       "4  Superbly trashy and wondrously unpretentious 8...          1         367"
      ]
     },
     "execution_count": 10,
     "metadata": {},
     "output_type": "execute_result"
    }
   ],
   "source": [
    "data.head(5)"
   ]
  },
  {
   "cell_type": "markdown",
   "metadata": {},
   "source": [
    "#### Word count distribution"
   ]
  },
  {
   "cell_type": "code",
   "execution_count": 11,
   "metadata": {
    "ExecuteTime": {
     "end_time": "2019-08-11T13:15:53.443831Z",
     "start_time": "2019-08-11T13:15:53.193367Z"
    }
   },
   "outputs": [
    {
     "data": {
      "image/png": "[encoded data removed]",
      "text/plain": [
       "<Figure size 864x432 with 1 Axes>"
      ]
     },
     "metadata": {
      "needs_background": "light"
     },
     "output_type": "display_data"
    }
   ],
   "source": [
    "# plot word count distribution for both positive and negative sentiments\n",
    "x = data['word count'][data.sentiment == 1]\n",
    "y = data['word count'][data.sentiment == 0]\n",
    "plt.figure(figsize=(12,6))\n",
    "plt.xlim(0,1000)\n",
    "plt.xlabel('word count')\n",
    "plt.ylabel('frequency')\n",
    "g = plt.hist([x, y], color=['r','b'], alpha=0.5, label=['positive','negative'])\n",
    "plt.legend(loc='upper right')\n",
    "plt.title(\"Word Count distribution for positive and negative sentiments\")\n",
    "plt.show()"
   ]
  },
  {
   "cell_type": "markdown",
   "metadata": {},
   "source": [
    "#### Most common words "
   ]
  },
  {
   "cell_type": "code",
   "execution_count": 12,
   "metadata": {
    "ExecuteTime": {
     "end_time": "2019-08-11T13:15:55.967824Z",
     "start_time": "2019-08-11T13:15:53.445981Z"
    }
   },
   "outputs": [
    {
     "data": {
      "text/plain": [
       "[('the', 290182),\n",
       " ('a', 144051),\n",
       " ('and', 142724),\n",
       " ('of', 130112),\n",
       " ('to', 120539),\n",
       " ('is', 93742),\n",
       " ('in', 81699),\n",
       " ('i', 63363),\n",
       " ('this', 62661),\n",
       " ('that', 59553),\n",
       " ('it', 58825),\n",
       " ('/><br', 45851),\n",
       " ('was', 42295),\n",
       " ('as', 40642),\n",
       " ('for', 38520),\n",
       " ('with', 38406),\n",
       " ('but', 35782),\n",
       " ('on', 28508),\n",
       " ('movie', 27684),\n",
       " ('his', 26285),\n",
       " ('are', 25832),\n",
       " ('not', 25584),\n",
       " ('film', 25095),\n",
       " ('you', 24793),\n",
       " ('have', 24632),\n",
       " ('he', 23584),\n",
       " ('be', 23178),\n",
       " ('at', 20443),\n",
       " ('one', 20310),\n",
       " ('by', 19799),\n",
       " ('an', 19098),\n",
       " ('they', 18573),\n",
       " ('from', 17979),\n",
       " ('all', 17685),\n",
       " ('who', 17513),\n",
       " ('like', 16869),\n",
       " ('so', 16211),\n",
       " ('just', 15531),\n",
       " ('or', 15035),\n",
       " ('has', 14923),\n",
       " ('about', 14800),\n",
       " ('her', 14788),\n",
       " (\"it's\", 14312),\n",
       " ('some', 13700),\n",
       " ('if', 13657),\n",
       " ('out', 13071),\n",
       " ('what', 12602),\n",
       " ('when', 12313),\n",
       " ('very', 12244),\n",
       " ('more', 11843)]"
      ]
     },
     "execution_count": 12,
     "metadata": {},
     "output_type": "execute_result"
    }
   ],
   "source": [
    "# get most common words in training dataset\n",
    "all_words = []\n",
    "for line in list(data['review']):\n",
    "    words = line.split()\n",
    "    for word in words:\n",
    "        all_words.append(word.lower())\n",
    "\n",
    "\n",
    "Counter(all_words).most_common(50)"
   ]
  },
  {
   "cell_type": "markdown",
   "metadata": {},
   "source": [
    "## 2. Preprocessing"
   ]
  },
  {
   "cell_type": "code",
   "execution_count": 13,
   "metadata": {
    "ExecuteTime": {
     "end_time": "2019-08-11T13:15:55.972622Z",
     "start_time": "2019-08-11T13:15:55.969731Z"
    }
   },
   "outputs": [],
   "source": [
    "# Get the list of stop words in English\n",
    "from nltk.corpus import stopwords\n",
    "\n",
    "# In Python, searching a set is much faster than searching\n",
    "# a list, so convert the stop words to a set\n",
    "# stop_words = set(stopwords.words('english'))\n",
    "\n",
    "stop_words = ['the', 'a', 'and', 'of', 'to', 'is', 'in', 'i']"
   ]
  },
  {
   "cell_type": "code",
   "execution_count": 14,
   "metadata": {
    "ExecuteTime": {
     "end_time": "2019-08-11T13:15:56.048163Z",
     "start_time": "2019-08-11T13:15:55.974402Z"
    }
   },
   "outputs": [],
   "source": [
    "# Remove special characters, html tags and \"trash\"\n",
    "def clean_text(text):\n",
    "  # remove HTML markup\n",
    "  text = re.sub('<[^>]*>', '', text)\n",
    "  \n",
    "  # Save emoticons for later appending\n",
    "  emoticons = re.findall('(?::|;|=)(?:-)?(?:\\)|\\(|D|P)', text)\n",
    "  # Now remove emoticons\n",
    "  text = re.sub('(?::|;|=)(?:-)?(?:\\)|\\(|D|P)', '', text)\n",
    "  \n",
    "  # Remove some special characters\n",
    "  text = re.sub('Ã\\x82Â¨', '', text)\n",
    "  \n",
    "  # Save number in 1,000 or 1.000 formats for later appending\n",
    "  numbers = re.findall(r'(?<!,)\\b(\\d{1,3}(?:[.,]\\d{3})*)\\b(?!,)', text)\n",
    "  # Now remove numbers\n",
    "  text = re.sub(r'(?<!,)\\b(\\d{1,3}(?:[.,]\\d{3})*)\\b(?!,)', '', text)\n",
    "  \n",
    "  # Remove any non-word character and append the emoticons,\n",
    "  # removing the nose character for standardization. Convert to lower case\n",
    "  text = (re.sub('[\\W]+', ' ', text.lower()))\n",
    "  \n",
    "  # Remove words with 2 or fewer letters\n",
    "#   text = re.sub(r'\\b\\w{1,2}\\b', '', text)\n",
    "  \n",
    "  # Remove whitespace (including new line characters)\n",
    "  text = re.sub(r'\\s\\s+', ' ', text)\n",
    "  \n",
    "  # Remove single space remaining.\n",
    "  text = text.strip(' ') \n",
    "  \n",
    "  # Remove characters beyond Basic Multilingual Plane (BMP) of Unicode:\n",
    "  text = ''.join(c for c in text if c <= '\\uFFFF') \n",
    "  \n",
    "  # rejoin emoticons & numbers\n",
    "  text = text + ' ' + ' '.join(emoticons).replace('-', '') + ' ' + ' '.join(numbers).replace('.', '').replace(',', '')\n",
    "  \n",
    "  return text\n",
    "\n",
    "\n",
    "# Tokenizer and Stemming\n",
    "# tokenizer: to break down our twits in individual words\n",
    "# stemming: reducing a word to its root\n",
    "def preprocessor_stem(text):\n",
    "  \n",
    "  porter = PorterStemmer()\n",
    "  \n",
    "  text = clean_text(text)\n",
    "  # stemming\n",
    "  text = [porter.stem(word) for word in text.split()]\n",
    "  # Remove stop words\n",
    "  text = [word for word in text if not word in stop_words]\n",
    "  text = \" \".join(text)\n",
    "  return text\n",
    "  \n",
    "def tokenizer(text):\n",
    "  return [word for word in text.split()]"
   ]
  },
  {
   "cell_type": "code",
   "execution_count": 15,
   "metadata": {
    "ExecuteTime": {
     "end_time": "2019-08-11T13:15:56.055870Z",
     "start_time": "2019-08-11T13:15:56.050335Z"
    }
   },
   "outputs": [
    {
     "name": "stdout",
     "output_type": "stream",
     "text": [
      "yeah i love loving loved loovveee this one so much him bc 2006 blah jurassik park :D =) 10000\n"
     ]
    }
   ],
   "source": [
    "# Test clean text\n",
    "string = 'Yeah :-D I love loving loved loovveee this one so much him =) Ã\\x82Â¨10.000 BC(2006)Ã\\x82Â¨ !@#% Blah #()@...,<,<> Ã\\x82Â¨Jurassik ParkÃ\\x82Â¨'\n",
    "string = clean_text(string)\n",
    "print(string)"
   ]
  },
  {
   "cell_type": "code",
   "execution_count": 16,
   "metadata": {
    "ExecuteTime": {
     "end_time": "2019-08-11T13:15:56.063978Z",
     "start_time": "2019-08-11T13:15:56.059448Z"
    }
   },
   "outputs": [
    {
     "name": "stdout",
     "output_type": "stream",
     "text": [
      "['yeah', 'love', 'love', 'love', 'loovvee', 'thi', 'one', 'so', 'much', 'him', 'bc', '2006', 'blah', 'jurassik', 'park', '10000', ':D', '=)']\n"
     ]
    }
   ],
   "source": [
    "# Test clean text with stemming\n",
    "string_token = preprocessor_stem(string)\n",
    "print(tokenizer(string_token))"
   ]
  },
  {
   "cell_type": "code",
   "execution_count": 17,
   "metadata": {
    "ExecuteTime": {
     "end_time": "2019-08-11T13:15:56.072696Z",
     "start_time": "2019-08-11T13:15:56.065950Z"
    }
   },
   "outputs": [],
   "source": [
    "# data.drop(columns='stem processed review', inplace=True)\n",
    "data.insert(loc = 1, column=\"stem processed review\", value=\"\")"
   ]
  },
  {
   "cell_type": "code",
   "execution_count": null,
   "metadata": {
    "ExecuteTime": {
     "start_time": "2019-08-11T13:15:50.847Z"
    }
   },
   "outputs": [],
   "source": [
    "data['stem processed review'] = data['review'].apply(preprocessor_stem)"
   ]
  },
  {
   "cell_type": "code",
   "execution_count": null,
   "metadata": {
    "ExecuteTime": {
     "start_time": "2019-08-11T13:15:50.850Z"
    }
   },
   "outputs": [],
   "source": [
    "data['stem processed review word count'] = data['stem processed review'].apply(word_count)"
   ]
  },
  {
   "cell_type": "code",
   "execution_count": null,
   "metadata": {
    "ExecuteTime": {
     "start_time": "2019-08-11T13:15:50.852Z"
    }
   },
   "outputs": [],
   "source": [
    "data.head()"
   ]
  },
  {
   "cell_type": "markdown",
   "metadata": {},
   "source": [
    "### Create Train - Test Subsets"
   ]
  },
  {
   "cell_type": "code",
   "execution_count": null,
   "metadata": {
    "ExecuteTime": {
     "start_time": "2019-08-11T13:15:50.855Z"
    }
   },
   "outputs": [],
   "source": [
    "X = data['stem processed review']\n",
    "y = data['sentiment']"
   ]
  },
  {
   "cell_type": "code",
   "execution_count": null,
   "metadata": {
    "ExecuteTime": {
     "start_time": "2019-08-11T13:15:50.858Z"
    }
   },
   "outputs": [],
   "source": [
    "t0 = time.time()\n",
    "tfidf = TfidfVectorizer(tokenizer=tokenizer)\n",
    "X_tfidf = tfidf.fit_transform(X)\n",
    "t1 = time.time()\n",
    "\n",
    "X_train_tfidf, X_test_tfidf, y_train_tfidf, y_test_tfidf = train_test_split(X_tfidf, y, test_size=0.25, random_state=101)\n",
    "t2 = time.time()\n",
    "\n",
    "time_vectorizing = t1-t0\n",
    "time_splitting = t2-t1\n",
    "\n",
    "print(\"Vectorizing time: %fs; Train-Test Splitting time: %fs\" % (time_vectorizing, time_splitting))"
   ]
  },
  {
   "cell_type": "code",
   "execution_count": null,
   "metadata": {
    "ExecuteTime": {
     "start_time": "2019-08-11T13:15:50.861Z"
    }
   },
   "outputs": [],
   "source": [
    "X_train_tfidf.shape"
   ]
  },
  {
   "cell_type": "markdown",
   "metadata": {},
   "source": [
    "## 3. Model training and evaluation\n",
    "We will explore different classifiers to evaluate the most efficient one in term of accuracy and computational difficulty."
   ]
  },
  {
   "cell_type": "markdown",
   "metadata": {},
   "source": [
    "### 3.1 Logistic Regression Classifier"
   ]
  },
  {
   "cell_type": "code",
   "execution_count": null,
   "metadata": {
    "ExecuteTime": {
     "start_time": "2019-08-11T13:15:50.864Z"
    }
   },
   "outputs": [],
   "source": [
    "lr = LogisticRegression()\n",
    "t0 = time.time()\n",
    "\n",
    "lr.fit(X_train_tfidf, y_train_tfidf)\n",
    "t1 = time.time()\n",
    "\n",
    "lr_preds = lr.predict(X_test_tfidf)\n",
    "t2 = time.time()\n",
    "\n",
    "time_linear_train = t1-t0\n",
    "time_linear_predict = t2-t1\n",
    "\n",
    "# results\n",
    "print(\"Training time: %fs; Prediction time: %fs\" % (time_linear_train, time_linear_predict))\n",
    "\n",
    "lr_cm = confusion_matrix(y_test_tfidf, lr_preds)\n",
    "lr_report = classification_report(y_test_tfidf, lr_preds)"
   ]
  },
  {
   "cell_type": "code",
   "execution_count": null,
   "metadata": {
    "ExecuteTime": {
     "start_time": "2019-08-11T13:15:50.868Z"
    }
   },
   "outputs": [],
   "source": [
    "print(lr_cm)\n",
    "print(lr_report)"
   ]
  },
  {
   "cell_type": "markdown",
   "metadata": {},
   "source": [
    "### 3.2 Decision Tree Classifier"
   ]
  },
  {
   "cell_type": "code",
   "execution_count": null,
   "metadata": {
    "ExecuteTime": {
     "start_time": "2019-08-11T13:15:50.871Z"
    }
   },
   "outputs": [],
   "source": [
    "dtc = DecisionTreeClassifier()\n",
    "t0 = time.time()\n",
    "dtc.fit(X_train_tfidf, y_train_tfidf)\n",
    "t1 = time.time()\n",
    "\n",
    "dtc_preds = dtc.predict(X_test_tfidf)\n",
    "t2 = time.time()\n",
    "\n",
    "time_dtc_train = t1-t0\n",
    "time_dtc_predict = t2-t1\n",
    "\n",
    "# results\n",
    "print(\"Training time: %fs; Prediction time: %fs\" % (time_dtc_train, time_dtc_predict))\n",
    "\n",
    "dtc_cm = confusion_matrix(y_test_tfidf, dtc_preds)\n",
    "dtc_report = classification_report(y_test_tfidf, dtc_preds)"
   ]
  },
  {
   "cell_type": "code",
   "execution_count": null,
   "metadata": {
    "ExecuteTime": {
     "start_time": "2019-08-11T13:15:50.873Z"
    }
   },
   "outputs": [],
   "source": [
    "print(dtc_cm)\n",
    "print(dtc_report)"
   ]
  },
  {
   "cell_type": "markdown",
   "metadata": {},
   "source": [
    "### 3.3 Random Forest Classifier"
   ]
  },
  {
   "cell_type": "code",
   "execution_count": null,
   "metadata": {
    "ExecuteTime": {
     "start_time": "2019-08-11T13:15:50.878Z"
    }
   },
   "outputs": [],
   "source": [
    "rfc = RandomForestClassifier()\n",
    "\n",
    "t0 = time.time()\n",
    "rfc.fit(X_train_tfidf, y_train_tfidf)\n",
    "t1 = time.time()\n",
    "\n",
    "rfc_preds = rfc.predict(X_test_tfidf)\n",
    "t2 = time.time()\n",
    "\n",
    "time_rfc_train = t1-t0\n",
    "time_rfc_predict = t2-t1\n",
    "\n",
    "# results\n",
    "print(\"Training time: %fs; Prediction time: %fs\" % (time_rfc_train, time_rfc_predict))\n",
    "\n",
    "rfc_cm = confusion_matrix(y_test_tfidf, rfc_preds)\n",
    "rfc_report = classification_report(y_test_tfidf, rfc_preds)"
   ]
  },
  {
   "cell_type": "code",
   "execution_count": null,
   "metadata": {
    "ExecuteTime": {
     "start_time": "2019-08-11T13:15:50.880Z"
    }
   },
   "outputs": [],
   "source": [
    "print(rfc_cm)\n",
    "print(rfc_report)"
   ]
  },
  {
   "cell_type": "markdown",
   "metadata": {},
   "source": [
    "### 3.4 K-Neighbors Nearest Classifier"
   ]
  },
  {
   "cell_type": "code",
   "execution_count": null,
   "metadata": {
    "ExecuteTime": {
     "start_time": "2019-08-11T13:15:50.883Z"
    }
   },
   "outputs": [],
   "source": [
    "knn = KNeighborsClassifier()\n",
    "\n",
    "t0 = time.time()\n",
    "knn.fit(X_train_tfidf, y_train_tfidf)\n",
    "t1 = time.time()\n",
    "\n",
    "knn_preds = knn.predict(X_test_tfidf)\n",
    "t2 = time.time()\n",
    "\n",
    "time_knn_train = t1-t0\n",
    "time_knn_predict = t2-t1\n",
    "\n",
    "# results\n",
    "print(\"Training time: %fs; Prediction time: %fs\" % (time_knn_train, time_knn_predict))\n",
    "\n",
    "knn_cm = confusion_matrix(y_test_tfidf, knn_preds)\n",
    "knn_report = classification_report(y_test_tfidf, knn_preds)"
   ]
  },
  {
   "cell_type": "code",
   "execution_count": null,
   "metadata": {
    "ExecuteTime": {
     "start_time": "2019-08-11T13:15:50.885Z"
    }
   },
   "outputs": [],
   "source": [
    "print(knn_cm)\n",
    "print(knn_report)"
   ]
  },
  {
   "cell_type": "markdown",
   "metadata": {},
   "source": [
    "### 3.6 Support Vector Machine Classifier"
   ]
  },
  {
   "cell_type": "code",
   "execution_count": null,
   "metadata": {
    "ExecuteTime": {
     "start_time": "2019-08-11T13:15:50.888Z"
    }
   },
   "outputs": [],
   "source": [
    "svm = SVC(kernel='linear')\n",
    "\n",
    "t0 = time.time()\n",
    "svm.fit(X_train_tfidf, y_train_tfidf)\n",
    "t1 = time.time()\n",
    "\n",
    "svm_preds = svm.predict(X_test_tfidf)\n",
    "t2 = time.time()\n",
    "\n",
    "time_svm_train = t1-t0\n",
    "time_svm_predict = t2-t1\n",
    "\n",
    "# results\n",
    "print(\"Training time: %fs; Prediction time: %fs\" % (time_svm_train, time_svm_predict))\n",
    "\n",
    "svm_cm = confusion_matrix(y_test_tfidf, svm_preds)\n",
    "svm_report = classification_report(y_test_tfidf, svm_preds)"
   ]
  },
  {
   "cell_type": "code",
   "execution_count": null,
   "metadata": {
    "ExecuteTime": {
     "start_time": "2019-08-11T13:15:50.891Z"
    }
   },
   "outputs": [],
   "source": [
    "print(svm_cm)\n",
    "print(svm_report)"
   ]
  },
  {
   "cell_type": "markdown",
   "metadata": {},
   "source": [
    "### 3.5. Export Trained Models, default mode"
   ]
  },
  {
   "cell_type": "code",
   "execution_count": null,
   "metadata": {
    "ExecuteTime": {
     "start_time": "2019-08-11T13:15:50.894Z"
    }
   },
   "outputs": [],
   "source": [
    "# Using pickle to export our trained model\n",
    "pickle.dump(lr, open(os.path.join('models', 'Model_LR_default_imdb.pkl'), 'wb'), protocol=4)\n",
    "pickle.dump(dtc, open(os.path.join('models', 'Model_DTC_default_imdb.pkl'), 'wb'), protocol=4)\n",
    "pickle.dump(rfc, open(os.path.join('models', 'Model_RFC_default_imdb.pkl'), 'wb'), protocol=4)\n",
    "pickle.dump(knn, open(os.path.join('models', 'Model_KNN_default_imdb.pkl'), 'wb'), protocol=4)\n",
    "pickle.dump(svm, open(os.path.join('models', 'Model_SVM_default_imdb.pkl'), 'wb'), protocol=4)"
   ]
  },
  {
   "cell_type": "markdown",
   "metadata": {},
   "source": [
    "## 4. Performance Comparison"
   ]
  },
  {
   "cell_type": "code",
   "execution_count": null,
   "metadata": {
    "ExecuteTime": {
     "start_time": "2019-08-11T13:15:50.897Z"
    }
   },
   "outputs": [],
   "source": [
    "fig, ax = plt.subplots(3,2, figsize=[14,20])\n",
    "\n",
    "sns.heatmap(lr_cm, ax=ax[0, 0], annot=True, fmt='d', square=True)\n",
    "ax[0, 0].set_title('LR')\n",
    "ax[0, 0].set_xlabel('Test')\n",
    "ax[0, 0].set_ylabel('Predictions')\n",
    "\n",
    "sns.heatmap(svm_cm, ax=ax[0, 1], annot=True, fmt='d', square=True)\n",
    "ax[0, 1].set_title('SVM')\n",
    "ax[0, 1].set_xlabel('Test')\n",
    "ax[0, 1].set_ylabel('Predictions')\n",
    "\n",
    "sns.heatmap(dtc_cm, ax=ax[1, 0], annot=True, fmt='d', square=True)\n",
    "ax[1, 0].set_title('DTC')\n",
    "ax[1, 0].set_xlabel('Test')\n",
    "ax[1, 0].set_ylabel('Predictions')\n",
    "\n",
    "sns.heatmap(rfc_cm, ax=ax[1, 1], annot=True, fmt='d', square=True)\n",
    "ax[1, 1].set_title('RFC')\n",
    "ax[1, 1].set_xlabel('Test')\n",
    "ax[1, 1].set_ylabel('Predictions')\n",
    "\n",
    "sns.heatmap(knn_cm, ax=ax[2, 0], annot=True, fmt='d', square=True)\n",
    "ax[2, 0].set_title('KNN')\n",
    "ax[2, 0].set_xlabel('Test')\n",
    "ax[2, 0].set_ylabel('Predictions')\n",
    "\n",
    "plt.show()"
   ]
  },
  {
   "cell_type": "markdown",
   "metadata": {},
   "source": [
    "### Conclusion: \n",
    "Base on the confusion matrix diagrams, we can see that Logistic Regression and SVM are the two most effecient models. But Logistic Regression outperforms SVM in term of computation time. Now we can choose the Logistic Regression model and fine tune it."
   ]
  },
  {
   "cell_type": "code",
   "execution_count": null,
   "metadata": {
    "ExecuteTime": {
     "start_time": "2019-08-11T13:15:50.901Z"
    }
   },
   "outputs": [],
   "source": [
    "fig, ax = plt.subplots(1, 2, figsize=[14,7])\n",
    "\n",
    "sns.heatmap(lr_cm, ax=ax[0], annot=True, fmt='d', square=True)\n",
    "ax[0].set_title('LR')\n",
    "ax[0].set_xlabel('Test')\n",
    "ax[0].set_ylabel('Predictions')\n",
    "\n",
    "sns.heatmap(svm_cm, ax=ax[1], annot=True, fmt='d', square=True)\n",
    "ax[1].set_title('SVM')\n",
    "ax[1].set_xlabel('Test')\n",
    "ax[1].set_ylabel('Predictions')\n",
    "\n",
    "plt.show()"
   ]
  },
  {
   "cell_type": "markdown",
   "metadata": {},
   "source": [
    "# Optimization"
   ]
  },
  {
   "cell_type": "markdown",
   "metadata": {},
   "source": [
    "## Parameter Tuning with GridSearchCV\n",
    "We find the best **C** and **n-gram** values for our model.\n",
    "\n",
    "In an n-gram vector, text is represented as a collection of unique n-grams: groups of n adjacent tokens (typically, words). Consider the text The mouse ran up the clock. Here, the word unigrams (n = 1) are ['the', 'mouse', 'ran', 'up', 'clock'], the word bigrams (n = 2) are ['the mouse', 'mouse ran', 'ran up', 'up the', 'the clock'], and so on."
   ]
  },
  {
   "cell_type": "code",
   "execution_count": null,
   "metadata": {
    "ExecuteTime": {
     "start_time": "2019-08-11T13:15:50.904Z"
    }
   },
   "outputs": [],
   "source": [
    "X_train, X_test, y_train, y_test = train_test_split(X, y, test_size=0.25, random_state=101)"
   ]
  },
  {
   "cell_type": "code",
   "execution_count": null,
   "metadata": {
    "ExecuteTime": {
     "start_time": "2019-08-11T13:15:50.906Z"
    }
   },
   "outputs": [],
   "source": [
    "from sklearn.pipeline import Pipeline\n",
    "\n",
    "pipeline = Pipeline([ \n",
    "                      ('tfidf', TfidfVectorizer(tokenizer=tokenizer)),\n",
    "                      ('classifier', LogisticRegression()),  \n",
    "                    ])\n",
    "\n",
    "parameters = {\n",
    "              'tfidf__ngram_range': [(1,1), (1,2), (1,3)],\n",
    "              'classifier__C': (0.1, 1, 1.5, 2, 2.5, 3, 3.5, 4, 5),\n",
    "             }\n",
    "\n",
    "grid = GridSearchCV(pipeline, cv=10, param_grid=parameters)\n",
    "grid.fit(X_train, y_train)"
   ]
  },
  {
   "cell_type": "code",
   "execution_count": null,
   "metadata": {
    "ExecuteTime": {
     "start_time": "2019-08-11T13:15:50.909Z"
    }
   },
   "outputs": [],
   "source": [
    "# summarize results\n",
    "print(\"\\nBest Model: %f using %s\" % (grid.best_score_, grid.best_params_))\n",
    "print('\\n')\n",
    "means = grid.cv_results_['mean_test_score']\n",
    "stds = grid.cv_results_['std_test_score']\n",
    "params = grid.cv_results_['params']\n",
    "for mean, stdev, param in zip(means, stds, params):\n",
    "    print(\"Mean: %f Stdev:(%f) with: %r\" % (mean, stdev, param))"
   ]
  },
  {
   "cell_type": "markdown",
   "metadata": {},
   "source": [
    "## Experiment #1: Lemmatization vs Stemming\n",
    "\n",
    "We make an experiment between lemmatization and stemming to see which one contribute to a better accuracy for our model.\n",
    "\n",
    "**Stemming** usually refers to a crude heuristic process that chops off the ends of words in the hope of achieving this goal correctly most of the time, and often includes the removal of derivational affixes.\n",
    "\n",
    "**Lemmatization** usually refers to doing things properly with the use of a vocabulary and morphological analysis of words, normally aiming to remove inflectional endings only and to return the base or dictionary form of a word, which is known as the lemma\n",
    "\n",
    "For instance:\n",
    "\n",
    "* The word \"better\" has \"good\" as its lemma. This link is missed by stemming, as it requires a dictionary look-up.\n",
    "* The word \"walk\" is the base form for word \"walking\", and hence this is matched in both stemming and lemmatisation.\n",
    "* The word \"meeting\" can be either the base form of a noun or a form of a verb (\"to meet\") depending on the context, e.g., \"in our last meeting\" or \"We are meeting again tomorrow\". Unlike stemming, lemmatisation can in principle select the appropriate lemma depending on the context.\n"
   ]
  },
  {
   "cell_type": "markdown",
   "metadata": {},
   "source": [
    "### Lemmatization: Preprocessing"
   ]
  },
  {
   "cell_type": "code",
   "execution_count": null,
   "metadata": {
    "ExecuteTime": {
     "start_time": "2019-08-11T13:15:50.912Z"
    },
    "scrolled": true
   },
   "outputs": [],
   "source": [
    "nltk.download('wordnet')\n",
    "lemmatizer = WordNetLemmatizer()"
   ]
  },
  {
   "cell_type": "code",
   "execution_count": null,
   "metadata": {
    "ExecuteTime": {
     "start_time": "2019-08-11T13:15:50.914Z"
    }
   },
   "outputs": [],
   "source": [
    "def preprocessor_lemma(text):\n",
    "  text = clean_text(text)\n",
    "  \n",
    "  # Lemmatizing\n",
    "  text = [lemmatizer.lemmatize(token) for token in text.split(\" \")]\n",
    "  text = [lemmatizer.lemmatize(token, \"v\") for token in text]\n",
    "  \n",
    "  # Remove stop words\n",
    "  text = [word for word in text if not word in stop_words]\n",
    "  \n",
    "  text = \" \".join(text)\n",
    "  \n",
    "  return text"
   ]
  },
  {
   "cell_type": "code",
   "execution_count": null,
   "metadata": {
    "ExecuteTime": {
     "start_time": "2019-08-11T13:15:50.916Z"
    }
   },
   "outputs": [],
   "source": [
    "# data.drop(columns='lemma processed review', inplace=True)\n",
    "data.insert(loc = 2, column=\"lemma processed review\", value=\"\")"
   ]
  },
  {
   "cell_type": "code",
   "execution_count": null,
   "metadata": {
    "ExecuteTime": {
     "start_time": "2019-08-11T13:15:50.918Z"
    },
    "scrolled": true
   },
   "outputs": [],
   "source": [
    "data['lemma processed review'] = data['review'].apply(preprocessor_lemma)"
   ]
  },
  {
   "cell_type": "code",
   "execution_count": null,
   "metadata": {
    "ExecuteTime": {
     "start_time": "2019-08-11T13:15:50.921Z"
    }
   },
   "outputs": [],
   "source": [
    "data['lemma processed review word count'] = data['lemma processed review'].apply(word_count)\n",
    "data.head()"
   ]
  },
  {
   "cell_type": "markdown",
   "metadata": {},
   "source": [
    "**The lemmatizing review content looks a bit different than the stemming version**"
   ]
  },
  {
   "cell_type": "markdown",
   "metadata": {},
   "source": [
    "### Lemmatization: Vectorizing, Train - Test Splitting"
   ]
  },
  {
   "cell_type": "code",
   "execution_count": null,
   "metadata": {
    "ExecuteTime": {
     "start_time": "2019-08-11T13:15:50.924Z"
    }
   },
   "outputs": [],
   "source": [
    "X_lemma = data['lemma processed review']\n",
    "X_lemma_train, X_lemma_test, y_lemma_train, y_lemma_test = train_test_split(X_lemma, y, test_size=0.25, random_state=101)"
   ]
  },
  {
   "cell_type": "markdown",
   "metadata": {},
   "source": [
    "#### Parameter Tuning - Find the best max_features\n",
    "As the number of features is increasing when using ngram_range, we wonder what is the most optimized number of features. Hence, we perform GridSearchCV to find out."
   ]
  },
  {
   "cell_type": "code",
   "execution_count": null,
   "metadata": {
    "ExecuteTime": {
     "start_time": "2019-08-11T13:15:50.927Z"
    }
   },
   "outputs": [],
   "source": [
    "pipeline1 = Pipeline([ \n",
    "                      ('tfidf', TfidfVectorizer(sublinear_tf=True,\n",
    "                                                tokenizer=tokenizer,\n",
    "                                                ngram_range=(1, 2))),\n",
    "                      ('classifier', LogisticRegression()),  \n",
    "                    ])\n",
    "\n",
    "parameters = {\n",
    "              'tfidf__max_features': (20000, 25000, 30000, 40000, 50000, 60000, 70000, 80000)\n",
    "             }\n",
    "\n",
    "grid1 = GridSearchCV(pipeline1, cv=10, param_grid=parameters)\n",
    "grid1.fit(X_lemma_train, y_lemma_train)"
   ]
  },
  {
   "cell_type": "code",
   "execution_count": null,
   "metadata": {
    "ExecuteTime": {
     "start_time": "2019-08-11T13:15:50.930Z"
    }
   },
   "outputs": [],
   "source": [
    "# summarize results\n",
    "print(\"\\nBest Model: %f using %s\" % (grid1.best_score_, grid1.best_params_))\n",
    "print('\\n')\n",
    "means = grid1.cv_results_['mean_test_score']\n",
    "stds = grid1.cv_results_['std_test_score']\n",
    "params = grid1.cv_results_['params']\n",
    "for mean, stdev, param in zip(means, stds, params):\n",
    "    print(\"Mean: %f Stdev:(%f) with: %r\" % (mean, stdev, param))"
   ]
  },
  {
   "cell_type": "markdown",
   "metadata": {},
   "source": [
    "We can see that **25000 features is the best performer**, so more features doesn't guarantee better performance."
   ]
  },
  {
   "cell_type": "markdown",
   "metadata": {},
   "source": [
    "#### Vectorizing"
   ]
  },
  {
   "cell_type": "code",
   "execution_count": null,
   "metadata": {
    "ExecuteTime": {
     "start_time": "2019-08-11T13:15:50.934Z"
    }
   },
   "outputs": [],
   "source": [
    "X_lemma = data['review']\n",
    "\n",
    "t0 = time.time()\n",
    "tfidf_lemma = TfidfVectorizer(sublinear_tf=True,\n",
    "                              preprocessor=preprocessor_lemma,\n",
    "                              tokenizer=tokenizer,\n",
    "                              ngram_range=(1, 2),\n",
    "                              max_features= 25000\n",
    "                             )\n",
    "X_tfidf_lemma = tfidf_lemma.fit_transform(X_lemma)\n",
    "t1 = time.time()\n",
    "\n",
    "X_train_tfidf_lemma, X_test_tfidf_lemma, y_train_tfidf_lemma, y_test_tfidf_lemma = train_test_split(X_tfidf_lemma, y, test_size=0.25, random_state=101)\n",
    "t2 = time.time()\n",
    "\n",
    "time_vectorizing_lemma = t1-t0\n",
    "time_splitting_lemma = t2-t1\n",
    "\n",
    "print(\"Vectorizing time: %fs; Splitting time: %fs\" % (time_vectorizing_lemma, time_splitting_lemma))"
   ]
  },
  {
   "cell_type": "markdown",
   "metadata": {},
   "source": [
    "### Lemmatization: Model training and evaluation"
   ]
  },
  {
   "cell_type": "code",
   "execution_count": null,
   "metadata": {
    "ExecuteTime": {
     "start_time": "2019-08-11T13:15:50.937Z"
    }
   },
   "outputs": [],
   "source": [
    "lr_lemma = LogisticRegression(C=5)\n",
    "t0 = time.time()\n",
    "\n",
    "lr_lemma.fit(X_train_tfidf_lemma, y_train_tfidf_lemma)\n",
    "t1 = time.time()\n",
    "\n",
    "lr_lemma_preds = lr_lemma.predict(X_test_tfidf_lemma)\n",
    "t2 = time.time()\n",
    "\n",
    "time_linear_train_lr_lemma = t1-t0\n",
    "time_linear_predict_lr_lemma = t2-t1\n",
    "\n",
    "# results\n",
    "print(\"Training time: %fs; Prediction time: %fs\" % (time_linear_train_lr_lemma, time_linear_predict_lr_lemma))\n",
    "\n",
    "lr_lemma_cm = confusion_matrix(y_test_tfidf_lemma, lr_lemma_preds)\n",
    "lr_lemma_report = classification_report(y_test_tfidf_lemma, lr_lemma_preds)"
   ]
  },
  {
   "cell_type": "code",
   "execution_count": null,
   "metadata": {
    "ExecuteTime": {
     "start_time": "2019-08-11T13:15:50.939Z"
    }
   },
   "outputs": [],
   "source": [
    "print(lr_lemma_cm)\n",
    "print(lr_lemma_report)"
   ]
  },
  {
   "cell_type": "markdown",
   "metadata": {},
   "source": [
    "### Stemming: Train model using tuned parameters"
   ]
  },
  {
   "cell_type": "code",
   "execution_count": null,
   "metadata": {
    "ExecuteTime": {
     "start_time": "2019-08-11T13:15:50.943Z"
    }
   },
   "outputs": [],
   "source": [
    "X_stem = data['review']\n",
    "\n",
    "t0 = time.time()\n",
    "tfidf_stem = TfidfVectorizer(sublinear_tf=True,\n",
    "                              preprocessor=preprocessor_stem,\n",
    "                              tokenizer=tokenizer,\n",
    "                              ngram_range=(1, 2),\n",
    "                              max_features= 25000\n",
    "                             )\n",
    "X_tfidf_stem = tfidf_stem.fit_transform(X_stem)\n",
    "t1 = time.time()\n",
    "\n",
    "X_train_tfidf_stem, X_test_tfidf_stem, y_train_tfidf_stem, y_test_tfidf_stem = train_test_split(X_tfidf_stem, y, test_size=0.25, random_state=101)\n",
    "t2 = time.time()\n",
    "\n",
    "time_vectorizing_lr_stem = t1-t0\n",
    "time_splitting_lr_stem = t2-t1\n",
    "\n",
    "print(\"Vectorizing time: %fs; Splitting time: %fs\" % (time_vectorizing_lr_stem, time_splitting_lr_stem))\n",
    "\n",
    "lr_stem = LogisticRegression(C=5)\n",
    "t0 = time.time()\n",
    "\n",
    "lr_stem.fit(X_train_tfidf_stem, y_train_tfidf_stem)\n",
    "t1 = time.time()\n",
    "\n",
    "lr_stem_preds = lr_stem.predict(X_test_tfidf_stem)\n",
    "t2 = time.time()\n",
    "\n",
    "time_linear_train_lr_stem = t1-t0\n",
    "time_linear_predict_lr_stem = t2-t1\n",
    "\n",
    "# results\n",
    "print(\"Training time: %fs; Prediction time: %fs\" % (time_linear_train_lr_stem, time_linear_predict_lr_stem))\n",
    "\n",
    "lr_stem_cm = confusion_matrix(y_test_tfidf_stem, lr_stem_preds)\n",
    "lr_stem_report = classification_report(y_test_tfidf_stem, lr_stem_preds)"
   ]
  },
  {
   "cell_type": "code",
   "execution_count": null,
   "metadata": {
    "ExecuteTime": {
     "start_time": "2019-08-11T13:15:50.946Z"
    }
   },
   "outputs": [],
   "source": [
    "print(lr_stem_cm)\n",
    "print(lr_stem_report)"
   ]
  },
  {
   "cell_type": "markdown",
   "metadata": {},
   "source": [
    "### Validating using K-Fold CV\n",
    "Finally, to make sure that our train models are not biased by the dataset, we use K-Fold CV to validate them."
   ]
  },
  {
   "cell_type": "code",
   "execution_count": null,
   "metadata": {
    "ExecuteTime": {
     "start_time": "2019-08-11T13:15:50.949Z"
    }
   },
   "outputs": [],
   "source": [
    "lr_lemma_scores = cross_val_score(lr_lemma, X_train_tfidf_lemma, y_train_tfidf_lemma, cv=10)"
   ]
  },
  {
   "cell_type": "code",
   "execution_count": null,
   "metadata": {
    "ExecuteTime": {
     "start_time": "2019-08-11T13:15:50.952Z"
    }
   },
   "outputs": [],
   "source": [
    "lr_stem_scores = cross_val_score(lr_stem, X_train_tfidf_stem, y_train_tfidf_stem, cv=10)"
   ]
  },
  {
   "cell_type": "code",
   "execution_count": null,
   "metadata": {
    "ExecuteTime": {
     "start_time": "2019-08-11T13:15:50.954Z"
    }
   },
   "outputs": [],
   "source": [
    "lr_lemma_scores.mean()"
   ]
  },
  {
   "cell_type": "code",
   "execution_count": null,
   "metadata": {
    "ExecuteTime": {
     "start_time": "2019-08-11T13:15:50.956Z"
    }
   },
   "outputs": [],
   "source": [
    "lr_stem_scores.mean()"
   ]
  },
  {
   "cell_type": "markdown",
   "metadata": {},
   "source": [
    "### Conclusion\n",
    "Lemmatization improves our model over Stemming, but not significantly."
   ]
  },
  {
   "cell_type": "code",
   "execution_count": null,
   "metadata": {
    "ExecuteTime": {
     "start_time": "2019-08-11T13:15:50.959Z"
    }
   },
   "outputs": [],
   "source": [
    "fig, ax = plt.subplots(1, 2, figsize=[14,7])\n",
    "\n",
    "sns.heatmap(lr_lemma_cm, ax=ax[0], annot=True, fmt='d', square=True)\n",
    "ax[0].set_title('LR LEMMA')\n",
    "ax[0].set_xlabel('Test')\n",
    "ax[0].set_ylabel('Predictions')\n",
    "\n",
    "sns.heatmap(lr_stem_cm, ax=ax[1], annot=True, fmt='d', square=True)\n",
    "ax[1].set_title('LR STEM')\n",
    "ax[1].set_xlabel('Test')\n",
    "ax[1].set_ylabel('Predictions')\n",
    "\n",
    "plt.show()"
   ]
  },
  {
   "cell_type": "markdown",
   "metadata": {},
   "source": [
    "### Save trained model: tuned mode"
   ]
  },
  {
   "cell_type": "code",
   "execution_count": null,
   "metadata": {
    "ExecuteTime": {
     "start_time": "2019-08-11T13:15:50.962Z"
    }
   },
   "outputs": [],
   "source": [
    "pickle.dump(lr_lemma, open(os.path.join('models', 'Model_LR_imdb_tuned_f1-91_recall-92.pkl'), 'wb'), protocol=4)"
   ]
  },
  {
   "cell_type": "code",
   "execution_count": null,
   "metadata": {
    "ExecuteTime": {
     "start_time": "2019-08-11T13:15:50.964Z"
    }
   },
   "outputs": [],
   "source": [
    "svm1 = SVC(kernel='linear', C=6)\n",
    "\n",
    "t0 = time.time()\n",
    "svm1.fit(X_train_tfidf_lemma, y_train_tfidf_lemma)\n",
    "t1 = time.time()\n",
    "\n",
    "svm1_preds = svm1.predict(X_test_tfidf_lemma)\n",
    "t2 = time.time()\n",
    "\n",
    "time_svm_train1 = t1-t0\n",
    "time_svm_predict1 = t2-t1\n",
    "\n",
    "# results\n",
    "print(\"Training time: %fs; Prediction time: %fs\" % (time_svm_train1, time_svm_predict1))\n",
    "\n",
    "svm1_cm = confusion_matrix(y_test_tfidf_lemma, svm1_preds)\n",
    "svm1_report = classification_report(y_test_tfidf_lemma, svm1_preds)"
   ]
  },
  {
   "cell_type": "code",
   "execution_count": null,
   "metadata": {
    "ExecuteTime": {
     "start_time": "2019-08-11T13:15:50.966Z"
    }
   },
   "outputs": [],
   "source": [
    "print(svm1_cm)\n",
    "print(svm1_report)"
   ]
  },
  {
   "cell_type": "markdown",
   "metadata": {},
   "source": [
    "## Investigate wrong predictions"
   ]
  },
  {
   "cell_type": "code",
   "execution_count": null,
   "metadata": {
    "ExecuteTime": {
     "start_time": "2019-08-11T13:15:50.969Z"
    }
   },
   "outputs": [],
   "source": [
    "wrong_predictions_filter = lr_lemma_preds != y_test_tfidf_lemma"
   ]
  },
  {
   "cell_type": "code",
   "execution_count": null,
   "metadata": {
    "ExecuteTime": {
     "start_time": "2019-08-11T13:15:50.972Z"
    }
   },
   "outputs": [],
   "source": [
    "lr_lemma_preds[wrong_predictions_filter]"
   ]
  },
  {
   "cell_type": "code",
   "execution_count": null,
   "metadata": {
    "ExecuteTime": {
     "start_time": "2019-08-11T13:15:50.974Z"
    }
   },
   "outputs": [],
   "source": [
    "y_test_tfidf_lemma[wrong_predictions_filter]"
   ]
  },
  {
   "cell_type": "code",
   "execution_count": null,
   "metadata": {
    "ExecuteTime": {
     "start_time": "2019-08-11T13:15:50.977Z"
    }
   },
   "outputs": [],
   "source": [
    "y_test_tfidf_lemma[wrong_predictions_filter].index"
   ]
  },
  {
   "cell_type": "code",
   "execution_count": null,
   "metadata": {
    "ExecuteTime": {
     "start_time": "2019-08-11T13:15:50.980Z"
    }
   },
   "outputs": [],
   "source": [
    "index = 0\n",
    "print('Predictions:', lr_lemma_preds[wrong_predictions_filter][index])\n",
    "print('Actual:', y_test_tfidf_lemma[wrong_predictions_filter].iloc[index])\n",
    "print('Actual Index:', y_test_tfidf_lemma[wrong_predictions_filter].index[index])\n",
    "print('Review:', data.iloc[y_test_tfidf_lemma[wrong_predictions_filter].index[index]]['lemma processed review'])"
   ]
  },
  {
   "cell_type": "markdown",
   "metadata": {},
   "source": [
    "## TODO: Implement Light GBM"
   ]
  },
  {
   "cell_type": "code",
   "execution_count": null,
   "metadata": {},
   "outputs": [],
   "source": []
  },
  {
   "cell_type": "markdown",
   "metadata": {},
   "source": [
    "## TODO: Conclusion"
   ]
  },
  {
   "cell_type": "code",
   "execution_count": null,
   "metadata": {},
   "outputs": [],
   "source": []
  }
 ],
 "metadata": {
  "kernelspec": {
   "display_name": "Python 3",
   "language": "python",
   "name": "python3"
  },
  "language_info": {
   "codemirror_mode": {
    "name": "ipython",
    "version": 3
   },
   "file_extension": ".py",
   "mimetype": "text/x-python",
   "name": "python",
   "nbconvert_exporter": "python",
   "pygments_lexer": "ipython3",
   "version": "3.7.3"
  },
  "toc": {
   "base_numbering": 1,
   "nav_menu": {},
   "number_sections": true,
   "sideBar": true,
   "skip_h1_title": false,
   "title_cell": "Table of Contents",
   "title_sidebar": "Contents",
   "toc_cell": false,
   "toc_position": {
    "height": "calc(100% - 180px)",
    "left": "10px",
    "top": "150px",
    "width": "288px"
   },
   "toc_section_display": true,
   "toc_window_display": true
  },
  "varInspector": {
   "cols": {
    "lenName": 16,
    "lenType": 16,
    "lenVar": 40
   },
   "kernels_config": {
    "python": {
     "delete_cmd_postfix": "",
     "delete_cmd_prefix": "del ",
     "library": "var_list.py",
     "varRefreshCmd": "print(var_dic_list())"
    },
    "r": {
     "delete_cmd_postfix": ") ",
     "delete_cmd_prefix": "rm(",
     "library": "var_list.r",
     "varRefreshCmd": "cat(var_dic_list()) "
    }
   },
   "oldHeight": 478,
   "position": {
    "height": "40px",
    "left": "1090px",
    "right": "20px",
    "top": "81px",
    "width": "350px"
   },
   "types_to_exclude": [
    "module",
    "function",
    "builtin_function_or_method",
    "instance",
    "_Feature"
   ],
   "varInspector_section_display": "none",
   "window_display": true
  }
 },
 "nbformat": 4,
 "nbformat_minor": 2
}
