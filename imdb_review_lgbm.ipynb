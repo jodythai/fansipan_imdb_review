{
 "cells": [
  {
   "cell_type": "markdown",
   "metadata": {},
   "source": [
    "[Bag of Words Meets Bags of Popcorn](https://www.kaggle.com/c/word2vec-nlp-tutorial/data)\n",
    "======\n",
    "\n",
    "## Data Set\n",
    "\n",
    "The labeled data set consists of 25,000 IMDB movie reviews, specially selected for sentiment analysis. The sentiment of reviews is binary, meaning the IMDB rating < 5 results in a sentiment score of 0, and rating >=7 have a sentiment score of 1. No individual movie has more than 30 reviews. The 25,000 review labeled training set does not include any of the same movies as the review test set.\n",
    "\n",
    "## File descriptions\n",
    "\n",
    "labeledTrainData - The labeled training set. The file is tab-delimited and has a header row followed by 25,000 rows containing an id, sentiment, and text for each review.\n",
    "\n",
    "## Data fields\n",
    "\n",
    "* id - Unique ID of each review\n",
    "* sentiment - Sentiment of the review; 1 for positive reviews and 0 for negative reviews\n",
    "* review - Text of the review\n",
    "\n",
    "## Objective\n",
    "Objective of this dataset is base on **review** we predict the **sentiment** (positive or negative).\n",
    "\n",
    "## What we did\n",
    "1. Load Dataset and perform EDA \n",
    "2. Train model on Logistic Regression, Decision Tree, Random Forest, KNN and Support Vector Machine. Compare the report to select the most efficient one.\n",
    "3. Tune the selected model to achieve higher accuracy.\n",
    "4. Validate the model on K-Fold CV\n",
    "5. Predict the Test data and save the result\n",
    "\n",
    "## Predicted Result\n",
    "[Download Here](https://drive.google.com/file/d/15IEUPcU5f0R3YjjTh9sYNwGDkG54WrUK/view?usp=sharing)"
   ]
  },
  {
   "cell_type": "markdown",
   "metadata": {},
   "source": [
    "## Load Dataset and EDA"
   ]
  },
  {
   "cell_type": "code",
   "execution_count": 1,
   "metadata": {
    "ExecuteTime": {
     "end_time": "2019-08-11T13:15:52.215235Z",
     "start_time": "2019-08-11T13:15:50.800736Z"
    }
   },
   "outputs": [],
   "source": [
    "# Import necessary libraries\n",
    "import time\n",
    "import numpy as np\n",
    "import pandas as pd\n",
    "import seaborn as sns\n",
    "import matplotlib.pyplot as plt\n",
    "import re\n",
    "import pickle\n",
    "import os\n",
    "import nltk\n",
    "from nltk.stem import PorterStemmer\n",
    "from nltk.stem import WordNetLemmatizer\n",
    "from collections import Counter\n",
    "from scipy.sparse import hstack\n",
    "from sklearn.feature_extraction.text import CountVectorizer\n",
    "from sklearn.model_selection import train_test_split\n",
    "from sklearn.feature_extraction.text import TfidfVectorizer\n",
    "from sklearn.metrics import accuracy_score, classification_report, confusion_matrix\n",
    "from sklearn.linear_model import LogisticRegression\n",
    "from sklearn.tree import DecisionTreeClassifier\n",
    "from sklearn.ensemble import RandomForestClassifier\n",
    "from sklearn.neighbors import KNeighborsClassifier\n",
    "from sklearn.svm import SVC\n",
    "from sklearn.model_selection import GridSearchCV\n",
    "from sklearn.model_selection import cross_val_score\n",
    "import warnings\n",
    "warnings.filterwarnings('ignore')"
   ]
  },
  {
   "cell_type": "code",
   "execution_count": 2,
   "metadata": {
    "ExecuteTime": {
     "end_time": "2019-08-11T13:15:52.529374Z",
     "start_time": "2019-08-11T13:15:52.217504Z"
    }
   },
   "outputs": [],
   "source": [
    "# Load dataset\n",
    "data = pd.read_csv('./data/movie_review.csv', sep='\\t', encoding='latin-1')"
   ]
  },
  {
   "cell_type": "code",
   "execution_count": 3,
   "metadata": {
    "ExecuteTime": {
     "end_time": "2019-08-11T13:15:52.579928Z",
     "start_time": "2019-08-11T13:15:52.531996Z"
    }
   },
   "outputs": [
    {
     "data": {
      "text/html": [
       "<div>\n",
       "<style scoped>\n",
       "    .dataframe tbody tr th:only-of-type {\n",
       "        vertical-align: middle;\n",
       "    }\n",
       "\n",
       "    .dataframe tbody tr th {\n",
       "        vertical-align: top;\n",
       "    }\n",
       "\n",
       "    .dataframe thead th {\n",
       "        text-align: right;\n",
       "    }\n",
       "</style>\n",
       "<table border=\"1\" class=\"dataframe\">\n",
       "  <thead>\n",
       "    <tr style=\"text-align: right;\">\n",
       "      <th></th>\n",
       "      <th>id</th>\n",
       "      <th>review</th>\n",
       "      <th>sentiment</th>\n",
       "    </tr>\n",
       "  </thead>\n",
       "  <tbody>\n",
       "    <tr>\n",
       "      <th>0</th>\n",
       "      <td>5814_8</td>\n",
       "      <td>With all this stuff going down at the moment w...</td>\n",
       "      <td>1</td>\n",
       "    </tr>\n",
       "    <tr>\n",
       "      <th>1</th>\n",
       "      <td>2381_9</td>\n",
       "      <td>\\The Classic War of the Worlds\\\" by Timothy Hi...</td>\n",
       "      <td>1</td>\n",
       "    </tr>\n",
       "    <tr>\n",
       "      <th>2</th>\n",
       "      <td>7759_3</td>\n",
       "      <td>The film starts with a manager (Nicholas Bell)...</td>\n",
       "      <td>0</td>\n",
       "    </tr>\n",
       "    <tr>\n",
       "      <th>3</th>\n",
       "      <td>3630_4</td>\n",
       "      <td>It must be assumed that those who praised this...</td>\n",
       "      <td>0</td>\n",
       "    </tr>\n",
       "    <tr>\n",
       "      <th>4</th>\n",
       "      <td>9495_8</td>\n",
       "      <td>Superbly trashy and wondrously unpretentious 8...</td>\n",
       "      <td>1</td>\n",
       "    </tr>\n",
       "  </tbody>\n",
       "</table>\n",
       "</div>"
      ],
      "text/plain": [
       "       id                                             review  sentiment\n",
       "0  5814_8  With all this stuff going down at the moment w...          1\n",
       "1  2381_9  \\The Classic War of the Worlds\\\" by Timothy Hi...          1\n",
       "2  7759_3  The film starts with a manager (Nicholas Bell)...          0\n",
       "3  3630_4  It must be assumed that those who praised this...          0\n",
       "4  9495_8  Superbly trashy and wondrously unpretentious 8...          1"
      ]
     },
     "execution_count": 3,
     "metadata": {},
     "output_type": "execute_result"
    }
   ],
   "source": [
    "data.head()"
   ]
  },
  {
   "cell_type": "code",
   "execution_count": 4,
   "metadata": {
    "ExecuteTime": {
     "end_time": "2019-08-11T13:15:52.594312Z",
     "start_time": "2019-08-11T13:15:52.582183Z"
    }
   },
   "outputs": [
    {
     "name": "stdout",
     "output_type": "stream",
     "text": [
      "<class 'pandas.core.frame.DataFrame'>\n",
      "RangeIndex: 22500 entries, 0 to 22499\n",
      "Data columns (total 3 columns):\n",
      "id           22500 non-null object\n",
      "review       22500 non-null object\n",
      "sentiment    22500 non-null int64\n",
      "dtypes: int64(1), object(2)\n",
      "memory usage: 527.4+ KB\n"
     ]
    }
   ],
   "source": [
    "data.info()"
   ]
  },
  {
   "cell_type": "code",
   "execution_count": 5,
   "metadata": {
    "ExecuteTime": {
     "end_time": "2019-08-11T13:15:52.601675Z",
     "start_time": "2019-08-11T13:15:52.596704Z"
    }
   },
   "outputs": [],
   "source": [
    "data.drop(['id'], axis=1, inplace=True)"
   ]
  },
  {
   "cell_type": "code",
   "execution_count": 6,
   "metadata": {
    "ExecuteTime": {
     "end_time": "2019-08-11T13:15:52.611150Z",
     "start_time": "2019-08-11T13:15:52.603408Z"
    }
   },
   "outputs": [
    {
     "data": {
      "text/plain": [
       "review       0\n",
       "sentiment    0\n",
       "dtype: int64"
      ]
     },
     "execution_count": 6,
     "metadata": {},
     "output_type": "execute_result"
    }
   ],
   "source": [
    "data.isnull().sum()"
   ]
  },
  {
   "cell_type": "code",
   "execution_count": 7,
   "metadata": {
    "ExecuteTime": {
     "end_time": "2019-08-11T13:15:52.623779Z",
     "start_time": "2019-08-11T13:15:52.613393Z"
    }
   },
   "outputs": [
    {
     "data": {
      "text/plain": [
       "review       11278\n",
       "sentiment    11278\n",
       "dtype: int64"
      ]
     },
     "execution_count": 7,
     "metadata": {},
     "output_type": "execute_result"
    }
   ],
   "source": [
    "# how many possitive and negative labels?\n",
    "data[data['sentiment'] == 1].count()"
   ]
  },
  {
   "cell_type": "markdown",
   "metadata": {},
   "source": [
    "#### Classes distribution in the dataset"
   ]
  },
  {
   "cell_type": "code",
   "execution_count": 8,
   "metadata": {
    "ExecuteTime": {
     "end_time": "2019-08-11T13:15:52.809552Z",
     "start_time": "2019-08-11T13:15:52.627639Z"
    }
   },
   "outputs": [
    {
     "data": {
      "image/png": "[encoded data removed]",
      "text/plain": [
       "<Figure size 432x288 with 1 Axes>"
      ]
     },
     "metadata": {
      "needs_background": "light"
     },
     "output_type": "display_data"
    },
    {
     "name": "stdout",
     "output_type": "stream",
     "text": [
      "Positive: 11278 - Negative: 11222\n"
     ]
    }
   ],
   "source": [
    "# how many possitive and negative labels?\n",
    "plt.hist(data[data.sentiment == 1].sentiment,\n",
    "         bins=2, color='green', label='Positive')\n",
    "plt.hist(data[data.sentiment == 0].sentiment,\n",
    "         bins=2, color='blue', label='Negative')\n",
    "plt.title('Classes distribution in the train data')\n",
    "plt.xticks([data[data.sentiment == 1].sentiment.count(), data[data.sentiment == 0].sentiment.count()])\n",
    "plt.xlim(-0.5, 2)\n",
    "plt.legend()\n",
    "plt.show()\n",
    "print('Positive: {} - Negative: {}'.format(data[data.sentiment == 1].sentiment.count(), data[data.sentiment == 0].sentiment.count()))"
   ]
  },
  {
   "cell_type": "code",
   "execution_count": 9,
   "metadata": {
    "ExecuteTime": {
     "end_time": "2019-08-11T13:15:53.180491Z",
     "start_time": "2019-08-11T13:15:52.811637Z"
    }
   },
   "outputs": [],
   "source": [
    "# get a word count per sentence column\n",
    "def word_count(sentence):\n",
    "    return len(sentence.split())\n",
    "    \n",
    "data['word count'] = data['review'].apply(word_count)"
   ]
  },
  {
   "cell_type": "code",
   "execution_count": 10,
   "metadata": {
    "ExecuteTime": {
     "end_time": "2019-08-11T13:15:53.191638Z",
     "start_time": "2019-08-11T13:15:53.182805Z"
    }
   },
   "outputs": [
    {
     "data": {
      "text/html": [
       "<div>\n",
       "<style scoped>\n",
       "    .dataframe tbody tr th:only-of-type {\n",
       "        vertical-align: middle;\n",
       "    }\n",
       "\n",
       "    .dataframe tbody tr th {\n",
       "        vertical-align: top;\n",
       "    }\n",
       "\n",
       "    .dataframe thead th {\n",
       "        text-align: right;\n",
       "    }\n",
       "</style>\n",
       "<table border=\"1\" class=\"dataframe\">\n",
       "  <thead>\n",
       "    <tr style=\"text-align: right;\">\n",
       "      <th></th>\n",
       "      <th>review</th>\n",
       "      <th>sentiment</th>\n",
       "      <th>word count</th>\n",
       "    </tr>\n",
       "  </thead>\n",
       "  <tbody>\n",
       "    <tr>\n",
       "      <th>0</th>\n",
       "      <td>With all this stuff going down at the moment w...</td>\n",
       "      <td>1</td>\n",
       "      <td>433</td>\n",
       "    </tr>\n",
       "    <tr>\n",
       "      <th>1</th>\n",
       "      <td>\\The Classic War of the Worlds\\\" by Timothy Hi...</td>\n",
       "      <td>1</td>\n",
       "      <td>158</td>\n",
       "    </tr>\n",
       "    <tr>\n",
       "      <th>2</th>\n",
       "      <td>The film starts with a manager (Nicholas Bell)...</td>\n",
       "      <td>0</td>\n",
       "      <td>378</td>\n",
       "    </tr>\n",
       "    <tr>\n",
       "      <th>3</th>\n",
       "      <td>It must be assumed that those who praised this...</td>\n",
       "      <td>0</td>\n",
       "      <td>379</td>\n",
       "    </tr>\n",
       "    <tr>\n",
       "      <th>4</th>\n",
       "      <td>Superbly trashy and wondrously unpretentious 8...</td>\n",
       "      <td>1</td>\n",
       "      <td>367</td>\n",
       "    </tr>\n",
       "  </tbody>\n",
       "</table>\n",
       "</div>"
      ],
      "text/plain": [
       "                                              review  sentiment  word count\n",
       "0  With all this stuff going down at the moment w...          1         433\n",
       "1  \\The Classic War of the Worlds\\\" by Timothy Hi...          1         158\n",
       "2  The film starts with a manager (Nicholas Bell)...          0         378\n",
       "3  It must be assumed that those who praised this...          0         379\n",
       "4  Superbly trashy and wondrously unpretentious 8...          1         367"
      ]
     },
     "execution_count": 10,
     "metadata": {},
     "output_type": "execute_result"
    }
   ],
   "source": [
    "data.head(5)"
   ]
  },
  {
   "cell_type": "markdown",
   "metadata": {},
   "source": [
    "#### Word count distribution"
   ]
  },
  {
   "cell_type": "code",
   "execution_count": 11,
   "metadata": {
    "ExecuteTime": {
     "end_time": "2019-08-11T13:15:53.443831Z",
     "start_time": "2019-08-11T13:15:53.193367Z"
    }
   },
   "outputs": [
    {
     "data": {
      "image/png": "[encoded data removed]",
      "text/plain": [
       "<Figure size 864x432 with 1 Axes>"
      ]
     },
     "metadata": {
      "needs_background": "light"
     },
     "output_type": "display_data"
    }
   ],
   "source": [
    "# plot word count distribution for both positive and negative sentiments\n",
    "x = data['word count'][data.sentiment == 1]\n",
    "y = data['word count'][data.sentiment == 0]\n",
    "plt.figure(figsize=(12,6))\n",
    "plt.xlim(0,1000)\n",
    "plt.xlabel('word count')\n",
    "plt.ylabel('frequency')\n",
    "g = plt.hist([x, y], color=['r','b'], alpha=0.5, label=['positive','negative'])\n",
    "plt.legend(loc='upper right')\n",
    "plt.title(\"Word Count distribution for positive and negative sentiments\")\n",
    "plt.show()"
   ]
  },
  {
   "cell_type": "markdown",
   "metadata": {},
   "source": [
    "#### Most common words "
   ]
  },
  {
   "cell_type": "code",
   "execution_count": 124,
   "metadata": {
    "ExecuteTime": {
     "end_time": "2019-08-11T16:33:23.985205Z",
     "start_time": "2019-08-11T16:33:21.145002Z"
    }
   },
   "outputs": [
    {
     "data": {
      "text/plain": [
       "[('the', 290182),\n",
       " ('a', 144051),\n",
       " ('and', 142724),\n",
       " ('of', 130112),\n",
       " ('to', 120539),\n",
       " ('is', 93742),\n",
       " ('in', 81699),\n",
       " ('i', 63363),\n",
       " ('this', 62661),\n",
       " ('that', 59553),\n",
       " ('it', 58825),\n",
       " ('/><br', 45851),\n",
       " ('was', 42295),\n",
       " ('as', 40642),\n",
       " ('for', 38520),\n",
       " ('with', 38406),\n",
       " ('but', 35782),\n",
       " ('on', 28508),\n",
       " ('movie', 27684),\n",
       " ('his', 26285)]"
      ]
     },
     "execution_count": 124,
     "metadata": {},
     "output_type": "execute_result"
    }
   ],
   "source": [
    "# get most common words in training dataset\n",
    "all_words = []\n",
    "for line in list(data['review']):\n",
    "    words = line.split()\n",
    "    for word in words:\n",
    "        all_words.append(word.lower())\n",
    "\n",
    "Counter(all_words).most_common(20)"
   ]
  },
  {
   "cell_type": "markdown",
   "metadata": {},
   "source": [
    "## Preprocessing"
   ]
  },
  {
   "cell_type": "code",
   "execution_count": 123,
   "metadata": {
    "ExecuteTime": {
     "end_time": "2019-08-11T16:33:13.055013Z",
     "start_time": "2019-08-11T16:33:13.049483Z"
    }
   },
   "outputs": [],
   "source": [
    "# We only pick the most common words from the list above as stop words \n",
    "# because the list of full english stop words from nltk seem to be too expansive\n",
    "# and tend to decrease our model performance.\n",
    "stop_words = ['the', 'a', 'and', 'of', 'to', 'is', 'in', 'i']"
   ]
  },
  {
   "cell_type": "code",
   "execution_count": 14,
   "metadata": {
    "ExecuteTime": {
     "end_time": "2019-08-11T13:15:56.048163Z",
     "start_time": "2019-08-11T13:15:55.974402Z"
    }
   },
   "outputs": [],
   "source": [
    "# Remove special characters, html tags and \"trash\"\n",
    "def clean_text(text):\n",
    "  # remove HTML markup\n",
    "  text = re.sub('<[^>]*>', '', text)\n",
    "  \n",
    "  # Save emoticons for later appending\n",
    "  emoticons = re.findall('(?::|;|=)(?:-)?(?:\\)|\\(|D|P)', text)\n",
    "  # Now remove emoticons\n",
    "  text = re.sub('(?::|;|=)(?:-)?(?:\\)|\\(|D|P)', '', text)\n",
    "  \n",
    "  # Remove some special characters\n",
    "  text = re.sub('Ã\\x82Â¨', '', text)\n",
    "  \n",
    "  # Save number in 1,000 or 1.000 formats for later appending\n",
    "  numbers = re.findall(r'(?<!,)\\b(\\d{1,3}(?:[.,]\\d{3})*)\\b(?!,)', text)\n",
    "  # Now remove numbers\n",
    "  text = re.sub(r'(?<!,)\\b(\\d{1,3}(?:[.,]\\d{3})*)\\b(?!,)', '', text)\n",
    "  \n",
    "  # Remove any non-word character and append the emoticons,\n",
    "  # removing the nose character for standardization. Convert to lower case\n",
    "  text = (re.sub('[\\W]+', ' ', text.lower()))\n",
    "  \n",
    "  # Remove words with 2 or fewer letters\n",
    "#   text = re.sub(r'\\b\\w{1,2}\\b', '', text)\n",
    "  \n",
    "  # Remove whitespace (including new line characters)\n",
    "  text = re.sub(r'\\s\\s+', ' ', text)\n",
    "  \n",
    "  # Remove single space remaining.\n",
    "  text = text.strip(' ') \n",
    "  \n",
    "  # Remove characters beyond Basic Multilingual Plane (BMP) of Unicode:\n",
    "  text = ''.join(c for c in text if c <= '\\uFFFF') \n",
    "  \n",
    "  # rejoin emoticons & numbers\n",
    "  text = text + ' ' + ' '.join(emoticons).replace('-', '') + ' ' + ' '.join(numbers).replace('.', '').replace(',', '')\n",
    "  \n",
    "  return text\n",
    "\n",
    "  \n",
    "# Tokenizer and Stemming\n",
    "# tokenizer: to break down our twits in individual words\n",
    "# stemming: reducing a word to its root\n",
    "porter = PorterStemmer()\n",
    "\n",
    "def preprocessor_stem(text):\n",
    "  \n",
    "  text = clean_text(text)\n",
    "  # stemming\n",
    "  text = [porter.stem(word) for word in text.split()]\n",
    "  # Remove stop words\n",
    "  text = [word for word in text if not word in stop_words]\n",
    "  text = \" \".join(text)\n",
    "  return text\n",
    "  \n",
    "def tokenizer(text):\n",
    "  return [word for word in text.split()]"
   ]
  },
  {
   "cell_type": "code",
   "execution_count": 15,
   "metadata": {
    "ExecuteTime": {
     "end_time": "2019-08-11T13:15:56.055870Z",
     "start_time": "2019-08-11T13:15:56.050335Z"
    }
   },
   "outputs": [
    {
     "name": "stdout",
     "output_type": "stream",
     "text": [
      "yeah i love loving loved loovveee this one so much him bc 2006 blah jurassik park :D =) 10000\n"
     ]
    }
   ],
   "source": [
    "# Test clean text\n",
    "string = 'Yeah :-D I love loving loved loovveee this one so much him =) Ã\\x82Â¨10.000 BC(2006)Ã\\x82Â¨ !@#% Blah #()@...,<,<> Ã\\x82Â¨Jurassik ParkÃ\\x82Â¨'\n",
    "string = clean_text(string)\n",
    "print(string)"
   ]
  },
  {
   "cell_type": "code",
   "execution_count": 16,
   "metadata": {
    "ExecuteTime": {
     "end_time": "2019-08-11T13:15:56.063978Z",
     "start_time": "2019-08-11T13:15:56.059448Z"
    }
   },
   "outputs": [
    {
     "name": "stdout",
     "output_type": "stream",
     "text": [
      "['yeah', 'love', 'love', 'love', 'loovvee', 'thi', 'one', 'so', 'much', 'him', 'bc', '2006', 'blah', 'jurassik', 'park', '10000', ':D', '=)']\n"
     ]
    }
   ],
   "source": [
    "# Test clean text with stemming\n",
    "string_token = preprocessor_stem(string)\n",
    "print(tokenizer(string_token))"
   ]
  },
  {
   "cell_type": "code",
   "execution_count": 17,
   "metadata": {
    "ExecuteTime": {
     "end_time": "2019-08-11T13:15:56.072696Z",
     "start_time": "2019-08-11T13:15:56.065950Z"
    }
   },
   "outputs": [],
   "source": [
    "# data.drop(columns='stem processed review', inplace=True)\n",
    "data.insert(loc = 1, column=\"stem processed review\", value=\"\")"
   ]
  },
  {
   "cell_type": "code",
   "execution_count": 18,
   "metadata": {
    "ExecuteTime": {
     "end_time": "2019-08-11T13:17:35.407747Z",
     "start_time": "2019-08-11T13:15:56.075312Z"
    }
   },
   "outputs": [],
   "source": [
    "data['stem processed review'] = data['review'].apply(preprocessor_stem)"
   ]
  },
  {
   "cell_type": "code",
   "execution_count": 19,
   "metadata": {
    "ExecuteTime": {
     "end_time": "2019-08-11T13:17:35.714240Z",
     "start_time": "2019-08-11T13:17:35.409661Z"
    }
   },
   "outputs": [],
   "source": [
    "data['stem processed review word count'] = data['stem processed review'].apply(word_count)"
   ]
  },
  {
   "cell_type": "code",
   "execution_count": 20,
   "metadata": {
    "ExecuteTime": {
     "end_time": "2019-08-11T13:17:35.725194Z",
     "start_time": "2019-08-11T13:17:35.716046Z"
    }
   },
   "outputs": [
    {
     "data": {
      "text/html": [
       "<div>\n",
       "<style scoped>\n",
       "    .dataframe tbody tr th:only-of-type {\n",
       "        vertical-align: middle;\n",
       "    }\n",
       "\n",
       "    .dataframe tbody tr th {\n",
       "        vertical-align: top;\n",
       "    }\n",
       "\n",
       "    .dataframe thead th {\n",
       "        text-align: right;\n",
       "    }\n",
       "</style>\n",
       "<table border=\"1\" class=\"dataframe\">\n",
       "  <thead>\n",
       "    <tr style=\"text-align: right;\">\n",
       "      <th></th>\n",
       "      <th>review</th>\n",
       "      <th>stem processed review</th>\n",
       "      <th>sentiment</th>\n",
       "      <th>word count</th>\n",
       "      <th>stem processed review word count</th>\n",
       "    </tr>\n",
       "  </thead>\n",
       "  <tbody>\n",
       "    <tr>\n",
       "      <th>0</th>\n",
       "      <td>With all this stuff going down at the moment w...</td>\n",
       "      <td>with all thi stuff go down at moment with mj v...</td>\n",
       "      <td>1</td>\n",
       "      <td>433</td>\n",
       "      <td>349</td>\n",
       "    </tr>\n",
       "    <tr>\n",
       "      <th>1</th>\n",
       "      <td>\\The Classic War of the Worlds\\\" by Timothy Hi...</td>\n",
       "      <td>classic war world by timothi hine veri enterta...</td>\n",
       "      <td>1</td>\n",
       "      <td>158</td>\n",
       "      <td>131</td>\n",
       "    </tr>\n",
       "    <tr>\n",
       "      <th>2</th>\n",
       "      <td>The film starts with a manager (Nicholas Bell)...</td>\n",
       "      <td>film start with manag nichola bell give welcom...</td>\n",
       "      <td>0</td>\n",
       "      <td>378</td>\n",
       "      <td>306</td>\n",
       "    </tr>\n",
       "    <tr>\n",
       "      <th>3</th>\n",
       "      <td>It must be assumed that those who praised this...</td>\n",
       "      <td>it must be assum that those who prais thi film...</td>\n",
       "      <td>0</td>\n",
       "      <td>379</td>\n",
       "      <td>293</td>\n",
       "    </tr>\n",
       "    <tr>\n",
       "      <th>4</th>\n",
       "      <td>Superbly trashy and wondrously unpretentious 8...</td>\n",
       "      <td>superbl trashi wondrous unpretenti s exploit h...</td>\n",
       "      <td>1</td>\n",
       "      <td>367</td>\n",
       "      <td>318</td>\n",
       "    </tr>\n",
       "  </tbody>\n",
       "</table>\n",
       "</div>"
      ],
      "text/plain": [
       "                                              review  \\\n",
       "0  With all this stuff going down at the moment w...   \n",
       "1  \\The Classic War of the Worlds\\\" by Timothy Hi...   \n",
       "2  The film starts with a manager (Nicholas Bell)...   \n",
       "3  It must be assumed that those who praised this...   \n",
       "4  Superbly trashy and wondrously unpretentious 8...   \n",
       "\n",
       "                               stem processed review  sentiment  word count  \\\n",
       "0  with all thi stuff go down at moment with mj v...          1         433   \n",
       "1  classic war world by timothi hine veri enterta...          1         158   \n",
       "2  film start with manag nichola bell give welcom...          0         378   \n",
       "3  it must be assum that those who prais thi film...          0         379   \n",
       "4  superbl trashi wondrous unpretenti s exploit h...          1         367   \n",
       "\n",
       "   stem processed review word count  \n",
       "0                               349  \n",
       "1                               131  \n",
       "2                               306  \n",
       "3                               293  \n",
       "4                               318  "
      ]
     },
     "execution_count": 20,
     "metadata": {},
     "output_type": "execute_result"
    }
   ],
   "source": [
    "data.head()"
   ]
  },
  {
   "cell_type": "markdown",
   "metadata": {},
   "source": [
    "### Create Train - Test Subsets"
   ]
  },
  {
   "cell_type": "code",
   "execution_count": 21,
   "metadata": {
    "ExecuteTime": {
     "end_time": "2019-08-11T13:17:35.730378Z",
     "start_time": "2019-08-11T13:17:35.727088Z"
    }
   },
   "outputs": [],
   "source": [
    "X = data['stem processed review']\n",
    "y = data['sentiment']"
   ]
  },
  {
   "cell_type": "code",
   "execution_count": 22,
   "metadata": {
    "ExecuteTime": {
     "end_time": "2019-08-11T13:17:38.312234Z",
     "start_time": "2019-08-11T13:17:35.732379Z"
    }
   },
   "outputs": [
    {
     "name": "stdout",
     "output_type": "stream",
     "text": [
      "Vectorizing time: 2.559400s; Train-Test Splitting time: 0.015108s\n"
     ]
    }
   ],
   "source": [
    "t0 = time.time()\n",
    "tfidf = TfidfVectorizer(tokenizer=tokenizer)\n",
    "X_tfidf = tfidf.fit_transform(X)\n",
    "t1 = time.time()\n",
    "\n",
    "X_train_tfidf, X_test_tfidf, y_train_tfidf, y_test_tfidf = train_test_split(X_tfidf, y, test_size=0.25, random_state=101)\n",
    "t2 = time.time()\n",
    "\n",
    "time_vectorizing = t1-t0\n",
    "time_splitting = t2-t1\n",
    "\n",
    "print(\"Vectorizing time: %fs; Train-Test Splitting time: %fs\" % (time_vectorizing, time_splitting))"
   ]
  },
  {
   "cell_type": "code",
   "execution_count": 23,
   "metadata": {
    "ExecuteTime": {
     "end_time": "2019-08-11T13:17:38.323479Z",
     "start_time": "2019-08-11T13:17:38.318637Z"
    }
   },
   "outputs": [
    {
     "data": {
      "text/plain": [
       "(16875, 50765)"
      ]
     },
     "execution_count": 23,
     "metadata": {},
     "output_type": "execute_result"
    }
   ],
   "source": [
    "X_train_tfidf.shape"
   ]
  },
  {
   "cell_type": "markdown",
   "metadata": {},
   "source": [
    "## Model training and evaluation\n",
    "We will explore different classifiers to evaluate the most efficient one in term of accuracy and computational difficulty."
   ]
  },
  {
   "cell_type": "markdown",
   "metadata": {},
   "source": [
    "### Logistic Regression Classifier"
   ]
  },
  {
   "cell_type": "code",
   "execution_count": 24,
   "metadata": {
    "ExecuteTime": {
     "end_time": "2019-08-11T13:17:38.865023Z",
     "start_time": "2019-08-11T13:17:38.327676Z"
    }
   },
   "outputs": [
    {
     "name": "stdout",
     "output_type": "stream",
     "text": [
      "Training time: 0.506611s; Prediction time: 0.003261s\n"
     ]
    }
   ],
   "source": [
    "lr = LogisticRegression()\n",
    "t0 = time.time()\n",
    "\n",
    "lr.fit(X_train_tfidf, y_train_tfidf)\n",
    "t1 = time.time()\n",
    "\n",
    "lr_preds = lr.predict(X_test_tfidf)\n",
    "t2 = time.time()\n",
    "\n",
    "time_linear_train = t1-t0\n",
    "time_linear_predict = t2-t1\n",
    "\n",
    "# results\n",
    "print(\"Training time: %fs; Prediction time: %fs\" % (time_linear_train, time_linear_predict))\n",
    "\n",
    "lr_cm = confusion_matrix(y_test_tfidf, lr_preds)\n",
    "lr_report = classification_report(y_test_tfidf, lr_preds)"
   ]
  },
  {
   "cell_type": "code",
   "execution_count": 25,
   "metadata": {
    "ExecuteTime": {
     "end_time": "2019-08-11T13:17:38.873602Z",
     "start_time": "2019-08-11T13:17:38.868441Z"
    }
   },
   "outputs": [
    {
     "name": "stdout",
     "output_type": "stream",
     "text": [
      "[[2487  343]\n",
      " [ 262 2533]]\n",
      "              precision    recall  f1-score   support\n",
      "\n",
      "           0       0.90      0.88      0.89      2830\n",
      "           1       0.88      0.91      0.89      2795\n",
      "\n",
      "    accuracy                           0.89      5625\n",
      "   macro avg       0.89      0.89      0.89      5625\n",
      "weighted avg       0.89      0.89      0.89      5625\n",
      "\n"
     ]
    }
   ],
   "source": [
    "print(lr_cm)\n",
    "print(lr_report)"
   ]
  },
  {
   "cell_type": "markdown",
   "metadata": {},
   "source": [
    "### Decision Tree Classifier"
   ]
  },
  {
   "cell_type": "code",
   "execution_count": 26,
   "metadata": {
    "ExecuteTime": {
     "end_time": "2019-08-11T13:18:00.621882Z",
     "start_time": "2019-08-11T13:17:38.876939Z"
    }
   },
   "outputs": [
    {
     "name": "stdout",
     "output_type": "stream",
     "text": [
      "Training time: 21.680359s; Prediction time: 0.042131s\n"
     ]
    }
   ],
   "source": [
    "dtc = DecisionTreeClassifier()\n",
    "t0 = time.time()\n",
    "dtc.fit(X_train_tfidf, y_train_tfidf)\n",
    "t1 = time.time()\n",
    "\n",
    "dtc_preds = dtc.predict(X_test_tfidf)\n",
    "t2 = time.time()\n",
    "\n",
    "time_dtc_train = t1-t0\n",
    "time_dtc_predict = t2-t1\n",
    "\n",
    "# results\n",
    "print(\"Training time: %fs; Prediction time: %fs\" % (time_dtc_train, time_dtc_predict))\n",
    "\n",
    "dtc_cm = confusion_matrix(y_test_tfidf, dtc_preds)\n",
    "dtc_report = classification_report(y_test_tfidf, dtc_preds)"
   ]
  },
  {
   "cell_type": "code",
   "execution_count": 27,
   "metadata": {
    "ExecuteTime": {
     "end_time": "2019-08-11T13:18:00.628870Z",
     "start_time": "2019-08-11T13:18:00.624555Z"
    }
   },
   "outputs": [
    {
     "name": "stdout",
     "output_type": "stream",
     "text": [
      "[[1982  848]\n",
      " [ 786 2009]]\n",
      "              precision    recall  f1-score   support\n",
      "\n",
      "           0       0.72      0.70      0.71      2830\n",
      "           1       0.70      0.72      0.71      2795\n",
      "\n",
      "    accuracy                           0.71      5625\n",
      "   macro avg       0.71      0.71      0.71      5625\n",
      "weighted avg       0.71      0.71      0.71      5625\n",
      "\n"
     ]
    }
   ],
   "source": [
    "print(dtc_cm)\n",
    "print(dtc_report)"
   ]
  },
  {
   "cell_type": "markdown",
   "metadata": {},
   "source": [
    "### Random Forest Classifier"
   ]
  },
  {
   "cell_type": "code",
   "execution_count": 28,
   "metadata": {
    "ExecuteTime": {
     "end_time": "2019-08-11T13:18:04.992549Z",
     "start_time": "2019-08-11T13:18:00.631216Z"
    }
   },
   "outputs": [
    {
     "name": "stdout",
     "output_type": "stream",
     "text": [
      "Training time: 4.266440s; Prediction time: 0.069331s\n"
     ]
    }
   ],
   "source": [
    "rfc = RandomForestClassifier()\n",
    "\n",
    "t0 = time.time()\n",
    "rfc.fit(X_train_tfidf, y_train_tfidf)\n",
    "t1 = time.time()\n",
    "\n",
    "rfc_preds = rfc.predict(X_test_tfidf)\n",
    "t2 = time.time()\n",
    "\n",
    "time_rfc_train = t1-t0\n",
    "time_rfc_predict = t2-t1\n",
    "\n",
    "# results\n",
    "print(\"Training time: %fs; Prediction time: %fs\" % (time_rfc_train, time_rfc_predict))\n",
    "\n",
    "rfc_cm = confusion_matrix(y_test_tfidf, rfc_preds)\n",
    "rfc_report = classification_report(y_test_tfidf, rfc_preds)"
   ]
  },
  {
   "cell_type": "code",
   "execution_count": 29,
   "metadata": {
    "ExecuteTime": {
     "end_time": "2019-08-11T13:18:04.999743Z",
     "start_time": "2019-08-11T13:18:04.994597Z"
    }
   },
   "outputs": [
    {
     "name": "stdout",
     "output_type": "stream",
     "text": [
      "[[2262  568]\n",
      " [ 973 1822]]\n",
      "              precision    recall  f1-score   support\n",
      "\n",
      "           0       0.70      0.80      0.75      2830\n",
      "           1       0.76      0.65      0.70      2795\n",
      "\n",
      "    accuracy                           0.73      5625\n",
      "   macro avg       0.73      0.73      0.72      5625\n",
      "weighted avg       0.73      0.73      0.72      5625\n",
      "\n"
     ]
    }
   ],
   "source": [
    "print(rfc_cm)\n",
    "print(rfc_report)"
   ]
  },
  {
   "cell_type": "markdown",
   "metadata": {},
   "source": [
    "### K-Neighbors Nearest Classifier"
   ]
  },
  {
   "cell_type": "code",
   "execution_count": 30,
   "metadata": {
    "ExecuteTime": {
     "end_time": "2019-08-11T13:18:15.167101Z",
     "start_time": "2019-08-11T13:18:05.002621Z"
    }
   },
   "outputs": [
    {
     "name": "stdout",
     "output_type": "stream",
     "text": [
      "Training time: 0.014222s; Prediction time: 10.128554s\n"
     ]
    }
   ],
   "source": [
    "knn = KNeighborsClassifier()\n",
    "\n",
    "t0 = time.time()\n",
    "knn.fit(X_train_tfidf, y_train_tfidf)\n",
    "t1 = time.time()\n",
    "\n",
    "knn_preds = knn.predict(X_test_tfidf)\n",
    "t2 = time.time()\n",
    "\n",
    "time_knn_train = t1-t0\n",
    "time_knn_predict = t2-t1\n",
    "\n",
    "# results\n",
    "print(\"Training time: %fs; Prediction time: %fs\" % (time_knn_train, time_knn_predict))\n",
    "\n",
    "knn_cm = confusion_matrix(y_test_tfidf, knn_preds)\n",
    "knn_report = classification_report(y_test_tfidf, knn_preds)"
   ]
  },
  {
   "cell_type": "code",
   "execution_count": 31,
   "metadata": {
    "ExecuteTime": {
     "end_time": "2019-08-11T13:18:15.172798Z",
     "start_time": "2019-08-11T13:18:15.169232Z"
    }
   },
   "outputs": [
    {
     "name": "stdout",
     "output_type": "stream",
     "text": [
      "[[2112  718]\n",
      " [ 450 2345]]\n",
      "              precision    recall  f1-score   support\n",
      "\n",
      "           0       0.82      0.75      0.78      2830\n",
      "           1       0.77      0.84      0.80      2795\n",
      "\n",
      "    accuracy                           0.79      5625\n",
      "   macro avg       0.79      0.79      0.79      5625\n",
      "weighted avg       0.80      0.79      0.79      5625\n",
      "\n"
     ]
    }
   ],
   "source": [
    "print(knn_cm)\n",
    "print(knn_report)"
   ]
  },
  {
   "cell_type": "markdown",
   "metadata": {},
   "source": [
    "### Support Vector Machine Classifier"
   ]
  },
  {
   "cell_type": "code",
   "execution_count": 32,
   "metadata": {
    "ExecuteTime": {
     "end_time": "2019-08-11T13:21:58.876858Z",
     "start_time": "2019-08-11T13:18:15.174949Z"
    }
   },
   "outputs": [
    {
     "name": "stdout",
     "output_type": "stream",
     "text": [
      "Training time: 184.345613s; Prediction time: 39.335615s\n"
     ]
    }
   ],
   "source": [
    "svm = SVC(kernel='linear')\n",
    "\n",
    "t0 = time.time()\n",
    "svm.fit(X_train_tfidf, y_train_tfidf)\n",
    "t1 = time.time()\n",
    "\n",
    "svm_preds = svm.predict(X_test_tfidf)\n",
    "t2 = time.time()\n",
    "\n",
    "time_svm_train = t1-t0\n",
    "time_svm_predict = t2-t1\n",
    "\n",
    "# results\n",
    "print(\"Training time: %fs; Prediction time: %fs\" % (time_svm_train, time_svm_predict))\n",
    "\n",
    "svm_cm = confusion_matrix(y_test_tfidf, svm_preds)\n",
    "svm_report = classification_report(y_test_tfidf, svm_preds)"
   ]
  },
  {
   "cell_type": "code",
   "execution_count": 33,
   "metadata": {
    "ExecuteTime": {
     "end_time": "2019-08-11T13:21:58.882716Z",
     "start_time": "2019-08-11T13:21:58.878810Z"
    }
   },
   "outputs": [
    {
     "name": "stdout",
     "output_type": "stream",
     "text": [
      "[[2502  328]\n",
      " [ 282 2513]]\n",
      "              precision    recall  f1-score   support\n",
      "\n",
      "           0       0.90      0.88      0.89      2830\n",
      "           1       0.88      0.90      0.89      2795\n",
      "\n",
      "    accuracy                           0.89      5625\n",
      "   macro avg       0.89      0.89      0.89      5625\n",
      "weighted avg       0.89      0.89      0.89      5625\n",
      "\n"
     ]
    }
   ],
   "source": [
    "print(svm_cm)\n",
    "print(svm_report)"
   ]
  },
  {
   "cell_type": "markdown",
   "metadata": {},
   "source": [
    "### Export Trained Models, default mode"
   ]
  },
  {
   "cell_type": "code",
   "execution_count": 34,
   "metadata": {
    "ExecuteTime": {
     "end_time": "2019-08-11T13:21:59.026837Z",
     "start_time": "2019-08-11T13:21:58.884597Z"
    }
   },
   "outputs": [],
   "source": [
    "# Using pickle to export our trained model\n",
    "pickle.dump(lr, open(os.path.join('models', 'Model_LR_default_imdb.pkl'), 'wb'), protocol=4)\n",
    "pickle.dump(dtc, open(os.path.join('models', 'Model_DTC_default_imdb.pkl'), 'wb'), protocol=4)\n",
    "pickle.dump(rfc, open(os.path.join('models', 'Model_RFC_default_imdb.pkl'), 'wb'), protocol=4)\n",
    "pickle.dump(knn, open(os.path.join('models', 'Model_KNN_default_imdb.pkl'), 'wb'), protocol=4)\n",
    "pickle.dump(svm, open(os.path.join('models', 'Model_SVM_default_imdb.pkl'), 'wb'), protocol=4)"
   ]
  },
  {
   "cell_type": "markdown",
   "metadata": {},
   "source": [
    "## 4. Performance Comparison"
   ]
  },
  {
   "cell_type": "code",
   "execution_count": 35,
   "metadata": {
    "ExecuteTime": {
     "end_time": "2019-08-11T13:22:00.382455Z",
     "start_time": "2019-08-11T13:21:59.028684Z"
    }
   },
   "outputs": [
    {
     "data": {
      "image/png": "[encoded data removed]",
      "text/plain": [
       "<Figure size 1008x1440 with 11 Axes>"
      ]
     },
     "metadata": {
      "needs_background": "light"
     },
     "output_type": "display_data"
    }
   ],
   "source": [
    "fig, ax = plt.subplots(3,2, figsize=[14,20])\n",
    "\n",
    "sns.heatmap(lr_cm, ax=ax[0, 0], annot=True, fmt='d', square=True)\n",
    "ax[0, 0].set_title('LR')\n",
    "ax[0, 0].set_xlabel('Test')\n",
    "ax[0, 0].set_ylabel('Predictions')\n",
    "\n",
    "sns.heatmap(svm_cm, ax=ax[0, 1], annot=True, fmt='d', square=True)\n",
    "ax[0, 1].set_title('SVM')\n",
    "ax[0, 1].set_xlabel('Test')\n",
    "ax[0, 1].set_ylabel('Predictions')\n",
    "\n",
    "sns.heatmap(dtc_cm, ax=ax[1, 0], annot=True, fmt='d', square=True)\n",
    "ax[1, 0].set_title('DTC')\n",
    "ax[1, 0].set_xlabel('Test')\n",
    "ax[1, 0].set_ylabel('Predictions')\n",
    "\n",
    "sns.heatmap(rfc_cm, ax=ax[1, 1], annot=True, fmt='d', square=True)\n",
    "ax[1, 1].set_title('RFC')\n",
    "ax[1, 1].set_xlabel('Test')\n",
    "ax[1, 1].set_ylabel('Predictions')\n",
    "\n",
    "sns.heatmap(knn_cm, ax=ax[2, 0], annot=True, fmt='d', square=True)\n",
    "ax[2, 0].set_title('KNN')\n",
    "ax[2, 0].set_xlabel('Test')\n",
    "ax[2, 0].set_ylabel('Predictions')\n",
    "\n",
    "plt.show()"
   ]
  },
  {
   "cell_type": "markdown",
   "metadata": {},
   "source": [
    "### Conclusion: \n",
    "Base on the confusion matrix diagrams, we can see that Logistic Regression and SVM are the two most effecient models. But Logistic Regression outperforms SVM in term of computation time. Now we can choose the Logistic Regression model and fine tune it."
   ]
  },
  {
   "cell_type": "code",
   "execution_count": 36,
   "metadata": {
    "ExecuteTime": {
     "end_time": "2019-08-11T13:22:00.849995Z",
     "start_time": "2019-08-11T13:22:00.385135Z"
    }
   },
   "outputs": [
    {
     "data": {
      "image/png": "[encoded data removed]",
      "text/plain": [
       "<Figure size 1008x504 with 4 Axes>"
      ]
     },
     "metadata": {
      "needs_background": "light"
     },
     "output_type": "display_data"
    }
   ],
   "source": [
    "fig, ax = plt.subplots(1, 2, figsize=[14,7])\n",
    "\n",
    "sns.heatmap(lr_cm, ax=ax[0], annot=True, fmt='d', square=True)\n",
    "ax[0].set_title('LR')\n",
    "ax[0].set_xlabel('Test')\n",
    "ax[0].set_ylabel('Predictions')\n",
    "\n",
    "sns.heatmap(svm_cm, ax=ax[1], annot=True, fmt='d', square=True)\n",
    "ax[1].set_title('SVM')\n",
    "ax[1].set_xlabel('Test')\n",
    "ax[1].set_ylabel('Predictions')\n",
    "\n",
    "plt.show()"
   ]
  },
  {
   "cell_type": "markdown",
   "metadata": {},
   "source": [
    "# Optimization"
   ]
  },
  {
   "cell_type": "markdown",
   "metadata": {},
   "source": [
    "## Parameter Tuning with GridSearchCV\n",
    "We find the best **C** and **n-gram** values for our model.\n",
    "\n",
    "In an n-gram vector, text is represented as a collection of unique n-grams: groups of n adjacent tokens (typically, words). Consider the text The mouse ran up the clock. Here, the word unigrams (n = 1) are ['the', 'mouse', 'ran', 'up', 'clock'], the word bigrams (n = 2) are ['the mouse', 'mouse ran', 'ran up', 'up the', 'the clock'], and so on."
   ]
  },
  {
   "cell_type": "code",
   "execution_count": 37,
   "metadata": {
    "ExecuteTime": {
     "end_time": "2019-08-11T13:22:00.859319Z",
     "start_time": "2019-08-11T13:22:00.852007Z"
    }
   },
   "outputs": [],
   "source": [
    "X_train, X_test, y_train, y_test = train_test_split(X, y, test_size=0.25, random_state=101)"
   ]
  },
  {
   "cell_type": "code",
   "execution_count": 38,
   "metadata": {
    "ExecuteTime": {
     "end_time": "2019-08-11T14:28:00.345893Z",
     "start_time": "2019-08-11T13:22:00.861160Z"
    }
   },
   "outputs": [
    {
     "data": {
      "text/plain": [
       "GridSearchCV(cv=10, error_score='raise-deprecating',\n",
       "             estimator=Pipeline(memory=None,\n",
       "                                steps=[('tfidf',\n",
       "                                        TfidfVectorizer(analyzer='word',\n",
       "                                                        binary=False,\n",
       "                                                        decode_error='strict',\n",
       "                                                        dtype=<class 'numpy.float64'>,\n",
       "                                                        encoding='utf-8',\n",
       "                                                        input='content',\n",
       "                                                        lowercase=True,\n",
       "                                                        max_df=1.0,\n",
       "                                                        max_features=None,\n",
       "                                                        min_df=1,\n",
       "                                                        ngram_range=(1, 1),\n",
       "                                                        norm='l2',\n",
       "                                                        preprocessor=None,\n",
       "                                                        smooth_idf=True,\n",
       "                                                        stop_wor...\n",
       "                                                           l1_ratio=None,\n",
       "                                                           max_iter=100,\n",
       "                                                           multi_class='warn',\n",
       "                                                           n_jobs=None,\n",
       "                                                           penalty='l2',\n",
       "                                                           random_state=None,\n",
       "                                                           solver='warn',\n",
       "                                                           tol=0.0001,\n",
       "                                                           verbose=0,\n",
       "                                                           warm_start=False))],\n",
       "                                verbose=False),\n",
       "             iid='warn', n_jobs=None,\n",
       "             param_grid={'classifier__C': (0.1, 1, 1.5, 2, 2.5, 3, 3.5, 4, 5),\n",
       "                         'tfidf__ngram_range': [(1, 1), (1, 2), (1, 3)]},\n",
       "             pre_dispatch='2*n_jobs', refit=True, return_train_score=False,\n",
       "             scoring=None, verbose=0)"
      ]
     },
     "execution_count": 38,
     "metadata": {},
     "output_type": "execute_result"
    }
   ],
   "source": [
    "from sklearn.pipeline import Pipeline\n",
    "\n",
    "pipeline = Pipeline([ \n",
    "                      ('tfidf', TfidfVectorizer(tokenizer=tokenizer)),\n",
    "                      ('classifier', LogisticRegression()),  \n",
    "                    ])\n",
    "\n",
    "parameters = {\n",
    "              'tfidf__ngram_range': [(1,1), (1,2), (1,3)],\n",
    "              'classifier__C': (0.1, 1, 1.5, 2, 2.5, 3, 3.5, 4, 5),\n",
    "             }\n",
    "\n",
    "grid = GridSearchCV(pipeline, cv=10, param_grid=parameters)\n",
    "grid.fit(X_train, y_train)"
   ]
  },
  {
   "cell_type": "code",
   "execution_count": 39,
   "metadata": {
    "ExecuteTime": {
     "end_time": "2019-08-11T14:28:00.356787Z",
     "start_time": "2019-08-11T14:28:00.348351Z"
    }
   },
   "outputs": [
    {
     "name": "stdout",
     "output_type": "stream",
     "text": [
      "\n",
      "Best Model: 0.896533 using {'classifier__C': 5, 'tfidf__ngram_range': (1, 2)}\n",
      "\n",
      "\n",
      "Mean: 0.848593 Stdev:(0.006622) with: {'classifier__C': 0.1, 'tfidf__ngram_range': (1, 1)}\n",
      "Mean: 0.837037 Stdev:(0.005146) with: {'classifier__C': 0.1, 'tfidf__ngram_range': (1, 2)}\n",
      "Mean: 0.829926 Stdev:(0.006618) with: {'classifier__C': 0.1, 'tfidf__ngram_range': (1, 3)}\n",
      "Mean: 0.885274 Stdev:(0.006118) with: {'classifier__C': 1, 'tfidf__ngram_range': (1, 1)}\n",
      "Mean: 0.883733 Stdev:(0.007652) with: {'classifier__C': 1, 'tfidf__ngram_range': (1, 2)}\n",
      "Mean: 0.873007 Stdev:(0.007829) with: {'classifier__C': 1, 'tfidf__ngram_range': (1, 3)}\n",
      "Mean: 0.887467 Stdev:(0.006182) with: {'classifier__C': 1.5, 'tfidf__ngram_range': (1, 1)}\n",
      "Mean: 0.887348 Stdev:(0.006507) with: {'classifier__C': 1.5, 'tfidf__ngram_range': (1, 2)}\n",
      "Mean: 0.879467 Stdev:(0.008489) with: {'classifier__C': 1.5, 'tfidf__ngram_range': (1, 3)}\n",
      "Mean: 0.888178 Stdev:(0.006816) with: {'classifier__C': 2, 'tfidf__ngram_range': (1, 1)}\n",
      "Mean: 0.890430 Stdev:(0.005791) with: {'classifier__C': 2, 'tfidf__ngram_range': (1, 2)}\n",
      "Mean: 0.882548 Stdev:(0.007041) with: {'classifier__C': 2, 'tfidf__ngram_range': (1, 3)}\n",
      "Mean: 0.888889 Stdev:(0.006358) with: {'classifier__C': 2.5, 'tfidf__ngram_range': (1, 1)}\n",
      "Mean: 0.892741 Stdev:(0.006490) with: {'classifier__C': 2.5, 'tfidf__ngram_range': (1, 2)}\n",
      "Mean: 0.884741 Stdev:(0.006593) with: {'classifier__C': 2.5, 'tfidf__ngram_range': (1, 3)}\n",
      "Mean: 0.889185 Stdev:(0.006768) with: {'classifier__C': 3, 'tfidf__ngram_range': (1, 1)}\n",
      "Mean: 0.893748 Stdev:(0.006256) with: {'classifier__C': 3, 'tfidf__ngram_range': (1, 2)}\n",
      "Mean: 0.885985 Stdev:(0.006282) with: {'classifier__C': 3, 'tfidf__ngram_range': (1, 3)}\n",
      "Mean: 0.888593 Stdev:(0.006538) with: {'classifier__C': 3.5, 'tfidf__ngram_range': (1, 1)}\n",
      "Mean: 0.894993 Stdev:(0.005805) with: {'classifier__C': 3.5, 'tfidf__ngram_range': (1, 2)}\n",
      "Mean: 0.887052 Stdev:(0.006244) with: {'classifier__C': 3.5, 'tfidf__ngram_range': (1, 3)}\n",
      "Mean: 0.888356 Stdev:(0.006888) with: {'classifier__C': 4, 'tfidf__ngram_range': (1, 1)}\n",
      "Mean: 0.895644 Stdev:(0.005740) with: {'classifier__C': 4, 'tfidf__ngram_range': (1, 2)}\n",
      "Mean: 0.889304 Stdev:(0.005337) with: {'classifier__C': 4, 'tfidf__ngram_range': (1, 3)}\n",
      "Mean: 0.888415 Stdev:(0.006987) with: {'classifier__C': 5, 'tfidf__ngram_range': (1, 1)}\n",
      "Mean: 0.896533 Stdev:(0.005716) with: {'classifier__C': 5, 'tfidf__ngram_range': (1, 2)}\n",
      "Mean: 0.890489 Stdev:(0.005239) with: {'classifier__C': 5, 'tfidf__ngram_range': (1, 3)}\n"
     ]
    }
   ],
   "source": [
    "# summarize results\n",
    "print(\"\\nBest Model: %f using %s\" % (grid.best_score_, grid.best_params_))\n",
    "print('\\n')\n",
    "means = grid.cv_results_['mean_test_score']\n",
    "stds = grid.cv_results_['std_test_score']\n",
    "params = grid.cv_results_['params']\n",
    "for mean, stdev, param in zip(means, stds, params):\n",
    "    print(\"Mean: %f Stdev:(%f) with: %r\" % (mean, stdev, param))"
   ]
  },
  {
   "cell_type": "markdown",
   "metadata": {},
   "source": [
    "## Feature Optimization: Lemmatization vs Stemming\n",
    "\n",
    "We make an experiment between lemmatization and stemming to see which one contribute to a better accuracy for our model.\n",
    "\n",
    "**Stemming** usually refers to a crude heuristic process that chops off the ends of words in the hope of achieving this goal correctly most of the time, and often includes the removal of derivational affixes.\n",
    "\n",
    "**Lemmatization** usually refers to doing things properly with the use of a vocabulary and morphological analysis of words, normally aiming to remove inflectional endings only and to return the base or dictionary form of a word, which is known as the lemma\n",
    "\n",
    "For instance:\n",
    "\n",
    "* The word \"better\" has \"good\" as its lemma. This link is missed by stemming, as it requires a dictionary look-up.\n",
    "* The word \"walk\" is the base form for word \"walking\", and hence this is matched in both stemming and lemmatisation.\n",
    "* The word \"meeting\" can be either the base form of a noun or a form of a verb (\"to meet\") depending on the context, e.g., \"in our last meeting\" or \"We are meeting again tomorrow\". Unlike stemming, lemmatisation can in principle select the appropriate lemma depending on the context.\n"
   ]
  },
  {
   "cell_type": "markdown",
   "metadata": {},
   "source": [
    "### Lemmatization: Preprocessing"
   ]
  },
  {
   "cell_type": "code",
   "execution_count": 40,
   "metadata": {
    "ExecuteTime": {
     "end_time": "2019-08-11T14:28:00.608352Z",
     "start_time": "2019-08-11T14:28:00.359283Z"
    },
    "scrolled": true
   },
   "outputs": [
    {
     "name": "stderr",
     "output_type": "stream",
     "text": [
      "[nltk_data] Downloading package wordnet to\n",
      "[nltk_data]     /Users/jodythai/nltk_data...\n",
      "[nltk_data]   Package wordnet is already up-to-date!\n"
     ]
    }
   ],
   "source": [
    "nltk.download('wordnet')\n",
    "lemmatizer = WordNetLemmatizer()"
   ]
  },
  {
   "cell_type": "code",
   "execution_count": 41,
   "metadata": {
    "ExecuteTime": {
     "end_time": "2019-08-11T14:28:00.616066Z",
     "start_time": "2019-08-11T14:28:00.610443Z"
    }
   },
   "outputs": [],
   "source": [
    "def preprocessor_lemma(text):\n",
    "  text = clean_text(text)\n",
    "  \n",
    "  # Lemmatizing\n",
    "  text = [lemmatizer.lemmatize(token) for token in text.split(\" \")]\n",
    "  text = [lemmatizer.lemmatize(token, \"v\") for token in text]\n",
    "  \n",
    "  # Remove stop words\n",
    "  text = [word for word in text if not word in stop_words]\n",
    "  \n",
    "  text = \" \".join(text)\n",
    "  \n",
    "  return text"
   ]
  },
  {
   "cell_type": "code",
   "execution_count": 42,
   "metadata": {
    "ExecuteTime": {
     "end_time": "2019-08-11T14:28:00.621878Z",
     "start_time": "2019-08-11T14:28:00.617841Z"
    }
   },
   "outputs": [],
   "source": [
    "# data.drop(columns='lemma processed review', inplace=True)\n",
    "data.insert(loc = 2, column=\"lemma processed review\", value=\"\")"
   ]
  },
  {
   "cell_type": "code",
   "execution_count": 43,
   "metadata": {
    "ExecuteTime": {
     "end_time": "2019-08-11T14:28:51.320530Z",
     "start_time": "2019-08-11T14:28:00.623822Z"
    },
    "scrolled": true
   },
   "outputs": [],
   "source": [
    "data['lemma processed review'] = data['review'].apply(preprocessor_lemma)"
   ]
  },
  {
   "cell_type": "code",
   "execution_count": 44,
   "metadata": {
    "ExecuteTime": {
     "end_time": "2019-08-11T14:28:51.635383Z",
     "start_time": "2019-08-11T14:28:51.322529Z"
    }
   },
   "outputs": [
    {
     "data": {
      "text/html": [
       "<div>\n",
       "<style scoped>\n",
       "    .dataframe tbody tr th:only-of-type {\n",
       "        vertical-align: middle;\n",
       "    }\n",
       "\n",
       "    .dataframe tbody tr th {\n",
       "        vertical-align: top;\n",
       "    }\n",
       "\n",
       "    .dataframe thead th {\n",
       "        text-align: right;\n",
       "    }\n",
       "</style>\n",
       "<table border=\"1\" class=\"dataframe\">\n",
       "  <thead>\n",
       "    <tr style=\"text-align: right;\">\n",
       "      <th></th>\n",
       "      <th>review</th>\n",
       "      <th>stem processed review</th>\n",
       "      <th>lemma processed review</th>\n",
       "      <th>sentiment</th>\n",
       "      <th>word count</th>\n",
       "      <th>stem processed review word count</th>\n",
       "      <th>lemma processed review word count</th>\n",
       "    </tr>\n",
       "  </thead>\n",
       "  <tbody>\n",
       "    <tr>\n",
       "      <th>0</th>\n",
       "      <td>With all this stuff going down at the moment w...</td>\n",
       "      <td>with all thi stuff go down at moment with mj v...</td>\n",
       "      <td>with all this stuff go down at moment with mj ...</td>\n",
       "      <td>1</td>\n",
       "      <td>433</td>\n",
       "      <td>349</td>\n",
       "      <td>363</td>\n",
       "    </tr>\n",
       "    <tr>\n",
       "      <th>1</th>\n",
       "      <td>\\The Classic War of the Worlds\\\" by Timothy Hi...</td>\n",
       "      <td>classic war world by timothi hine veri enterta...</td>\n",
       "      <td>classic war world by timothy hines be very ent...</td>\n",
       "      <td>1</td>\n",
       "      <td>158</td>\n",
       "      <td>131</td>\n",
       "      <td>132</td>\n",
       "    </tr>\n",
       "    <tr>\n",
       "      <th>2</th>\n",
       "      <td>The film starts with a manager (Nicholas Bell)...</td>\n",
       "      <td>film start with manag nichola bell give welcom...</td>\n",
       "      <td>film start with manager nicholas bell give wel...</td>\n",
       "      <td>0</td>\n",
       "      <td>378</td>\n",
       "      <td>306</td>\n",
       "      <td>308</td>\n",
       "    </tr>\n",
       "    <tr>\n",
       "      <th>3</th>\n",
       "      <td>It must be assumed that those who praised this...</td>\n",
       "      <td>it must be assum that those who prais thi film...</td>\n",
       "      <td>it must be assume that those who praise this f...</td>\n",
       "      <td>0</td>\n",
       "      <td>379</td>\n",
       "      <td>293</td>\n",
       "      <td>290</td>\n",
       "    </tr>\n",
       "    <tr>\n",
       "      <th>4</th>\n",
       "      <td>Superbly trashy and wondrously unpretentious 8...</td>\n",
       "      <td>superbl trashi wondrous unpretenti s exploit h...</td>\n",
       "      <td>superbly trashy wondrously unpretentious s exp...</td>\n",
       "      <td>1</td>\n",
       "      <td>367</td>\n",
       "      <td>318</td>\n",
       "      <td>317</td>\n",
       "    </tr>\n",
       "  </tbody>\n",
       "</table>\n",
       "</div>"
      ],
      "text/plain": [
       "                                              review  \\\n",
       "0  With all this stuff going down at the moment w...   \n",
       "1  \\The Classic War of the Worlds\\\" by Timothy Hi...   \n",
       "2  The film starts with a manager (Nicholas Bell)...   \n",
       "3  It must be assumed that those who praised this...   \n",
       "4  Superbly trashy and wondrously unpretentious 8...   \n",
       "\n",
       "                               stem processed review  \\\n",
       "0  with all thi stuff go down at moment with mj v...   \n",
       "1  classic war world by timothi hine veri enterta...   \n",
       "2  film start with manag nichola bell give welcom...   \n",
       "3  it must be assum that those who prais thi film...   \n",
       "4  superbl trashi wondrous unpretenti s exploit h...   \n",
       "\n",
       "                              lemma processed review  sentiment  word count  \\\n",
       "0  with all this stuff go down at moment with mj ...          1         433   \n",
       "1  classic war world by timothy hines be very ent...          1         158   \n",
       "2  film start with manager nicholas bell give wel...          0         378   \n",
       "3  it must be assume that those who praise this f...          0         379   \n",
       "4  superbly trashy wondrously unpretentious s exp...          1         367   \n",
       "\n",
       "   stem processed review word count  lemma processed review word count  \n",
       "0                               349                                363  \n",
       "1                               131                                132  \n",
       "2                               306                                308  \n",
       "3                               293                                290  \n",
       "4                               318                                317  "
      ]
     },
     "execution_count": 44,
     "metadata": {},
     "output_type": "execute_result"
    }
   ],
   "source": [
    "data['lemma processed review word count'] = data['lemma processed review'].apply(word_count)\n",
    "data.head()"
   ]
  },
  {
   "cell_type": "markdown",
   "metadata": {},
   "source": [
    "**The lemmatizing review content looks a bit different than the stemming version**"
   ]
  },
  {
   "cell_type": "markdown",
   "metadata": {},
   "source": [
    "### Lemmatization: Vectorizing, Train - Test Splitting"
   ]
  },
  {
   "cell_type": "code",
   "execution_count": 45,
   "metadata": {
    "ExecuteTime": {
     "end_time": "2019-08-11T14:28:51.644540Z",
     "start_time": "2019-08-11T14:28:51.637455Z"
    }
   },
   "outputs": [],
   "source": [
    "X_lemma = data['lemma processed review']\n",
    "X_lemma_train, X_lemma_test, y_lemma_train, y_lemma_test = train_test_split(X_lemma, y, test_size=0.25, random_state=101)"
   ]
  },
  {
   "cell_type": "markdown",
   "metadata": {},
   "source": [
    "#### Parameter Tuning - Find the best max_features\n",
    "As the number of features increase significantly after applying ngram_range to the TfidfVectorizer, a question about the best max_features arises. Hence, we use GridSearchGV to run though a range of number of features in order to find the optimized one."
   ]
  },
  {
   "cell_type": "code",
   "execution_count": 46,
   "metadata": {
    "ExecuteTime": {
     "end_time": "2019-08-11T14:42:24.246656Z",
     "start_time": "2019-08-11T14:28:51.646486Z"
    }
   },
   "outputs": [
    {
     "data": {
      "text/plain": [
       "GridSearchCV(cv=10, error_score='raise-deprecating',\n",
       "             estimator=Pipeline(memory=None,\n",
       "                                steps=[('tfidf',\n",
       "                                        TfidfVectorizer(analyzer='word',\n",
       "                                                        binary=False,\n",
       "                                                        decode_error='strict',\n",
       "                                                        dtype=<class 'numpy.float64'>,\n",
       "                                                        encoding='utf-8',\n",
       "                                                        input='content',\n",
       "                                                        lowercase=True,\n",
       "                                                        max_df=1.0,\n",
       "                                                        max_features=None,\n",
       "                                                        min_df=1,\n",
       "                                                        ngram_range=(1, 2),\n",
       "                                                        norm='l2',\n",
       "                                                        preprocessor=None,\n",
       "                                                        smooth_idf=True,\n",
       "                                                        stop_wor...\n",
       "                                                           l1_ratio=None,\n",
       "                                                           max_iter=100,\n",
       "                                                           multi_class='warn',\n",
       "                                                           n_jobs=None,\n",
       "                                                           penalty='l2',\n",
       "                                                           random_state=None,\n",
       "                                                           solver='warn',\n",
       "                                                           tol=0.0001,\n",
       "                                                           verbose=0,\n",
       "                                                           warm_start=False))],\n",
       "                                verbose=False),\n",
       "             iid='warn', n_jobs=None,\n",
       "             param_grid={'tfidf__max_features': (20000, 25000, 30000, 40000,\n",
       "                                                 50000, 60000, 70000, 80000)},\n",
       "             pre_dispatch='2*n_jobs', refit=True, return_train_score=False,\n",
       "             scoring=None, verbose=0)"
      ]
     },
     "execution_count": 46,
     "metadata": {},
     "output_type": "execute_result"
    }
   ],
   "source": [
    "pipeline1 = Pipeline([ \n",
    "                      ('tfidf', TfidfVectorizer(sublinear_tf=True,\n",
    "                                                tokenizer=tokenizer,\n",
    "                                                ngram_range=(1, 2))),\n",
    "                      ('classifier', LogisticRegression()),  \n",
    "                    ])\n",
    "\n",
    "parameters = {\n",
    "              'tfidf__max_features': (20000, 25000, 30000, 40000, 50000, 60000, 70000, 80000)\n",
    "             }\n",
    "\n",
    "grid1 = GridSearchCV(pipeline1, cv=10, param_grid=parameters)\n",
    "grid1.fit(X_lemma_train, y_lemma_train)"
   ]
  },
  {
   "cell_type": "code",
   "execution_count": 47,
   "metadata": {
    "ExecuteTime": {
     "end_time": "2019-08-11T14:42:24.255784Z",
     "start_time": "2019-08-11T14:42:24.249230Z"
    }
   },
   "outputs": [
    {
     "name": "stdout",
     "output_type": "stream",
     "text": [
      "\n",
      "Best Model: 0.897007 using {'tfidf__max_features': 25000}\n",
      "\n",
      "\n",
      "Mean: 0.895467 Stdev:(0.007321) with: {'tfidf__max_features': 20000}\n",
      "Mean: 0.897007 Stdev:(0.007188) with: {'tfidf__max_features': 25000}\n",
      "Mean: 0.897007 Stdev:(0.007394) with: {'tfidf__max_features': 30000}\n",
      "Mean: 0.896652 Stdev:(0.007361) with: {'tfidf__max_features': 40000}\n",
      "Mean: 0.896356 Stdev:(0.007740) with: {'tfidf__max_features': 50000}\n",
      "Mean: 0.895526 Stdev:(0.007941) with: {'tfidf__max_features': 60000}\n",
      "Mean: 0.895111 Stdev:(0.007977) with: {'tfidf__max_features': 70000}\n",
      "Mean: 0.894815 Stdev:(0.007853) with: {'tfidf__max_features': 80000}\n"
     ]
    }
   ],
   "source": [
    "# summarize results\n",
    "print(\"\\nBest Model: %f using %s\" % (grid1.best_score_, grid1.best_params_))\n",
    "print('\\n')\n",
    "means = grid1.cv_results_['mean_test_score']\n",
    "stds = grid1.cv_results_['std_test_score']\n",
    "params = grid1.cv_results_['params']\n",
    "for mean, stdev, param in zip(means, stds, params):\n",
    "    print(\"Mean: %f Stdev:(%f) with: %r\" % (mean, stdev, param))"
   ]
  },
  {
   "cell_type": "markdown",
   "metadata": {},
   "source": [
    "We can see that **25000 features is the best performer**, so more features doesn't guarantee better performance."
   ]
  },
  {
   "cell_type": "markdown",
   "metadata": {},
   "source": [
    "#### Vectorizing"
   ]
  },
  {
   "cell_type": "code",
   "execution_count": 48,
   "metadata": {
    "ExecuteTime": {
     "end_time": "2019-08-11T14:43:26.573808Z",
     "start_time": "2019-08-11T14:42:24.258030Z"
    }
   },
   "outputs": [
    {
     "name": "stdout",
     "output_type": "stream",
     "text": [
      "Vectorizing time: 62.293658s; Splitting time: 0.015189s\n"
     ]
    }
   ],
   "source": [
    "X_lemma = data['review']\n",
    "\n",
    "t0 = time.time()\n",
    "tfidf_lemma = TfidfVectorizer(sublinear_tf=True,\n",
    "                              preprocessor=preprocessor_lemma,\n",
    "                              tokenizer=tokenizer,\n",
    "                              ngram_range=(1, 2),\n",
    "                              max_features= 25000\n",
    "                             )\n",
    "X_tfidf_lemma = tfidf_lemma.fit_transform(X_lemma)\n",
    "t1 = time.time()\n",
    "\n",
    "X_train_tfidf_lemma, X_test_tfidf_lemma, y_train_tfidf_lemma, y_test_tfidf_lemma = train_test_split(X_tfidf_lemma, y, test_size=0.25, random_state=101)\n",
    "t2 = time.time()\n",
    "\n",
    "time_vectorizing_lemma = t1-t0\n",
    "time_splitting_lemma = t2-t1\n",
    "\n",
    "print(\"Vectorizing time: %fs; Splitting time: %fs\" % (time_vectorizing_lemma, time_splitting_lemma))"
   ]
  },
  {
   "cell_type": "markdown",
   "metadata": {},
   "source": [
    "### Lemmatization: Model training and evaluation"
   ]
  },
  {
   "cell_type": "code",
   "execution_count": 49,
   "metadata": {
    "ExecuteTime": {
     "end_time": "2019-08-11T14:43:27.366032Z",
     "start_time": "2019-08-11T14:43:26.575665Z"
    }
   },
   "outputs": [
    {
     "name": "stdout",
     "output_type": "stream",
     "text": [
      "Training time: 0.768108s; Prediction time: 0.002813s\n"
     ]
    }
   ],
   "source": [
    "lr_lemma = LogisticRegression(C=5)\n",
    "t0 = time.time()\n",
    "\n",
    "lr_lemma.fit(X_train_tfidf_lemma, y_train_tfidf_lemma)\n",
    "t1 = time.time()\n",
    "\n",
    "lr_lemma_preds = lr_lemma.predict(X_test_tfidf_lemma)\n",
    "t2 = time.time()\n",
    "\n",
    "time_linear_train_lr_lemma = t1-t0\n",
    "time_linear_predict_lr_lemma = t2-t1\n",
    "\n",
    "# results\n",
    "print(\"Training time: %fs; Prediction time: %fs\" % (time_linear_train_lr_lemma, time_linear_predict_lr_lemma))\n",
    "\n",
    "lr_lemma_cm = confusion_matrix(y_test_tfidf_lemma, lr_lemma_preds)\n",
    "lr_lemma_report = classification_report(y_test_tfidf_lemma, lr_lemma_preds)"
   ]
  },
  {
   "cell_type": "code",
   "execution_count": 50,
   "metadata": {
    "ExecuteTime": {
     "end_time": "2019-08-11T14:43:27.372072Z",
     "start_time": "2019-08-11T14:43:27.368433Z"
    }
   },
   "outputs": [
    {
     "name": "stdout",
     "output_type": "stream",
     "text": [
      "[[2554  276]\n",
      " [ 233 2562]]\n",
      "              precision    recall  f1-score   support\n",
      "\n",
      "           0       0.92      0.90      0.91      2830\n",
      "           1       0.90      0.92      0.91      2795\n",
      "\n",
      "    accuracy                           0.91      5625\n",
      "   macro avg       0.91      0.91      0.91      5625\n",
      "weighted avg       0.91      0.91      0.91      5625\n",
      "\n"
     ]
    }
   ],
   "source": [
    "print(lr_lemma_cm)\n",
    "print(lr_lemma_report)"
   ]
  },
  {
   "cell_type": "markdown",
   "metadata": {},
   "source": [
    "### Stemming: Train model using tuned parameters"
   ]
  },
  {
   "cell_type": "code",
   "execution_count": 51,
   "metadata": {
    "ExecuteTime": {
     "end_time": "2019-08-11T14:45:18.810920Z",
     "start_time": "2019-08-11T14:43:27.374104Z"
    }
   },
   "outputs": [
    {
     "name": "stdout",
     "output_type": "stream",
     "text": [
      "Vectorizing time: 110.622716s; Splitting time: 0.017619s\n",
      "Training time: 0.769530s; Prediction time: 0.002709s\n"
     ]
    }
   ],
   "source": [
    "X_stem = data['review']\n",
    "\n",
    "t0 = time.time()\n",
    "tfidf_stem = TfidfVectorizer(sublinear_tf=True,\n",
    "                              preprocessor=preprocessor_stem,\n",
    "                              tokenizer=tokenizer,\n",
    "                              ngram_range=(1, 2),\n",
    "                              max_features= 25000\n",
    "                             )\n",
    "X_tfidf_stem = tfidf_stem.fit_transform(X_stem)\n",
    "t1 = time.time()\n",
    "\n",
    "X_train_tfidf_stem, X_test_tfidf_stem, y_train_tfidf_stem, y_test_tfidf_stem = train_test_split(X_tfidf_stem, y, test_size=0.25, random_state=101)\n",
    "t2 = time.time()\n",
    "\n",
    "time_vectorizing_lr_stem = t1-t0\n",
    "time_splitting_lr_stem = t2-t1\n",
    "\n",
    "print(\"Vectorizing time: %fs; Splitting time: %fs\" % (time_vectorizing_lr_stem, time_splitting_lr_stem))\n",
    "\n",
    "lr_stem = LogisticRegression(C=5)\n",
    "t0 = time.time()\n",
    "\n",
    "lr_stem.fit(X_train_tfidf_stem, y_train_tfidf_stem)\n",
    "t1 = time.time()\n",
    "\n",
    "lr_stem_preds = lr_stem.predict(X_test_tfidf_stem)\n",
    "t2 = time.time()\n",
    "\n",
    "time_linear_train_lr_stem = t1-t0\n",
    "time_linear_predict_lr_stem = t2-t1\n",
    "\n",
    "# results\n",
    "print(\"Training time: %fs; Prediction time: %fs\" % (time_linear_train_lr_stem, time_linear_predict_lr_stem))\n",
    "\n",
    "lr_stem_cm = confusion_matrix(y_test_tfidf_stem, lr_stem_preds)\n",
    "lr_stem_report = classification_report(y_test_tfidf_stem, lr_stem_preds)"
   ]
  },
  {
   "cell_type": "code",
   "execution_count": 52,
   "metadata": {
    "ExecuteTime": {
     "end_time": "2019-08-11T14:45:18.817430Z",
     "start_time": "2019-08-11T14:45:18.813139Z"
    }
   },
   "outputs": [
    {
     "name": "stdout",
     "output_type": "stream",
     "text": [
      "[[2537  293]\n",
      " [ 230 2565]]\n",
      "              precision    recall  f1-score   support\n",
      "\n",
      "           0       0.92      0.90      0.91      2830\n",
      "           1       0.90      0.92      0.91      2795\n",
      "\n",
      "    accuracy                           0.91      5625\n",
      "   macro avg       0.91      0.91      0.91      5625\n",
      "weighted avg       0.91      0.91      0.91      5625\n",
      "\n"
     ]
    }
   ],
   "source": [
    "print(lr_stem_cm)\n",
    "print(lr_stem_report)"
   ]
  },
  {
   "cell_type": "markdown",
   "metadata": {},
   "source": [
    "### Validating using K-Fold CV\n",
    "Finally, to make sure that our train models are not biased by the dataset, we use K-Fold CV to validate them."
   ]
  },
  {
   "cell_type": "code",
   "execution_count": 53,
   "metadata": {
    "ExecuteTime": {
     "end_time": "2019-08-11T14:45:25.684532Z",
     "start_time": "2019-08-11T14:45:18.819793Z"
    }
   },
   "outputs": [],
   "source": [
    "lr_lemma_scores = cross_val_score(lr_lemma, X_train_tfidf_lemma, y_train_tfidf_lemma, cv=10)"
   ]
  },
  {
   "cell_type": "code",
   "execution_count": 54,
   "metadata": {
    "ExecuteTime": {
     "end_time": "2019-08-11T14:45:32.840070Z",
     "start_time": "2019-08-11T14:45:25.686259Z"
    }
   },
   "outputs": [],
   "source": [
    "lr_stem_scores = cross_val_score(lr_stem, X_train_tfidf_stem, y_train_tfidf_stem, cv=10)"
   ]
  },
  {
   "cell_type": "code",
   "execution_count": 55,
   "metadata": {
    "ExecuteTime": {
     "end_time": "2019-08-11T14:45:32.848795Z",
     "start_time": "2019-08-11T14:45:32.841968Z"
    }
   },
   "outputs": [
    {
     "data": {
      "text/plain": [
       "0.9017467919930716"
      ]
     },
     "execution_count": 55,
     "metadata": {},
     "output_type": "execute_result"
    }
   ],
   "source": [
    "lr_lemma_scores.mean()"
   ]
  },
  {
   "cell_type": "code",
   "execution_count": 56,
   "metadata": {
    "ExecuteTime": {
     "end_time": "2019-08-11T14:45:32.855926Z",
     "start_time": "2019-08-11T14:45:32.850993Z"
    }
   },
   "outputs": [
    {
     "data": {
      "text/plain": [
       "0.900679949649755"
      ]
     },
     "execution_count": 56,
     "metadata": {},
     "output_type": "execute_result"
    }
   ],
   "source": [
    "lr_stem_scores.mean()"
   ]
  },
  {
   "cell_type": "markdown",
   "metadata": {},
   "source": [
    "### Conclusion\n",
    "Lemmatization improves our model over Stemming, but not significantly."
   ]
  },
  {
   "cell_type": "code",
   "execution_count": 57,
   "metadata": {
    "ExecuteTime": {
     "end_time": "2019-08-11T14:45:33.268419Z",
     "start_time": "2019-08-11T14:45:32.858543Z"
    }
   },
   "outputs": [
    {
     "data": {
      "image/png": "[encoded data removed]",
      "text/plain": [
       "<Figure size 1008x504 with 4 Axes>"
      ]
     },
     "metadata": {
      "needs_background": "light"
     },
     "output_type": "display_data"
    }
   ],
   "source": [
    "fig, ax = plt.subplots(1, 2, figsize=[14,7])\n",
    "\n",
    "sns.heatmap(lr_lemma_cm, ax=ax[0], annot=True, fmt='d', square=True)\n",
    "ax[0].set_title('LR LEMMA')\n",
    "ax[0].set_xlabel('Test')\n",
    "ax[0].set_ylabel('Predictions')\n",
    "\n",
    "sns.heatmap(lr_stem_cm, ax=ax[1], annot=True, fmt='d', square=True)\n",
    "ax[1].set_title('LR STEM')\n",
    "ax[1].set_xlabel('Test')\n",
    "ax[1].set_ylabel('Predictions')\n",
    "\n",
    "plt.show()"
   ]
  },
  {
   "cell_type": "markdown",
   "metadata": {},
   "source": [
    "### Save trained model: tuned mode"
   ]
  },
  {
   "cell_type": "code",
   "execution_count": 58,
   "metadata": {
    "ExecuteTime": {
     "end_time": "2019-08-11T14:45:33.275070Z",
     "start_time": "2019-08-11T14:45:33.270557Z"
    }
   },
   "outputs": [],
   "source": [
    "pickle.dump(lr_lemma, open(os.path.join('models', 'Model_LR_imdb_tuned_f1-91_recall-92.pkl'), 'wb'), protocol=4)"
   ]
  },
  {
   "cell_type": "code",
   "execution_count": 59,
   "metadata": {
    "ExecuteTime": {
     "end_time": "2019-08-11T14:56:53.868286Z",
     "start_time": "2019-08-11T14:45:33.277219Z"
    }
   },
   "outputs": [
    {
     "name": "stdout",
     "output_type": "stream",
     "text": [
      "Training time: 629.891112s; Prediction time: 50.680610s\n"
     ]
    }
   ],
   "source": [
    "svm1 = SVC(kernel='linear', C=6)\n",
    "\n",
    "t0 = time.time()\n",
    "svm1.fit(X_train_tfidf_lemma, y_train_tfidf_lemma)\n",
    "t1 = time.time()\n",
    "\n",
    "svm1_preds = svm1.predict(X_test_tfidf_lemma)\n",
    "t2 = time.time()\n",
    "\n",
    "time_svm_train1 = t1-t0\n",
    "time_svm_predict1 = t2-t1\n",
    "\n",
    "# results\n",
    "print(\"Training time: %fs; Prediction time: %fs\" % (time_svm_train1, time_svm_predict1))\n",
    "\n",
    "svm1_cm = confusion_matrix(y_test_tfidf_lemma, svm1_preds)\n",
    "svm1_report = classification_report(y_test_tfidf_lemma, svm1_preds)"
   ]
  },
  {
   "cell_type": "code",
   "execution_count": 60,
   "metadata": {
    "ExecuteTime": {
     "end_time": "2019-08-11T14:56:53.874617Z",
     "start_time": "2019-08-11T14:56:53.870394Z"
    }
   },
   "outputs": [
    {
     "name": "stdout",
     "output_type": "stream",
     "text": [
      "[[2519  311]\n",
      " [ 306 2489]]\n",
      "              precision    recall  f1-score   support\n",
      "\n",
      "           0       0.89      0.89      0.89      2830\n",
      "           1       0.89      0.89      0.89      2795\n",
      "\n",
      "    accuracy                           0.89      5625\n",
      "   macro avg       0.89      0.89      0.89      5625\n",
      "weighted avg       0.89      0.89      0.89      5625\n",
      "\n"
     ]
    }
   ],
   "source": [
    "print(svm1_cm)\n",
    "print(svm1_report)"
   ]
  },
  {
   "cell_type": "markdown",
   "metadata": {},
   "source": [
    "## Investigate wrong predictions"
   ]
  },
  {
   "cell_type": "code",
   "execution_count": 61,
   "metadata": {
    "ExecuteTime": {
     "end_time": "2019-08-11T14:56:53.880611Z",
     "start_time": "2019-08-11T14:56:53.876900Z"
    }
   },
   "outputs": [],
   "source": [
    "wrong_predictions_filter = lr_lemma_preds != y_test_tfidf_lemma"
   ]
  },
  {
   "cell_type": "code",
   "execution_count": 62,
   "metadata": {
    "ExecuteTime": {
     "end_time": "2019-08-11T14:56:53.887352Z",
     "start_time": "2019-08-11T14:56:53.882423Z"
    }
   },
   "outputs": [
    {
     "data": {
      "text/plain": [
       "array([1, 1, 1, 1, 0, 0, 0, 0, 1, 0, 0, 0, 0, 1, 1, 1, 1, 0, 0, 1, 1, 0,\n",
       "       1, 0, 1, 1, 1, 0, 1, 1, 0, 0, 1, 0, 0, 1, 1, 0, 1, 0, 0, 0, 1, 1,\n",
       "       1, 1, 1, 1, 0, 0, 1, 0, 0, 0, 1, 0, 1, 1, 0, 1, 1, 1, 0, 1, 0, 1,\n",
       "       1, 1, 0, 0, 1, 0, 0, 1, 1, 0, 1, 1, 0, 0, 1, 1, 1, 1, 0, 1, 1, 1,\n",
       "       0, 1, 1, 1, 0, 0, 1, 1, 1, 1, 1, 1, 1, 0, 0, 1, 1, 0, 0, 0, 0, 1,\n",
       "       1, 0, 1, 1, 1, 1, 0, 1, 0, 0, 1, 0, 1, 1, 1, 0, 1, 1, 0, 1, 1, 1,\n",
       "       0, 1, 0, 0, 1, 0, 0, 1, 1, 1, 0, 1, 0, 1, 0, 1, 0, 1, 1, 0, 1, 1,\n",
       "       0, 1, 0, 1, 0, 0, 0, 1, 1, 1, 0, 1, 1, 1, 0, 0, 1, 1, 1, 1, 0, 0,\n",
       "       1, 1, 0, 0, 1, 0, 1, 1, 1, 0, 0, 0, 0, 1, 0, 0, 0, 1, 1, 1, 0, 1,\n",
       "       0, 0, 0, 1, 1, 1, 0, 1, 1, 0, 1, 1, 1, 0, 1, 0, 1, 0, 0, 0, 0, 0,\n",
       "       1, 0, 1, 1, 0, 1, 1, 1, 0, 1, 1, 1, 1, 0, 0, 0, 1, 0, 0, 1, 0, 1,\n",
       "       1, 1, 0, 0, 1, 1, 1, 0, 1, 1, 1, 0, 0, 1, 0, 0, 1, 0, 0, 1, 1, 1,\n",
       "       1, 0, 1, 1, 1, 1, 1, 1, 1, 0, 1, 1, 1, 1, 1, 0, 0, 1, 0, 0, 1, 1,\n",
       "       0, 1, 1, 0, 0, 0, 1, 1, 0, 1, 0, 0, 0, 0, 1, 1, 1, 0, 0, 0, 1, 1,\n",
       "       1, 0, 1, 0, 1, 1, 0, 0, 1, 0, 1, 0, 1, 1, 0, 1, 0, 0, 0, 0, 1, 0,\n",
       "       1, 0, 1, 1, 0, 1, 0, 0, 1, 1, 0, 0, 1, 1, 1, 0, 0, 1, 1, 0, 1, 0,\n",
       "       0, 1, 0, 0, 1, 0, 1, 1, 0, 1, 1, 0, 0, 0, 0, 1, 0, 0, 1, 1, 0, 0,\n",
       "       0, 0, 1, 1, 1, 1, 0, 0, 0, 0, 1, 0, 1, 1, 0, 1, 1, 0, 0, 1, 0, 1,\n",
       "       1, 1, 0, 0, 0, 1, 0, 0, 1, 1, 0, 1, 1, 0, 0, 0, 0, 1, 0, 1, 0, 1,\n",
       "       0, 1, 1, 0, 1, 1, 0, 0, 1, 1, 0, 0, 1, 1, 0, 0, 0, 1, 0, 1, 1, 0,\n",
       "       1, 1, 1, 0, 0, 1, 1, 1, 0, 1, 0, 1, 1, 1, 0, 0, 1, 1, 0, 1, 0, 1,\n",
       "       0, 1, 1, 1, 1, 1, 0, 0, 0, 1, 0, 0, 1, 0, 0, 0, 1, 0, 1, 1, 1, 0,\n",
       "       1, 0, 1, 1, 0, 1, 1, 1, 0, 0, 1, 1, 1, 1, 0, 1, 0, 0, 0, 1, 0, 1,\n",
       "       0, 0, 0])"
      ]
     },
     "execution_count": 62,
     "metadata": {},
     "output_type": "execute_result"
    }
   ],
   "source": [
    "lr_lemma_preds[wrong_predictions_filter]"
   ]
  },
  {
   "cell_type": "code",
   "execution_count": 63,
   "metadata": {
    "ExecuteTime": {
     "end_time": "2019-08-11T14:56:53.895471Z",
     "start_time": "2019-08-11T14:56:53.889216Z"
    }
   },
   "outputs": [
    {
     "data": {
      "text/plain": [
       "12326    0\n",
       "9471     0\n",
       "4861     0\n",
       "18265    0\n",
       "21806    1\n",
       "17758    1\n",
       "1058     1\n",
       "3214     1\n",
       "21193    0\n",
       "20185    1\n",
       "10950    1\n",
       "243      1\n",
       "7491     1\n",
       "15651    0\n",
       "354      0\n",
       "16772    0\n",
       "10960    0\n",
       "4011     1\n",
       "2898     1\n",
       "7961     0\n",
       "2504     0\n",
       "17544    1\n",
       "21653    0\n",
       "9555     1\n",
       "6866     0\n",
       "11488    0\n",
       "2161     0\n",
       "10450    1\n",
       "10292    0\n",
       "1211     0\n",
       "        ..\n",
       "10981    1\n",
       "19584    0\n",
       "7072     0\n",
       "20097    0\n",
       "13645    1\n",
       "8416     0\n",
       "14233    1\n",
       "3445     0\n",
       "5712     0\n",
       "3725     1\n",
       "18931    0\n",
       "10808    0\n",
       "13032    0\n",
       "6774     1\n",
       "7732     1\n",
       "1010     0\n",
       "12875    0\n",
       "11396    0\n",
       "9170     0\n",
       "15366    1\n",
       "9391     0\n",
       "15552    1\n",
       "15172    1\n",
       "20861    1\n",
       "6459     0\n",
       "14337    1\n",
       "19192    0\n",
       "14301    1\n",
       "10009    1\n",
       "250      1\n",
       "Name: sentiment, Length: 509, dtype: int64"
      ]
     },
     "execution_count": 63,
     "metadata": {},
     "output_type": "execute_result"
    }
   ],
   "source": [
    "y_test_tfidf_lemma[wrong_predictions_filter]"
   ]
  },
  {
   "cell_type": "code",
   "execution_count": 64,
   "metadata": {
    "ExecuteTime": {
     "end_time": "2019-08-11T14:56:53.902133Z",
     "start_time": "2019-08-11T14:56:53.897210Z"
    }
   },
   "outputs": [
    {
     "data": {
      "text/plain": [
       "Int64Index([12326,  9471,  4861, 18265, 21806, 17758,  1058,  3214, 21193,\n",
       "            20185,\n",
       "            ...\n",
       "             9391, 15552, 15172, 20861,  6459, 14337, 19192, 14301, 10009,\n",
       "              250],\n",
       "           dtype='int64', length=509)"
      ]
     },
     "execution_count": 64,
     "metadata": {},
     "output_type": "execute_result"
    }
   ],
   "source": [
    "y_test_tfidf_lemma[wrong_predictions_filter].index"
   ]
  },
  {
   "cell_type": "code",
   "execution_count": 65,
   "metadata": {
    "ExecuteTime": {
     "end_time": "2019-08-11T14:56:53.910801Z",
     "start_time": "2019-08-11T14:56:53.903708Z"
    }
   },
   "outputs": [
    {
     "name": "stdout",
     "output_type": "stream",
     "text": [
      "Predictions: 1\n",
      "Actual: 0\n",
      "Actual Index: 12326\n",
      "Review: know no one care but do this film be historic for one reason it be unity two hero from two great seventy sci fi film well one be great one be quite bad great one be truly great fact it s best bad one be truly bad fact it s worst course great refer star war it s star mark hamill aka luke skywalker who be hero this film about kid who get his vette swipe then go vega on lead after whole lot adventure eventually recover it since he s into fix car guess you can call him lube skywalker along way he meet hooker with heart gold end up face off with character play by kim milford hero from seventy sci fi cult film laserblast which be ve hint at earlier worst sci fi film ever make milford play lead baddie whom hamill must steal his car back from realize that no one care about this meet two great sci fi hero but do also must say that this be one best worst movie all time mark hamill s act need force plot need extensive jedi train character hooker play by annie potts just might be most annoy character all time ever any film ve ever see but it s fun movie watch on weekend day or weekday night late at night very late it s one those film that meander look for something but without quite find it yet at same time it s entire purpose be like free form jazz simply exist be it doe what be isn t that great but you can t say it isn t entertain because for an hour half you might feel rip off but you win t feel cheat so turn off your mind relax enjoy this muddle gem without any expectation may force be with you always  \n"
     ]
    }
   ],
   "source": [
    "index = 0\n",
    "print('Predictions:', lr_lemma_preds[wrong_predictions_filter][index])\n",
    "print('Actual:', y_test_tfidf_lemma[wrong_predictions_filter].iloc[index])\n",
    "print('Actual Index:', y_test_tfidf_lemma[wrong_predictions_filter].index[index])\n",
    "print('Review:', data.iloc[y_test_tfidf_lemma[wrong_predictions_filter].index[index]]['lemma processed review'])"
   ]
  },
  {
   "cell_type": "markdown",
   "metadata": {},
   "source": [
    "## Predict Test Data"
   ]
  },
  {
   "cell_type": "markdown",
   "metadata": {},
   "source": [
    "### Load Trained Model"
   ]
  },
  {
   "cell_type": "code",
   "execution_count": 89,
   "metadata": {
    "ExecuteTime": {
     "end_time": "2019-08-11T15:54:46.532173Z",
     "start_time": "2019-08-11T15:54:46.529470Z"
    }
   },
   "outputs": [],
   "source": [
    "from sklearn.feature_extraction.text import TfidfVectorizer"
   ]
  },
  {
   "cell_type": "code",
   "execution_count": 72,
   "metadata": {
    "ExecuteTime": {
     "end_time": "2019-08-11T15:41:12.450258Z",
     "start_time": "2019-08-11T15:41:12.445479Z"
    }
   },
   "outputs": [],
   "source": [
    "model_lr = pickle.load(open('./models/Model_LR_imdb_tuned_f1-91_recall-92.pkl', 'rb'))"
   ]
  },
  {
   "cell_type": "code",
   "execution_count": 76,
   "metadata": {
    "ExecuteTime": {
     "end_time": "2019-08-11T15:48:01.710807Z",
     "start_time": "2019-08-11T15:48:01.665058Z"
    }
   },
   "outputs": [],
   "source": [
    "data_test = pd.read_csv('./data/movie_review_noLabel.csv', sep='\\t', encoding='latin-1')"
   ]
  },
  {
   "cell_type": "code",
   "execution_count": 91,
   "metadata": {
    "ExecuteTime": {
     "end_time": "2019-08-11T15:55:18.095987Z",
     "start_time": "2019-08-11T15:55:18.088190Z"
    }
   },
   "outputs": [
    {
     "data": {
      "text/html": [
       "<div>\n",
       "<style scoped>\n",
       "    .dataframe tbody tr th:only-of-type {\n",
       "        vertical-align: middle;\n",
       "    }\n",
       "\n",
       "    .dataframe tbody tr th {\n",
       "        vertical-align: top;\n",
       "    }\n",
       "\n",
       "    .dataframe thead th {\n",
       "        text-align: right;\n",
       "    }\n",
       "</style>\n",
       "<table border=\"1\" class=\"dataframe\">\n",
       "  <thead>\n",
       "    <tr style=\"text-align: right;\">\n",
       "      <th></th>\n",
       "      <th>id</th>\n",
       "      <th>review</th>\n",
       "      <th>sentiment</th>\n",
       "    </tr>\n",
       "  </thead>\n",
       "  <tbody>\n",
       "    <tr>\n",
       "      <th>0</th>\n",
       "      <td>10633_1</td>\n",
       "      <td>I watched this video at a friend's house. I'm ...</td>\n",
       "      <td>1</td>\n",
       "    </tr>\n",
       "    <tr>\n",
       "      <th>1</th>\n",
       "      <td>4489_1</td>\n",
       "      <td>`The Matrix' was an exciting summer blockbuste...</td>\n",
       "      <td>0</td>\n",
       "    </tr>\n",
       "    <tr>\n",
       "      <th>2</th>\n",
       "      <td>3304_10</td>\n",
       "      <td>This movie is one among the very few Indian mo...</td>\n",
       "      <td>1</td>\n",
       "    </tr>\n",
       "    <tr>\n",
       "      <th>3</th>\n",
       "      <td>3350_3</td>\n",
       "      <td>The script for this movie was probably found i...</td>\n",
       "      <td>0</td>\n",
       "    </tr>\n",
       "    <tr>\n",
       "      <th>4</th>\n",
       "      <td>1119_1</td>\n",
       "      <td>Even if this film was allegedly a joke in resp...</td>\n",
       "      <td>1</td>\n",
       "    </tr>\n",
       "  </tbody>\n",
       "</table>\n",
       "</div>"
      ],
      "text/plain": [
       "        id                                             review  sentiment\n",
       "0  10633_1  I watched this video at a friend's house. I'm ...          1\n",
       "1   4489_1  `The Matrix' was an exciting summer blockbuste...          0\n",
       "2  3304_10  This movie is one among the very few Indian mo...          1\n",
       "3   3350_3  The script for this movie was probably found i...          0\n",
       "4   1119_1  Even if this film was allegedly a joke in resp...          1"
      ]
     },
     "execution_count": 91,
     "metadata": {},
     "output_type": "execute_result"
    }
   ],
   "source": [
    "data_test.head()"
   ]
  },
  {
   "cell_type": "markdown",
   "metadata": {},
   "source": [
    "### Predict"
   ]
  },
  {
   "cell_type": "code",
   "execution_count": 92,
   "metadata": {
    "ExecuteTime": {
     "end_time": "2019-08-11T15:55:32.895333Z",
     "start_time": "2019-08-11T15:55:25.584535Z"
    }
   },
   "outputs": [],
   "source": [
    "X_test = data_test['review']\n",
    "\n",
    "test_tfidf = TfidfVectorizer(sublinear_tf=True,\n",
    "                              preprocessor=preprocessor_lemma,\n",
    "                              tokenizer=tokenizer,\n",
    "                              ngram_range=(1, 2),\n",
    "                              max_features= 25000\n",
    "                             )\n",
    "X_test_tfidf = test_tfidf.fit_transform(X_test)"
   ]
  },
  {
   "cell_type": "code",
   "execution_count": 93,
   "metadata": {
    "ExecuteTime": {
     "end_time": "2019-08-11T15:55:38.598062Z",
     "start_time": "2019-08-11T15:55:38.594444Z"
    }
   },
   "outputs": [
    {
     "data": {
      "text/plain": [
       "(2500, 25000)"
      ]
     },
     "execution_count": 93,
     "metadata": {},
     "output_type": "execute_result"
    }
   ],
   "source": [
    "X_test_tfidf.shape"
   ]
  },
  {
   "cell_type": "code",
   "execution_count": 94,
   "metadata": {
    "ExecuteTime": {
     "end_time": "2019-08-11T15:55:44.273086Z",
     "start_time": "2019-08-11T15:55:44.269261Z"
    }
   },
   "outputs": [],
   "source": [
    "final_preds = model_lr.predict(X_test_tfidf)"
   ]
  },
  {
   "cell_type": "code",
   "execution_count": 95,
   "metadata": {
    "ExecuteTime": {
     "end_time": "2019-08-11T15:55:49.967699Z",
     "start_time": "2019-08-11T15:55:49.964760Z"
    }
   },
   "outputs": [],
   "source": [
    "data_test['sentiment'] = final_preds"
   ]
  },
  {
   "cell_type": "code",
   "execution_count": 96,
   "metadata": {
    "ExecuteTime": {
     "end_time": "2019-08-11T15:55:55.570829Z",
     "start_time": "2019-08-11T15:55:55.561814Z"
    }
   },
   "outputs": [
    {
     "data": {
      "text/html": [
       "<div>\n",
       "<style scoped>\n",
       "    .dataframe tbody tr th:only-of-type {\n",
       "        vertical-align: middle;\n",
       "    }\n",
       "\n",
       "    .dataframe tbody tr th {\n",
       "        vertical-align: top;\n",
       "    }\n",
       "\n",
       "    .dataframe thead th {\n",
       "        text-align: right;\n",
       "    }\n",
       "</style>\n",
       "<table border=\"1\" class=\"dataframe\">\n",
       "  <thead>\n",
       "    <tr style=\"text-align: right;\">\n",
       "      <th></th>\n",
       "      <th>id</th>\n",
       "      <th>review</th>\n",
       "      <th>sentiment</th>\n",
       "    </tr>\n",
       "  </thead>\n",
       "  <tbody>\n",
       "    <tr>\n",
       "      <th>0</th>\n",
       "      <td>10633_1</td>\n",
       "      <td>I watched this video at a friend's house. I'm ...</td>\n",
       "      <td>1</td>\n",
       "    </tr>\n",
       "    <tr>\n",
       "      <th>1</th>\n",
       "      <td>4489_1</td>\n",
       "      <td>`The Matrix' was an exciting summer blockbuste...</td>\n",
       "      <td>0</td>\n",
       "    </tr>\n",
       "    <tr>\n",
       "      <th>2</th>\n",
       "      <td>3304_10</td>\n",
       "      <td>This movie is one among the very few Indian mo...</td>\n",
       "      <td>1</td>\n",
       "    </tr>\n",
       "    <tr>\n",
       "      <th>3</th>\n",
       "      <td>3350_3</td>\n",
       "      <td>The script for this movie was probably found i...</td>\n",
       "      <td>0</td>\n",
       "    </tr>\n",
       "    <tr>\n",
       "      <th>4</th>\n",
       "      <td>1119_1</td>\n",
       "      <td>Even if this film was allegedly a joke in resp...</td>\n",
       "      <td>1</td>\n",
       "    </tr>\n",
       "  </tbody>\n",
       "</table>\n",
       "</div>"
      ],
      "text/plain": [
       "        id                                             review  sentiment\n",
       "0  10633_1  I watched this video at a friend's house. I'm ...          1\n",
       "1   4489_1  `The Matrix' was an exciting summer blockbuste...          0\n",
       "2  3304_10  This movie is one among the very few Indian mo...          1\n",
       "3   3350_3  The script for this movie was probably found i...          0\n",
       "4   1119_1  Even if this film was allegedly a joke in resp...          1"
      ]
     },
     "execution_count": 96,
     "metadata": {},
     "output_type": "execute_result"
    }
   ],
   "source": [
    "data_test.head()"
   ]
  },
  {
   "cell_type": "code",
   "execution_count": 99,
   "metadata": {
    "ExecuteTime": {
     "end_time": "2019-08-11T15:56:54.139148Z",
     "start_time": "2019-08-11T15:56:54.044251Z"
    }
   },
   "outputs": [],
   "source": [
    "data_test.to_csv('./data/results.csv',index=False)"
   ]
  },
  {
   "cell_type": "markdown",
   "metadata": {},
   "source": [
    "## Conclusion\n",
    "\n",
    "We achieve 92% accuracy using Logistic Regression with three main tweaks in feature optimization: improve the clean text process, ngram_range and lemmatization.\n",
    "\n",
    "During the reseach for this project, we discover that there are some potential improvements we can experiment to incease the accuracy of the model:\n",
    "1. Implement Gradient Boosting framework (XG Boost, LightGBM, CatBoost)\n",
    "2. Use Word2Vec to improve dataset features"
   ]
  },
  {
   "cell_type": "markdown",
   "metadata": {},
   "source": [
    "## BONUS: Light GBM\n",
    "\n",
    "Light GBM is a gradient boosting framework that uses tree based learning algorithm.\n",
    "\n",
    "Light GBM grows tree vertically while other algorithm grows trees horizontally meaning that Light GBM grows tree leaf-wise while other algorithm grows level-wise. It will choose the leaf with max delta loss to grow. When growing the same leaf, Leaf-wise algorithm can reduce more loss than a level-wise algorithm.\n",
    "\n"
   ]
  },
  {
   "cell_type": "code",
   "execution_count": null,
   "metadata": {
    "ExecuteTime": {
     "start_time": "2019-08-11T18:15:55.287Z"
    }
   },
   "outputs": [],
   "source": [
    "data_test_stem = pd.read_csv('./data/movie_review_noLabel.csv', sep='\\t', encoding='latin-1')\n",
    "model_lr_stem = pickle.load(open('./models/Model_LR_imdb_tuned_stem.pkl', 'rb'))\n",
    "final_preds_stem = model_lr_stem.predict(X_test_tfidf)\n",
    "data_test_stem['sentiment'] = final_preds_stem\n",
    "data_test_stem.to_csv('./data/results_stem.csv',index=False)"
   ]
  },
  {
   "cell_type": "code",
   "execution_count": 151,
   "metadata": {
    "ExecuteTime": {
     "end_time": "2019-08-11T17:31:55.593536Z",
     "start_time": "2019-08-11T17:30:42.121576Z"
    }
   },
   "outputs": [],
   "source": [
    "import lightgbm as lgb\n",
    "from sklearn.model_selection import train_test_split\n",
    "from sklearn.feature_extraction.text import TfidfVectorizer\n",
    "from sklearn.model_selection import cross_val_score\n",
    "\n",
    "data = pd.read_csv('./data/movie_review.csv', delimiter=\"\\t\", encoding='latin-1')\n",
    "data_test = pd.read_csv('./data/movie_review_noLabel.csv', delimiter=\"\\t\", encoding='latin-1')\n",
    "\n",
    "X_lgb = data['review']\n",
    "y_lgb = data[\"sentiment\"]\n",
    "\n",
    "# Vectorizing\n",
    "vectorizer = TfidfVectorizer(sublinear_tf=True,\n",
    "                              preprocessor=preprocessor_lemma,\n",
    "                              tokenizer=tokenizer,\n",
    "                              ngram_range=(1, 2),\n",
    "                              max_features= 50000\n",
    "                             )\n",
    "X_lgb_tf = vectorizer.fit_transform(X_lgb)\n",
    "X_lgb_test = vectorizer.transform(test['review'])"
   ]
  },
  {
   "cell_type": "code",
   "execution_count": 155,
   "metadata": {
    "ExecuteTime": {
     "end_time": "2019-08-11T17:44:27.530058Z",
     "start_time": "2019-08-11T17:42:48.380067Z"
    }
   },
   "outputs": [],
   "source": [
    "# Train - Test Split\n",
    "X_lgb_train, X_lgb_test, y_lgb_train, y_lgb_test = train_test_split(X_lgb_tf, y_lgb, test_size = 0.25, random_state = 102)\n",
    "\n",
    "# Define parameter for LGM Classifier\n",
    "params = {\n",
    "    'learning_rate': 0.03,\n",
    "    'num_iterations': 200,\n",
    "    'num_leaves': 80,\n",
    "    'min_data_in_leaf': 10,\n",
    "    'bagging_freq': 2,\n",
    "    'bagging_fraction': 0.8,\n",
    "    'feature_fraction': 0.5,\n",
    "    'boost': 'gbdt',   \n",
    "    'max_bin': 500,\n",
    "    'objective': 'binary',\n",
    "    'metric': 'binary_logloss'\n",
    "}\n",
    "\n",
    "d_train = lgb.Dataset(X_lgb_train, label=y_lgb_train)\n",
    "\n",
    "# Train model\n",
    "lgb_clf = lgb.train(params, d_train, 2000)\n",
    "\n",
    "#Prediction\n",
    "lgb_preds = lgb_clf.predict(X_lgb_test)"
   ]
  },
  {
   "cell_type": "code",
   "execution_count": 156,
   "metadata": {
    "ExecuteTime": {
     "end_time": "2019-08-11T17:46:48.648578Z",
     "start_time": "2019-08-11T17:46:48.642552Z"
    }
   },
   "outputs": [],
   "source": [
    "# As prediction output will be a list of probabilities\n",
    "# We need to convert it into binary\n",
    "for i in range(0,len(lgb_preds)):\n",
    "    if lgb_preds[i] >= .5:       # setting threshold to .5\n",
    "       lgb_preds[i] = 1\n",
    "    else:\n",
    "       lgb_preds[i] = 0"
   ]
  },
  {
   "cell_type": "code",
   "execution_count": 157,
   "metadata": {
    "ExecuteTime": {
     "end_time": "2019-08-11T17:46:56.444395Z",
     "start_time": "2019-08-11T17:46:56.381872Z"
    }
   },
   "outputs": [
    {
     "name": "stdout",
     "output_type": "stream",
     "text": [
      "[[2366  347]\n",
      " [ 351 2561]]\n",
      "              precision    recall  f1-score   support\n",
      "\n",
      "           0       0.87      0.87      0.87      2713\n",
      "           1       0.88      0.88      0.88      2912\n",
      "\n",
      "    accuracy                           0.88      5625\n",
      "   macro avg       0.88      0.88      0.88      5625\n",
      "weighted avg       0.88      0.88      0.88      5625\n",
      "\n"
     ]
    }
   ],
   "source": [
    "# Validation\n",
    "lgb_cm = confusion_matrix(y_lgb_test, lgb_preds)\n",
    "lgb_report = classification_report(y_lgb_test, lgb_preds)\n",
    "\n",
    "print(lgb_cm)\n",
    "print(lgb_report)"
   ]
  },
  {
   "cell_type": "code",
   "execution_count": null,
   "metadata": {},
   "outputs": [],
   "source": [
    "final_lgb_preds = lgb_clf.predict(X_lgb_test)"
   ]
  },
  {
   "cell_type": "code",
   "execution_count": null,
   "metadata": {},
   "outputs": [],
   "source": [
    "data_test['sentiment'] = final_lgb_preds\n",
    "data_test.to_csv('./data/results_lgb.csv',index=False)"
   ]
  },
  {
   "cell_type": "code",
   "execution_count": null,
   "metadata": {},
   "outputs": [],
   "source": [
    "# K-Fold Validation\n",
    "lgb_kfold_scores = cross_val_score(lgb_clf, X_lgb_train, y_lgb_train, cv=10)"
   ]
  },
  {
   "cell_type": "code",
   "execution_count": null,
   "metadata": {
    "ExecuteTime": {
     "start_time": "2019-08-11T17:48:48.595Z"
    },
    "scrolled": true
   },
   "outputs": [
    {
     "name": "stdout",
     "output_type": "stream",
     "text": [
      "[50]\ttraining's auc: 0.968753\tvalid_1's auc: 0.919667\n",
      "[100]\ttraining's auc: 0.991569\tvalid_1's auc: 0.941008\n",
      "[150]\ttraining's auc: 0.998548\tvalid_1's auc: 0.950496\n",
      "[200]\ttraining's auc: 0.999871\tvalid_1's auc: 0.955575\n",
      "[250]\ttraining's auc: 0.999999\tvalid_1's auc: 0.958062\n",
      "[300]\ttraining's auc: 1\tvalid_1's auc: 0.959779\n",
      "[350]\ttraining's auc: 1\tvalid_1's auc: 0.96092\n",
      "[400]\ttraining's auc: 1\tvalid_1's auc: 0.961574\n",
      "[450]\ttraining's auc: 1\tvalid_1's auc: 0.962272\n",
      "[500]\ttraining's auc: 1\tvalid_1's auc: 0.962679\n",
      "[550]\ttraining's auc: 1\tvalid_1's auc: 0.963206\n",
      "[600]\ttraining's auc: 1\tvalid_1's auc: 0.963521\n",
      "[650]\ttraining's auc: 1\tvalid_1's auc: 0.964091\n",
      "[700]\ttraining's auc: 1\tvalid_1's auc: 0.964125\n",
      "[750]\ttraining's auc: 1\tvalid_1's auc: 0.964344\n",
      "[800]\ttraining's auc: 1\tvalid_1's auc: 0.96448\n",
      "[850]\ttraining's auc: 1\tvalid_1's auc: 0.96475\n",
      "[900]\ttraining's auc: 1\tvalid_1's auc: 0.964779\n",
      "[950]\ttraining's auc: 1\tvalid_1's auc: 0.96482\n",
      "[1000]\ttraining's auc: 1\tvalid_1's auc: 0.964909\n",
      "[1050]\ttraining's auc: 1\tvalid_1's auc: 0.965004\n",
      "Fold #1:  0.9650\n",
      "[50]\ttraining's auc: 0.97006\tvalid_1's auc: 0.919823\n",
      "[100]\ttraining's auc: 0.991623\tvalid_1's auc: 0.939467\n",
      "[150]\ttraining's auc: 0.998653\tvalid_1's auc: 0.948758\n",
      "[200]\ttraining's auc: 0.999886\tvalid_1's auc: 0.953011\n",
      "[250]\ttraining's auc: 0.99999\tvalid_1's auc: 0.955687\n",
      "[300]\ttraining's auc: 0.999996\tvalid_1's auc: 0.957554\n",
      "[350]\ttraining's auc: 1\tvalid_1's auc: 0.958648\n",
      "[400]\ttraining's auc: 1\tvalid_1's auc: 0.959368\n",
      "[450]\ttraining's auc: 1\tvalid_1's auc: 0.960092\n",
      "[500]\ttraining's auc: 1\tvalid_1's auc: 0.960321\n",
      "[550]\ttraining's auc: 1\tvalid_1's auc: 0.960526\n",
      "[600]\ttraining's auc: 1\tvalid_1's auc: 0.960884\n",
      "[650]\ttraining's auc: 1\tvalid_1's auc: 0.961216\n",
      "[700]\ttraining's auc: 1\tvalid_1's auc: 0.961221\n",
      "[750]\ttraining's auc: 1\tvalid_1's auc: 0.961399\n",
      "[800]\ttraining's auc: 1\tvalid_1's auc: 0.961751\n",
      "[850]\ttraining's auc: 1\tvalid_1's auc: 0.961885\n",
      "[900]\ttraining's auc: 1\tvalid_1's auc: 0.962155\n",
      "[950]\ttraining's auc: 1\tvalid_1's auc: 0.962281\n",
      "[1000]\ttraining's auc: 1\tvalid_1's auc: 0.962389\n",
      "[1050]\ttraining's auc: 1\tvalid_1's auc: 0.962469\n",
      "Fold #2:  0.9625\n",
      "[50]\ttraining's auc: 0.9704\tvalid_1's auc: 0.911847\n",
      "[100]\ttraining's auc: 0.992221\tvalid_1's auc: 0.930967\n",
      "[150]\ttraining's auc: 0.998794\tvalid_1's auc: 0.941511\n",
      "[200]\ttraining's auc: 0.999919\tvalid_1's auc: 0.946427\n",
      "[250]\ttraining's auc: 0.999993\tvalid_1's auc: 0.949345\n",
      "[300]\ttraining's auc: 0.999997\tvalid_1's auc: 0.951062\n",
      "[350]\ttraining's auc: 0.999999\tvalid_1's auc: 0.952398\n",
      "[400]\ttraining's auc: 1\tvalid_1's auc: 0.953048\n",
      "[450]\ttraining's auc: 1\tvalid_1's auc: 0.953749\n",
      "[500]\ttraining's auc: 1\tvalid_1's auc: 0.954296\n",
      "[550]\ttraining's auc: 1\tvalid_1's auc: 0.954635\n",
      "[600]\ttraining's auc: 1\tvalid_1's auc: 0.955137\n",
      "[650]\ttraining's auc: 1\tvalid_1's auc: 0.955594\n",
      "[700]\ttraining's auc: 1\tvalid_1's auc: 0.955928\n",
      "[750]\ttraining's auc: 1\tvalid_1's auc: 0.95619\n",
      "[800]\ttraining's auc: 1\tvalid_1's auc: 0.956484\n",
      "[850]\ttraining's auc: 1\tvalid_1's auc: 0.956515\n",
      "[900]\ttraining's auc: 1\tvalid_1's auc: 0.956742\n",
      "[950]\ttraining's auc: 1\tvalid_1's auc: 0.956857\n",
      "[1000]\ttraining's auc: 1\tvalid_1's auc: 0.956897\n",
      "[1050]\ttraining's auc: 1\tvalid_1's auc: 0.957091\n",
      "Fold #3:  0.9571\n",
      "[50]\ttraining's auc: 0.969372\tvalid_1's auc: 0.915032\n",
      "[100]\ttraining's auc: 0.991886\tvalid_1's auc: 0.935434\n",
      "[150]\ttraining's auc: 0.998667\tvalid_1's auc: 0.945253\n",
      "[200]\ttraining's auc: 0.999907\tvalid_1's auc: 0.950624\n",
      "[250]\ttraining's auc: 0.999998\tvalid_1's auc: 0.953384\n",
      "[300]\ttraining's auc: 1\tvalid_1's auc: 0.954969\n",
      "[350]\ttraining's auc: 1\tvalid_1's auc: 0.956568\n",
      "[400]\ttraining's auc: 1\tvalid_1's auc: 0.957792\n",
      "[450]\ttraining's auc: 1\tvalid_1's auc: 0.958497\n"
     ]
    }
   ],
   "source": [
    "from sklearn.feature_extraction.text import CountVectorizer\n",
    "from sklearn.metrics import accuracy_score, classification_report, confusion_matrix\n",
    "from sklearn.model_selection import KFold\n",
    "from sklearn.metrics import roc_auc_score\n",
    "import lightgbm as lgb\n",
    "\n",
    "train = data.copy()\n",
    "test = pd.read_csv('./data/movie_review_noLabel.csv', delimiter=\"\\t\", encoding='latin-1')\n",
    "\n",
    "X_lgb = train['review']\n",
    "\n",
    "vectorizer = TfidfVectorizer(sublinear_tf=True,\n",
    "                              preprocessor=preprocessor_lemma,\n",
    "                              tokenizer=tokenizer,\n",
    "                              ngram_range=(1, 2),\n",
    "                              max_features= 25000\n",
    "                             )\n",
    "\n",
    "train_tf = vectorizer.fit_transform(X_lgb)\n",
    "test_tf = vectorizer.transform(test['review'])\n",
    "\n",
    "y_lgb = data[\"sentiment\"]\n",
    "\n",
    "train_data_features = train_tf.astype(np.float32)\n",
    "test_data_features = test_tf.astype(np.float32)\n",
    "\n",
    "y_test_pred = np.zeros(len(test))\n",
    "scores = []\n",
    "\n",
    "param = {\n",
    "    'learning_rate': 0.05,\n",
    "    'num_leaves': 80,\n",
    "    'min_data_in_leaf': 10,\n",
    "    'bagging_freq': 2,\n",
    "    'bagging_fraction': 0.8,\n",
    "    'feature_fraction': 0.5,\n",
    "    'boost': 'gbdt',    \n",
    "    'objective': 'binary',\n",
    "    'metric': 'auc'\n",
    "}\n",
    "\n",
    "n_fold = 5\n",
    "folds = KFold(n_splits=n_fold, shuffle=True, random_state=42)\n",
    "\n",
    "for fold_n, (train_idx, valid_idx) in enumerate(folds.split(train_data_features)):\n",
    "    X_train, X_valid = train_data_features[train_idx], train_data_features[valid_idx]\n",
    "    y_train, y_valid = y.iloc[train_idx], y.iloc[valid_idx]\n",
    "    \n",
    "    trn_data = lgb.Dataset(X_train, label=y_train)\n",
    "    val_data = lgb.Dataset(X_valid, label=y_valid)\n",
    "    \n",
    "    model = lgb.train(param, trn_data, 1050, valid_sets = [trn_data, val_data], verbose_eval=50)\n",
    "    y_valid_pred = model.predict(X_valid, num_iteration=model.best_iteration)\n",
    "    y_test_pred += model.predict(test_data_features, num_iteration=model.best_iteration)/n_fold\n",
    "    \n",
    "    score = roc_auc_score(y_valid, y_valid_pred)\n",
    "    print(\"Fold #{0}: {1: .4f}\".format(fold_n+1, score))\n",
    "    scores.append(score)\n",
    "\n",
    "print('CV mean score: {0:.4f}, std: {1:.4f}.'.format(np.mean(scores), np.std(scores)))\n"
   ]
  },
  {
   "cell_type": "code",
   "execution_count": null,
   "metadata": {
    "ExecuteTime": {
     "start_time": "2019-08-11T18:08:37.721Z"
    }
   },
   "outputs": [],
   "source": [
    "output = pd.DataFrame(data={\"id\":test[\"id\"], \"review\":test[\"review\"], \"sentiment\":y_test_pred})\n",
    "output.to_csv('./data/result_lgb.csv', index=False, quoting=3)"
   ]
  },
  {
   "cell_type": "code",
   "execution_count": null,
   "metadata": {},
   "outputs": [],
   "source": []
  }
 ],
 "metadata": {
  "kernelspec": {
   "display_name": "Python 3",
   "language": "python",
   "name": "python3"
  },
  "language_info": {
   "codemirror_mode": {
    "name": "ipython",
    "version": 3
   },
   "file_extension": ".py",
   "mimetype": "text/x-python",
   "name": "python",
   "nbconvert_exporter": "python",
   "pygments_lexer": "ipython3",
   "version": "3.7.3"
  },
  "toc": {
   "base_numbering": 1,
   "nav_menu": {},
   "number_sections": true,
   "sideBar": true,
   "skip_h1_title": false,
   "title_cell": "Table of Contents",
   "title_sidebar": "Contents",
   "toc_cell": false,
   "toc_position": {
    "height": "calc(100% - 180px)",
    "left": "10px",
    "top": "150px",
    "width": "288px"
   },
   "toc_section_display": true,
   "toc_window_display": true
  },
  "varInspector": {
   "cols": {
    "lenName": 16,
    "lenType": 16,
    "lenVar": 40
   },
   "kernels_config": {
    "python": {
     "delete_cmd_postfix": "",
     "delete_cmd_prefix": "del ",
     "library": "var_list.py",
     "varRefreshCmd": "print(var_dic_list())"
    },
    "r": {
     "delete_cmd_postfix": ") ",
     "delete_cmd_prefix": "rm(",
     "library": "var_list.r",
     "varRefreshCmd": "cat(var_dic_list()) "
    }
   },
   "oldHeight": 478,
   "position": {
    "height": "40px",
    "left": "1090px",
    "right": "20px",
    "top": "81px",
    "width": "350px"
   },
   "types_to_exclude": [
    "module",
    "function",
    "builtin_function_or_method",
    "instance",
    "_Feature"
   ],
   "varInspector_section_display": "none",
   "window_display": true
  }
 },
 "nbformat": 4,
 "nbformat_minor": 2
}
