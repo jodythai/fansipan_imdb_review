{
 "cells": [
  {
   "cell_type": "markdown",
   "metadata": {},
   "source": [
    "[Bag of Words Meets Bags of Popcorn](https://www.kaggle.com/c/word2vec-nlp-tutorial/data)\n",
    "======\n",
    "\n",
    "## Data Set\n",
    "\n",
    "The labeled data set consists of 50,000 IMDB movie reviews, specially selected for sentiment analysis. The sentiment of reviews is binary, meaning the IMDB rating < 5 results in a sentiment score of 0, and rating >=7 have a sentiment score of 1. No individual movie has more than 30 reviews. The 25,000 review labeled training set does not include any of the same movies as the 25,000 review test set. In addition, there are another 50,000 IMDB reviews provided without any rating labels.\n",
    "\n",
    "## File descriptions\n",
    "\n",
    "labeledTrainData - The labeled training set. The file is tab-delimited and has a header row followed by 25,000 rows containing an id, sentiment, and text for each review.\n",
    "## Data fields\n",
    "\n",
    "* id - Unique ID of each review\n",
    "* sentiment - Sentiment of the review; 1 for positive reviews and 0 for negative reviews\n",
    "* review - Text of the review\n",
    "\n",
    "## Objective\n",
    "Objective of this dataset is base on **review** we predict **sentiment** (positive or negative) so X is **review** column and y is **sentiment** column"
   ]
  },
  {
   "cell_type": "markdown",
   "metadata": {},
   "source": [
    "## 1. Load Dataset and EDA"
   ]
  },
  {
   "cell_type": "code",
   "execution_count": 1,
   "metadata": {},
   "outputs": [],
   "source": [
    "# Import necessary libraries\n",
    "import numpy as np\n",
    "import pandas as pd\n",
    "import seaborn as sns\n",
    "import matplotlib.pyplot as plt\n",
    "import warnings\n",
    "warnings.filterwarnings('ignore')"
   ]
  },
  {
   "cell_type": "code",
   "execution_count": 2,
   "metadata": {},
   "outputs": [],
   "source": [
    "# Load dataset\n",
    "data = pd.read_csv('./data/movie_review.csv', sep='\\t', encoding='latin-1')"
   ]
  },
  {
   "cell_type": "code",
   "execution_count": 3,
   "metadata": {},
   "outputs": [
    {
     "data": {
      "text/html": [
       "<div>\n",
       "<style scoped>\n",
       "    .dataframe tbody tr th:only-of-type {\n",
       "        vertical-align: middle;\n",
       "    }\n",
       "\n",
       "    .dataframe tbody tr th {\n",
       "        vertical-align: top;\n",
       "    }\n",
       "\n",
       "    .dataframe thead th {\n",
       "        text-align: right;\n",
       "    }\n",
       "</style>\n",
       "<table border=\"1\" class=\"dataframe\">\n",
       "  <thead>\n",
       "    <tr style=\"text-align: right;\">\n",
       "      <th></th>\n",
       "      <th>id</th>\n",
       "      <th>review</th>\n",
       "      <th>sentiment</th>\n",
       "    </tr>\n",
       "  </thead>\n",
       "  <tbody>\n",
       "    <tr>\n",
       "      <th>0</th>\n",
       "      <td>5814_8</td>\n",
       "      <td>With all this stuff going down at the moment w...</td>\n",
       "      <td>1</td>\n",
       "    </tr>\n",
       "    <tr>\n",
       "      <th>1</th>\n",
       "      <td>2381_9</td>\n",
       "      <td>\\The Classic War of the Worlds\\\" by Timothy Hi...</td>\n",
       "      <td>1</td>\n",
       "    </tr>\n",
       "    <tr>\n",
       "      <th>2</th>\n",
       "      <td>7759_3</td>\n",
       "      <td>The film starts with a manager (Nicholas Bell)...</td>\n",
       "      <td>0</td>\n",
       "    </tr>\n",
       "    <tr>\n",
       "      <th>3</th>\n",
       "      <td>3630_4</td>\n",
       "      <td>It must be assumed that those who praised this...</td>\n",
       "      <td>0</td>\n",
       "    </tr>\n",
       "    <tr>\n",
       "      <th>4</th>\n",
       "      <td>9495_8</td>\n",
       "      <td>Superbly trashy and wondrously unpretentious 8...</td>\n",
       "      <td>1</td>\n",
       "    </tr>\n",
       "  </tbody>\n",
       "</table>\n",
       "</div>"
      ],
      "text/plain": [
       "       id                                             review  sentiment\n",
       "0  5814_8  With all this stuff going down at the moment w...          1\n",
       "1  2381_9  \\The Classic War of the Worlds\\\" by Timothy Hi...          1\n",
       "2  7759_3  The film starts with a manager (Nicholas Bell)...          0\n",
       "3  3630_4  It must be assumed that those who praised this...          0\n",
       "4  9495_8  Superbly trashy and wondrously unpretentious 8...          1"
      ]
     },
     "execution_count": 3,
     "metadata": {},
     "output_type": "execute_result"
    }
   ],
   "source": [
    "data.head()"
   ]
  },
  {
   "cell_type": "code",
   "execution_count": 4,
   "metadata": {},
   "outputs": [
    {
     "name": "stdout",
     "output_type": "stream",
     "text": [
      "<class 'pandas.core.frame.DataFrame'>\n",
      "RangeIndex: 22500 entries, 0 to 22499\n",
      "Data columns (total 3 columns):\n",
      "id           22500 non-null object\n",
      "review       22500 non-null object\n",
      "sentiment    22500 non-null int64\n",
      "dtypes: int64(1), object(2)\n",
      "memory usage: 527.4+ KB\n"
     ]
    }
   ],
   "source": [
    "data.info()"
   ]
  },
  {
   "cell_type": "code",
   "execution_count": 5,
   "metadata": {},
   "outputs": [
    {
     "data": {
      "text/plain": [
       "id           0\n",
       "review       0\n",
       "sentiment    0\n",
       "dtype: int64"
      ]
     },
     "execution_count": 5,
     "metadata": {},
     "output_type": "execute_result"
    }
   ],
   "source": [
    "# Check for null data\n",
    "data.isnull().sum()"
   ]
  },
  {
   "cell_type": "markdown",
   "metadata": {},
   "source": [
    "#### Classes distribution in the dataset"
   ]
  },
  {
   "cell_type": "code",
   "execution_count": 6,
   "metadata": {},
   "outputs": [
    {
     "data": {
      "image/png": "[encoded data removed]",
      "text/plain": [
       "<Figure size 432x288 with 1 Axes>"
      ]
     },
     "metadata": {
      "needs_background": "light"
     },
     "output_type": "display_data"
    },
    {
     "name": "stdout",
     "output_type": "stream",
     "text": [
      "Positive: 11278 - Negative: 11222\n"
     ]
    }
   ],
   "source": [
    "# how many possitive and negative labels?\n",
    "plt.hist(data[data.sentiment == 1].sentiment,\n",
    "         bins=2, color='green', label='Positive')\n",
    "plt.hist(data[data.sentiment == 0].sentiment,\n",
    "         bins=2, color='blue', label='Negative')\n",
    "plt.title('Classes distribution in the train data')\n",
    "plt.xticks([data[data.sentiment == 1].sentiment.count(), data[data.sentiment == 0].sentiment.count()])\n",
    "plt.xlim(-0.5, 2)\n",
    "plt.legend()\n",
    "plt.show()\n",
    "print('Positive: {} - Negative: {}'.format(data[data.sentiment == 1].sentiment.count(), data[data.sentiment == 0].sentiment.count()))"
   ]
  },
  {
   "cell_type": "code",
   "execution_count": 7,
   "metadata": {},
   "outputs": [],
   "source": [
    "# data.drop(columns='processed_review', inplace=True)\n",
    "data.insert(loc = 2, column=\"processed_review\", value=\"\")"
   ]
  },
  {
   "cell_type": "code",
   "execution_count": 8,
   "metadata": {},
   "outputs": [],
   "source": [
    "# data.drop(columns='processed_review_lemma', inplace=True)\n",
    "data.insert(loc = 2, column=\"processed_review_lemma\", value=\"\")"
   ]
  },
  {
   "cell_type": "markdown",
   "metadata": {},
   "source": [
    "## 2. Preprocessing"
   ]
  },
  {
   "cell_type": "code",
   "execution_count": 9,
   "metadata": {},
   "outputs": [
    {
     "name": "stderr",
     "output_type": "stream",
     "text": [
      "[nltk_data] Downloading package wordnet to\n",
      "[nltk_data]     C:\\Users\\Admin\\AppData\\Roaming\\nltk_data...\n",
      "[nltk_data]   Unzipping corpora\\wordnet.zip.\n"
     ]
    }
   ],
   "source": [
    "# Get the list of stop words in English\n",
    "import nltk\n",
    "from nltk.corpus import stopwords\n",
    "from nltk.stem import WordNetLemmatizer\n",
    "\n",
    "nltk.download('wordnet')\n",
    "\n",
    "#In Python, searching a set is much faster than searching\n",
    "#a list, so convert the stop words to a set\n",
    "stop_words = set(stopwords.words('english'))\n",
    "lemmatizer = WordNetLemmatizer()"
   ]
  },
  {
   "cell_type": "code",
   "execution_count": 10,
   "metadata": {},
   "outputs": [],
   "source": [
    "# Remove special characters, html tags and \"trash\"\n",
    "import re\n",
    "\n",
    "def preprocessor(text):\n",
    "  # remove HTML markup\n",
    "  text = re.sub('<[^>]*>', '', text)\n",
    "  \n",
    "  # Save emoticons for later appending\n",
    "  emoticons = re.findall('(?::|;|=)(?:-)?(?:\\)|\\(|D|P)', text)\n",
    "  \n",
    "  # Remove any non-word character and append the emoticons,\n",
    "  # removing the nose character for standardization. Convert to lower case\n",
    "  text = (re.sub('[\\W]+', ' ', text.lower()) + ' ' + ' '.join(emoticons).replace('-', ''))\n",
    "  \n",
    "  return text"
   ]
  },
  {
   "cell_type": "code",
   "execution_count": 11,
   "metadata": {},
   "outputs": [
    {
     "name": "stdout",
     "output_type": "stream",
     "text": [
      "yeah d i love loving loved loovveee it so much blah  :D =)\n"
     ]
    }
   ],
   "source": [
    "string = 'Yeah :D I love <span id=\"asd\">loving</span> loved loovveee it so much =)) !@#% Blah #()@...,<,<>'\n",
    "\n",
    "string = preprocessor(string)\n",
    "\n",
    "print(string)"
   ]
  },
  {
   "cell_type": "code",
   "execution_count": 12,
   "metadata": {},
   "outputs": [
    {
     "data": {
      "text/html": [
       "<div>\n",
       "<style scoped>\n",
       "    .dataframe tbody tr th:only-of-type {\n",
       "        vertical-align: middle;\n",
       "    }\n",
       "\n",
       "    .dataframe tbody tr th {\n",
       "        vertical-align: top;\n",
       "    }\n",
       "\n",
       "    .dataframe thead th {\n",
       "        text-align: right;\n",
       "    }\n",
       "</style>\n",
       "<table border=\"1\" class=\"dataframe\">\n",
       "  <thead>\n",
       "    <tr style=\"text-align: right;\">\n",
       "      <th></th>\n",
       "      <th>id</th>\n",
       "      <th>review</th>\n",
       "      <th>processed_review_lemma</th>\n",
       "      <th>processed_review</th>\n",
       "      <th>sentiment</th>\n",
       "    </tr>\n",
       "  </thead>\n",
       "  <tbody>\n",
       "    <tr>\n",
       "      <th>4826</th>\n",
       "      <td>8027_10</td>\n",
       "      <td>When I saw it for the first time I was really ...</td>\n",
       "      <td></td>\n",
       "      <td></td>\n",
       "      <td>1</td>\n",
       "    </tr>\n",
       "    <tr>\n",
       "      <th>14691</th>\n",
       "      <td>7035_3</td>\n",
       "      <td>Extremely thin 'plot' of satanic rituals or so...</td>\n",
       "      <td></td>\n",
       "      <td></td>\n",
       "      <td>0</td>\n",
       "    </tr>\n",
       "    <tr>\n",
       "      <th>20442</th>\n",
       "      <td>3902_4</td>\n",
       "      <td>This is indeed a god adaptation of Jane Austen...</td>\n",
       "      <td></td>\n",
       "      <td></td>\n",
       "      <td>0</td>\n",
       "    </tr>\n",
       "    <tr>\n",
       "      <th>16588</th>\n",
       "      <td>5099_1</td>\n",
       "      <td>This incredibly overrated anime television ser...</td>\n",
       "      <td></td>\n",
       "      <td></td>\n",
       "      <td>0</td>\n",
       "    </tr>\n",
       "    <tr>\n",
       "      <th>4620</th>\n",
       "      <td>12255_10</td>\n",
       "      <td>Of the spate of Austen films from the 1990s, t...</td>\n",
       "      <td></td>\n",
       "      <td></td>\n",
       "      <td>1</td>\n",
       "    </tr>\n",
       "  </tbody>\n",
       "</table>\n",
       "</div>"
      ],
      "text/plain": [
       "             id                                             review  \\\n",
       "4826    8027_10  When I saw it for the first time I was really ...   \n",
       "14691    7035_3  Extremely thin 'plot' of satanic rituals or so...   \n",
       "20442    3902_4  This is indeed a god adaptation of Jane Austen...   \n",
       "16588    5099_1  This incredibly overrated anime television ser...   \n",
       "4620   12255_10  Of the spate of Austen films from the 1990s, t...   \n",
       "\n",
       "      processed_review_lemma processed_review  sentiment  \n",
       "4826                                                   1  \n",
       "14691                                                  0  \n",
       "20442                                                  0  \n",
       "16588                                                  0  \n",
       "4620                                                   1  "
      ]
     },
     "execution_count": 12,
     "metadata": {},
     "output_type": "execute_result"
    }
   ],
   "source": [
    "data.sample(5)"
   ]
  },
  {
   "cell_type": "code",
   "execution_count": 13,
   "metadata": {},
   "outputs": [],
   "source": [
    "# Tokenizer and Stemming\n",
    "# tokenizer: to break down our twits in individual words\n",
    "# stemming: reducing a word to its root\n",
    "\n",
    "from nltk.stem import PorterStemmer\n",
    "\n",
    "porter = PorterStemmer()\n",
    "\n",
    "def tokenizer_porter(text):\n",
    "  return [porter.stem(word) for word in text.split()]"
   ]
  },
  {
   "cell_type": "code",
   "execution_count": 14,
   "metadata": {},
   "outputs": [
    {
     "name": "stdout",
     "output_type": "stream",
     "text": [
      "['yeah', 'd', 'i', 'love', 'love', 'love', 'loovvee', 'it', 'so', 'much', 'blah', ':D', '=)']\n"
     ]
    }
   ],
   "source": [
    "string_token = tokenizer_porter(string)\n",
    "print(string_token)"
   ]
  },
  {
   "cell_type": "code",
   "execution_count": 15,
   "metadata": {},
   "outputs": [],
   "source": [
    "def lemmatize(text):\n",
    "    text = [lemmatizer.lemmatize(token) for token in text.split(\" \")]\n",
    "    text = [lemmatizer.lemmatize(token, \"v\") for token in text]\n",
    "    text = [word for word in text if not word in stop_words]\n",
    "    text = \" \".join(text)\n",
    "    return text\n",
    "  \n",
    "def tokenizer_lemma(text):\n",
    "    text = [lemmatizer.lemmatize(token) for token in text.split(\" \")]\n",
    "    text = [lemmatizer.lemmatize(token, \"v\") for token in text]\n",
    "    text = [word for word in text if not word in stop_words]\n",
    "    return text"
   ]
  },
  {
   "cell_type": "code",
   "execution_count": 16,
   "metadata": {},
   "outputs": [
    {
     "name": "stdout",
     "output_type": "stream",
     "text": [
      "['yeah', 'love', 'love', 'love', 'loovveee', 'much', 'blah', '', ':D', '=)']\n"
     ]
    }
   ],
   "source": [
    "string_token2 = tokenizer_lemma(string)\n",
    "print(string_token2)"
   ]
  },
  {
   "cell_type": "markdown",
   "metadata": {},
   "source": [
    "**Lemmatizer is more efficient as it removes stopwords from the text.**"
   ]
  },
  {
   "cell_type": "code",
   "execution_count": 17,
   "metadata": {},
   "outputs": [],
   "source": [
    "data['processed_review'] = data['review'].apply(preprocessor)\n",
    "data.head()"
   ]
  },
  {
   "cell_type": "code",
   "execution_count": null,
   "metadata": {},
   "outputs": [],
   "source": [
    "data['processed_review_lemma'] = data['processed_review'].apply(lemmatize)\n",
    "data.head()"
   ]
  },
  {
   "cell_type": "markdown",
   "metadata": {},
   "source": [
    "### Train - Test Splitting"
   ]
  },
  {
   "cell_type": "code",
   "execution_count": 88,
   "metadata": {},
   "outputs": [],
   "source": [
    "X = data['processed_review']\n",
    "y = data['sentiment']"
   ]
  },
  {
   "cell_type": "code",
   "execution_count": 93,
   "metadata": {},
   "outputs": [],
   "source": [
    "from sklearn.model_selection import train_test_split\n",
    "from sklearn.feature_extraction.text import TfidfVectorizer\n",
    "\n",
    "tfidf_stem = TfidfVectorizer(stop_words=stop_words, tokenizer=tokenizer_porter)\n",
    "X_tfidf_stem = tfidf_stem.fit_transform(X)\n",
    "\n",
    "tfidf_lemma = TfidfVectorizer(stop_words=stop_words, tokenizer=tokenizer_lemma)\n",
    "X_tfidf_lemma = tfidf_lemma.fit_transform(X)"
   ]
  },
  {
   "cell_type": "code",
   "execution_count": 134,
   "metadata": {},
   "outputs": [],
   "source": [
    "from scipy.sparse import hstack\n",
    "\n",
    "# Create a bag of words from the training set\n",
    "word_vectorizer = TfidfVectorizer(sublinear_tf=True, strip_accents='unicode', analyzer='word',\n",
    "    token_pattern=r'\\w{1,}', stop_words='english', ngram_range=(1, 1), max_features=10000)\n",
    "word_vectorizer.fit(X)\n",
    "train_word_features = word_vectorizer.transform(X)\n",
    "\n",
    "char_vectorizer = TfidfVectorizer(sublinear_tf=True, strip_accents='unicode', analyzer='char',\n",
    "    stop_words='english', ngram_range=(2, 6), max_features=50000)\n",
    "char_vectorizer.fit(X)\n",
    "train_char_features = char_vectorizer.transform(X)\n",
    "train_features = hstack([train_char_features, train_word_features])\n"
   ]
  },
  {
   "cell_type": "code",
   "execution_count": null,
   "metadata": {},
   "outputs": [],
   "source": [
    "# Create a bag of words from the training set\n",
    "word_vectorizer = TfidfVectorizer(sublinear_tf=True, strip_accents='unicode', analyzer='word',\n",
    "    token_pattern=r'\\w{1,}', stop_words='english', ngram_range=(1, 1), max_features=10000)\n",
    "word_vectorizer.fit(data['processed_review_lemma'])\n",
    "train_word_features2 = word_vectorizer.transform(data['processed_review_lemma'])\n",
    "\n",
    "char_vectorizer = TfidfVectorizer(sublinear_tf=True, strip_accents='unicode', analyzer='char',\n",
    "    stop_words='english', ngram_range=(2, 6), max_features=50000)\n",
    "char_vectorizer.fit(data['processed_review_lemma'])\n",
    "train_char_features2 = char_vectorizer.transform(data['processed_review_lemma'])\n",
    "train_features2 = hstack([train_char_features, train_word_features])"
   ]
  },
  {
   "cell_type": "code",
   "execution_count": null,
   "metadata": {},
   "outputs": [],
   "source": [
    "X_train_tfidf_stem, X_test_tfidf_stem, y_train_tfidf_stem, y_test_tfidf_stem = train_test_split(X_tfidf_stem, y, test_size=0.3, random_state=101)\n",
    "X_train_tfidf_lemma, X_test_tfidf_lemma, y_train_tfidf_lemma, y_test_tfidf_lemma = train_test_split(X_tfidf_lemma, y, test_size=0.3, random_state=101)\n",
    "X_train_tfidf_a, X_test_tfidf_a, y_train_tfidf_a, y_test_tfidf_a = train_test_split(train_features, y, test_size=0.3, random_state=101)\n",
    "X_train_tfidf_b, X_test_tfidf_b, y_train_tfidf_b, y_test_tfidf_b = train_test_split(train_features2, y, test_size=0.3, random_state=101)"
   ]
  },
  {
   "cell_type": "code",
   "execution_count": 100,
   "metadata": {},
   "outputs": [
    {
     "data": {
      "text/plain": [
       "(15750, 50569)"
      ]
     },
     "execution_count": 100,
     "metadata": {},
     "output_type": "execute_result"
    }
   ],
   "source": [
    "X_train_tfidf_stem.shape"
   ]
  },
  {
   "cell_type": "code",
   "execution_count": 110,
   "metadata": {},
   "outputs": [
    {
     "data": {
      "text/plain": [
       "(15750, 57773)"
      ]
     },
     "execution_count": 110,
     "metadata": {},
     "output_type": "execute_result"
    }
   ],
   "source": [
    "X_train_tfidf_lemma.shape"
   ]
  },
  {
   "cell_type": "code",
   "execution_count": 136,
   "metadata": {},
   "outputs": [
    {
     "data": {
      "text/plain": [
       "(15750, 60000)"
      ]
     },
     "execution_count": 136,
     "metadata": {},
     "output_type": "execute_result"
    }
   ],
   "source": [
    "X_train_tfidf_a.shape"
   ]
  },
  {
   "cell_type": "code",
   "execution_count": null,
   "metadata": {},
   "outputs": [],
   "source": [
    "X_train_tfidf_b.shape"
   ]
  },
  {
   "cell_type": "markdown",
   "metadata": {},
   "source": [
    "## 3. Create, Train and Evaluate Model"
   ]
  },
  {
   "cell_type": "code",
   "execution_count": 94,
   "metadata": {},
   "outputs": [],
   "source": [
    "from sklearn.metrics import accuracy_score, classification_report, confusion_matrix"
   ]
  },
  {
   "cell_type": "markdown",
   "metadata": {},
   "source": [
    "### 3.1 Logistic Regression Classifier"
   ]
  },
  {
   "cell_type": "code",
   "execution_count": 95,
   "metadata": {},
   "outputs": [],
   "source": [
    "from sklearn.linear_model import LogisticRegression\n",
    "lr = LogisticRegression()\n",
    "lr.fit(X_train_tfidf_stem, y_train_tfidf_stem)\n",
    "lr_preds_stem = lr.predict(X_test_tfidf_stem)\n",
    "\n",
    "lr_cm = confusion_matrix(y_test_tfidf_stem, lr_preds_stem)\n",
    "lr_report = classification_report(y_test_tfidf_stem, lr_preds_stem)"
   ]
  },
  {
   "cell_type": "code",
   "execution_count": 96,
   "metadata": {},
   "outputs": [
    {
     "name": "stdout",
     "output_type": "stream",
     "text": [
      "[[2950  458]\n",
      " [ 304 3038]]\n",
      "              precision    recall  f1-score   support\n",
      "\n",
      "           0       0.91      0.87      0.89      3408\n",
      "           1       0.87      0.91      0.89      3342\n",
      "\n",
      "    accuracy                           0.89      6750\n",
      "   macro avg       0.89      0.89      0.89      6750\n",
      "weighted avg       0.89      0.89      0.89      6750\n",
      "\n"
     ]
    }
   ],
   "source": [
    "print(lr_cm)\n",
    "print(lr_report)"
   ]
  },
  {
   "cell_type": "code",
   "execution_count": 114,
   "metadata": {},
   "outputs": [],
   "source": [
    "lr2 = LogisticRegression()\n",
    "lr2.fit(X_train_tfidf_lemma, y_train_tfidf_lemma)\n",
    "lr2_preds = lr2.predict(X_test_tfidf_lemma)\n",
    "\n",
    "lr2_cm = confusion_matrix(y_test_tfidf_lemma, lr2_preds)\n",
    "lr2_report = classification_report(y_test_tfidf_lemma, lr2_preds)"
   ]
  },
  {
   "cell_type": "code",
   "execution_count": 115,
   "metadata": {},
   "outputs": [
    {
     "name": "stdout",
     "output_type": "stream",
     "text": [
      "[[2981  427]\n",
      " [ 308 3034]]\n",
      "              precision    recall  f1-score   support\n",
      "\n",
      "           0       0.91      0.87      0.89      3408\n",
      "           1       0.88      0.91      0.89      3342\n",
      "\n",
      "    accuracy                           0.89      6750\n",
      "   macro avg       0.89      0.89      0.89      6750\n",
      "weighted avg       0.89      0.89      0.89      6750\n",
      "\n"
     ]
    }
   ],
   "source": [
    "print(lr2_cm)\n",
    "print(lr2_report)"
   ]
  },
  {
   "cell_type": "code",
   "execution_count": 137,
   "metadata": {},
   "outputs": [],
   "source": [
    "lr3 = LogisticRegression()\n",
    "lr3.fit(X_train_tfidf_a, y_train_tfidf_a)\n",
    "lr3_preds = lr3.predict(X_test_tfidf_a)\n",
    "\n",
    "lr3_cm = confusion_matrix(y_test_tfidf_a, lr3_preds)\n",
    "lr3_report = classification_report(y_test_tfidf_a, lr3_preds)"
   ]
  },
  {
   "cell_type": "code",
   "execution_count": 138,
   "metadata": {},
   "outputs": [
    {
     "name": "stdout",
     "output_type": "stream",
     "text": [
      "[[3038  370]\n",
      " [ 284 3058]]\n",
      "              precision    recall  f1-score   support\n",
      "\n",
      "           0       0.91      0.89      0.90      3408\n",
      "           1       0.89      0.92      0.90      3342\n",
      "\n",
      "    accuracy                           0.90      6750\n",
      "   macro avg       0.90      0.90      0.90      6750\n",
      "weighted avg       0.90      0.90      0.90      6750\n",
      "\n"
     ]
    }
   ],
   "source": [
    "print(lr3_cm)\n",
    "print(lr3_report)"
   ]
  },
  {
   "cell_type": "markdown",
   "metadata": {},
   "source": [
    "### 3.2 Decision Tree Classifier"
   ]
  },
  {
   "cell_type": "code",
   "execution_count": 16,
   "metadata": {},
   "outputs": [],
   "source": [
    "from sklearn.tree import DecisionTreeClassifier\n",
    "dtc = DecisionTreeClassifier()\n",
    "dtc.fit(X_train_tfidf, y_train_tfidf)\n",
    "dtc_preds = dtc.predict(X_test_tfidf)\n",
    "\n",
    "dtc_cm = confusion_matrix(y_test_tfidf, dtc_preds)\n",
    "dtc_report = classification_report(y_test_tfidf, dtc_preds)"
   ]
  },
  {
   "cell_type": "code",
   "execution_count": 17,
   "metadata": {},
   "outputs": [
    {
     "name": "stdout",
     "output_type": "stream",
     "text": [
      "[[2413  995]\n",
      " [ 944 2398]]\n",
      "              precision    recall  f1-score   support\n",
      "\n",
      "           0       0.72      0.71      0.71      3408\n",
      "           1       0.71      0.72      0.71      3342\n",
      "\n",
      "    accuracy                           0.71      6750\n",
      "   macro avg       0.71      0.71      0.71      6750\n",
      "weighted avg       0.71      0.71      0.71      6750\n",
      "\n"
     ]
    }
   ],
   "source": [
    "print(dtc_cm)\n",
    "print(dtc_report)"
   ]
  },
  {
   "cell_type": "markdown",
   "metadata": {},
   "source": [
    "### 3.3 Random Forest Classifier"
   ]
  },
  {
   "cell_type": "code",
   "execution_count": 126,
   "metadata": {},
   "outputs": [],
   "source": [
    "from sklearn.ensemble import RandomForestClassifier\n",
    "rfc = RandomForestClassifier(n_estimators=100)\n",
    "rfc.fit(X_train_tfidf_stem, y_train_tfidf_stem)\n",
    "rfc_preds = rfc.predict(X_test_tfidf_stem)\n",
    "\n",
    "rfc_cm = confusion_matrix(y_test_tfidf_stem, rfc_preds)\n",
    "rfc_report = classification_report(y_test_tfidf_stem, rfc_preds)"
   ]
  },
  {
   "cell_type": "code",
   "execution_count": 127,
   "metadata": {},
   "outputs": [
    {
     "name": "stdout",
     "output_type": "stream",
     "text": [
      "[[2871  537]\n",
      " [ 475 2867]]\n",
      "              precision    recall  f1-score   support\n",
      "\n",
      "           0       0.86      0.84      0.85      3408\n",
      "           1       0.84      0.86      0.85      3342\n",
      "\n",
      "    accuracy                           0.85      6750\n",
      "   macro avg       0.85      0.85      0.85      6750\n",
      "weighted avg       0.85      0.85      0.85      6750\n",
      "\n"
     ]
    }
   ],
   "source": [
    "print(rfc_cm)\n",
    "print(rfc_report)"
   ]
  },
  {
   "cell_type": "code",
   "execution_count": 139,
   "metadata": {},
   "outputs": [],
   "source": [
    "rfc2 = RandomForestClassifier(n_estimators=100)\n",
    "rfc2.fit(X_train_tfidf_lemma, y_train_tfidf_lemma)\n",
    "rfc2_preds = rfc2.predict(X_test_tfidf_lemma)\n",
    "\n",
    "rfc2_cm = confusion_matrix(y_test_tfidf_lemma, rfc2_preds)\n",
    "rfc2_report = classification_report(y_test_tfidf_lemma, rfc2_preds)"
   ]
  },
  {
   "cell_type": "code",
   "execution_count": 140,
   "metadata": {},
   "outputs": [
    {
     "name": "stdout",
     "output_type": "stream",
     "text": [
      "[[2889  519]\n",
      " [ 473 2869]]\n",
      "              precision    recall  f1-score   support\n",
      "\n",
      "           0       0.86      0.85      0.85      3408\n",
      "           1       0.85      0.86      0.85      3342\n",
      "\n",
      "    accuracy                           0.85      6750\n",
      "   macro avg       0.85      0.85      0.85      6750\n",
      "weighted avg       0.85      0.85      0.85      6750\n",
      "\n"
     ]
    }
   ],
   "source": [
    "print(rfc2_cm)\n",
    "print(rfc2_report)"
   ]
  },
  {
   "cell_type": "code",
   "execution_count": 141,
   "metadata": {},
   "outputs": [],
   "source": [
    "rfc3 = RandomForestClassifier(n_estimators=100)\n",
    "rfc3.fit(X_train_tfidf_a, y_train_tfidf_a)\n",
    "rfc3_preds = rfc3.predict(X_test_tfidf_a)\n",
    "\n",
    "rfc3_cm = confusion_matrix(y_test_tfidf_a, rfc3_preds)\n",
    "rfc3_report = classification_report(y_test_tfidf_a, rfc3_preds)"
   ]
  },
  {
   "cell_type": "code",
   "execution_count": 142,
   "metadata": {},
   "outputs": [
    {
     "name": "stdout",
     "output_type": "stream",
     "text": [
      "[[2822  586]\n",
      " [ 549 2793]]\n",
      "              precision    recall  f1-score   support\n",
      "\n",
      "           0       0.84      0.83      0.83      3408\n",
      "           1       0.83      0.84      0.83      3342\n",
      "\n",
      "    accuracy                           0.83      6750\n",
      "   macro avg       0.83      0.83      0.83      6750\n",
      "weighted avg       0.83      0.83      0.83      6750\n",
      "\n"
     ]
    }
   ],
   "source": [
    "print(rfc3_cm)\n",
    "print(rfc3_report)"
   ]
  },
  {
   "cell_type": "markdown",
   "metadata": {},
   "source": [
    "### 3.4 K-Neighbors Nearest Classifier"
   ]
  },
  {
   "cell_type": "code",
   "execution_count": 20,
   "metadata": {},
   "outputs": [],
   "source": [
    "from sklearn.neighbors import KNeighborsClassifier\n",
    "knn = KNeighborsClassifier()\n",
    "knn.fit(X_train_tfidf, y_train_tfidf)\n",
    "knn_preds = knn.predict(X_test_tfidf)\n",
    "\n",
    "knn_cm = confusion_matrix(y_test_tfidf, knn_preds)\n",
    "knn_report = classification_report(y_test_tfidf, knn_preds)"
   ]
  },
  {
   "cell_type": "code",
   "execution_count": 21,
   "metadata": {},
   "outputs": [
    {
     "name": "stdout",
     "output_type": "stream",
     "text": [
      "[[2493  915]\n",
      " [ 549 2793]]\n",
      "              precision    recall  f1-score   support\n",
      "\n",
      "           0       0.82      0.73      0.77      3408\n",
      "           1       0.75      0.84      0.79      3342\n",
      "\n",
      "    accuracy                           0.78      6750\n",
      "   macro avg       0.79      0.78      0.78      6750\n",
      "weighted avg       0.79      0.78      0.78      6750\n",
      "\n"
     ]
    }
   ],
   "source": [
    "print(knn_cm)\n",
    "print(knn_report)"
   ]
  },
  {
   "cell_type": "markdown",
   "metadata": {},
   "source": [
    "### 3.6 Support Vector Machine Classifier"
   ]
  },
  {
   "cell_type": "code",
   "execution_count": 22,
   "metadata": {},
   "outputs": [],
   "source": [
    "from sklearn.svm import SVC\n",
    "svm = SVC(kernel='linear')\n",
    "svm.fit(X_train_tfidf, y_train_tfidf)\n",
    "svm_preds = svm.predict(X_test_tfidf)\n",
    "\n",
    "svm_cm = confusion_matrix(y_test_tfidf, svm_preds)\n",
    "svm_report = classification_report(y_test_tfidf, svm_preds)"
   ]
  },
  {
   "cell_type": "code",
   "execution_count": 23,
   "metadata": {},
   "outputs": [
    {
     "name": "stdout",
     "output_type": "stream",
     "text": [
      "[[2993  415]\n",
      " [ 335 3007]]\n",
      "              precision    recall  f1-score   support\n",
      "\n",
      "           0       0.90      0.88      0.89      3408\n",
      "           1       0.88      0.90      0.89      3342\n",
      "\n",
      "    accuracy                           0.89      6750\n",
      "   macro avg       0.89      0.89      0.89      6750\n",
      "weighted avg       0.89      0.89      0.89      6750\n",
      "\n"
     ]
    }
   ],
   "source": [
    "print(svm_cm)\n",
    "print(svm_report)"
   ]
  },
  {
   "cell_type": "code",
   "execution_count": 123,
   "metadata": {},
   "outputs": [],
   "source": [
    "from sklearn.svm import SVC\n",
    "svm2 = SVC(kernel='linear')\n",
    "svm2.fit(X_train_tfidf_lemma, y_train_tfidf_lemma)\n",
    "svm2_preds = svm2.predict(X_test_tfidf_lemma)\n",
    "\n",
    "svm2_cm = confusion_matrix(y_test_tfidf_lemma, svm2_preds)\n",
    "svm2_report = classification_report(y_test_tfidf_lemma, svm2_preds)"
   ]
  },
  {
   "cell_type": "code",
   "execution_count": 124,
   "metadata": {},
   "outputs": [
    {
     "name": "stdout",
     "output_type": "stream",
     "text": [
      "[[2995  413]\n",
      " [ 346 2996]]\n",
      "              precision    recall  f1-score   support\n",
      "\n",
      "           0       0.90      0.88      0.89      3408\n",
      "           1       0.88      0.90      0.89      3342\n",
      "\n",
      "    accuracy                           0.89      6750\n",
      "   macro avg       0.89      0.89      0.89      6750\n",
      "weighted avg       0.89      0.89      0.89      6750\n",
      "\n"
     ]
    }
   ],
   "source": [
    "print(svm2_cm)\n",
    "print(svm2_report)"
   ]
  },
  {
   "cell_type": "code",
   "execution_count": 125,
   "metadata": {},
   "outputs": [
    {
     "data": {
      "image/png": "[encoded data removed]",
      "text/plain": [
       "<Figure size 1008x504 with 4 Axes>"
      ]
     },
     "metadata": {
      "needs_background": "light"
     },
     "output_type": "display_data"
    }
   ],
   "source": [
    "fig, ax = plt.subplots(1, 2, figsize=[14,7])\n",
    "\n",
    "sns.heatmap(lr2_cm, ax=ax[0], annot=True, fmt='d', square=True)\n",
    "ax[0].set_title('LR')\n",
    "ax[0].set_xlabel('Test')\n",
    "ax[0].set_ylabel('Predictions')\n",
    "\n",
    "sns.heatmap(svm2_cm, ax=ax[1], annot=True, fmt='d', square=True)\n",
    "ax[1].set_title('SVM')\n",
    "ax[1].set_xlabel('Test')\n",
    "ax[1].set_ylabel('Predictions')\n",
    "\n",
    "plt.show()"
   ]
  },
  {
   "cell_type": "markdown",
   "metadata": {},
   "source": [
    "### 3.5. Export Models"
   ]
  },
  {
   "cell_type": "code",
   "execution_count": 24,
   "metadata": {},
   "outputs": [],
   "source": [
    "# Using pickle to export our trained model\n",
    "import pickle\n",
    "import os\n",
    "\n",
    "pickle.dump(lr, open(os.path.join('models', 'Model_LR_default_imdb.pkl'), 'wb'), protocol=4)\n",
    "pickle.dump(dtc, open(os.path.join('models', 'Model_DTC_default_imdb.pkl'), 'wb'), protocol=4)\n",
    "pickle.dump(rfc, open(os.path.join('models', 'Model_RFC_default_imdb.pkl'), 'wb'), protocol=4)\n",
    "pickle.dump(knn, open(os.path.join('models', 'Model_KNN_default_imdb.pkl'), 'wb'), protocol=4)\n",
    "pickle.dump(svm, open(os.path.join('models', 'Model_SVM_default_imdb.pkl'), 'wb'), protocol=4)"
   ]
  },
  {
   "cell_type": "markdown",
   "metadata": {},
   "source": [
    "## 4. Performance Comparison"
   ]
  },
  {
   "cell_type": "code",
   "execution_count": 25,
   "metadata": {},
   "outputs": [
    {
     "data": {
      "image/png": "[encoded data removed]",
      "text/plain": [
       "<Figure size 1008x1440 with 11 Axes>"
      ]
     },
     "metadata": {
      "needs_background": "light"
     },
     "output_type": "display_data"
    }
   ],
   "source": [
    "fig, ax = plt.subplots(3,2, figsize=[14,20])\n",
    "\n",
    "sns.heatmap(lr_cm, ax=ax[0, 0], annot=True, fmt='d', square=True)\n",
    "ax[0, 0].set_title('LR')\n",
    "ax[0, 0].set_xlabel('Test')\n",
    "ax[0, 0].set_ylabel('Predictions')\n",
    "\n",
    "sns.heatmap(dtc_cm, ax=ax[0, 1], annot=True, fmt='d', square=True)\n",
    "ax[0, 1].set_title('DTC')\n",
    "ax[0, 1].set_xlabel('Test')\n",
    "ax[0, 1].set_ylabel('Predictions')\n",
    "\n",
    "sns.heatmap(rfc_cm, ax=ax[1, 0], annot=True, fmt='d', square=True)\n",
    "ax[1, 0].set_title('RFC')\n",
    "ax[1, 0].set_xlabel('Test')\n",
    "ax[1, 0].set_ylabel('Predictions')\n",
    "\n",
    "sns.heatmap(knn_cm, ax=ax[1, 1], annot=True, fmt='d', square=True)\n",
    "ax[1, 1].set_title('KNN')\n",
    "ax[1, 1].set_xlabel('Test')\n",
    "ax[1, 1].set_ylabel('Predictions')\n",
    "\n",
    "sns.heatmap(svm_cm, ax=ax[2, 0], annot=True, fmt='d', square=True)\n",
    "ax[2, 0].set_title('SVM')\n",
    "ax[2, 0].set_xlabel('Test')\n",
    "ax[2, 0].set_ylabel('Predictions')\n",
    "\n",
    "plt.show()"
   ]
  },
  {
   "cell_type": "markdown",
   "metadata": {},
   "source": [
    "### Conclusion: \n",
    "Base on the confusion matrix diagrams, we can see that Logistic Regression and SVM are the two most effecient models. Now we can tune these models for better performances."
   ]
  },
  {
   "cell_type": "code",
   "execution_count": 26,
   "metadata": {},
   "outputs": [
    {
     "data": {
      "image/png": "[encoded data removed]",
      "text/plain": [
       "<Figure size 1008x504 with 4 Axes>"
      ]
     },
     "metadata": {
      "needs_background": "light"
     },
     "output_type": "display_data"
    }
   ],
   "source": [
    "fig, ax = plt.subplots(1, 2, figsize=[14,7])\n",
    "\n",
    "sns.heatmap(lr_cm, ax=ax[0], annot=True, fmt='d', square=True)\n",
    "ax[0].set_title('LR')\n",
    "ax[0].set_xlabel('Test')\n",
    "ax[0].set_ylabel('Predictions')\n",
    "\n",
    "sns.heatmap(svm_cm, ax=ax[1], annot=True, fmt='d', square=True)\n",
    "ax[1].set_title('SVM')\n",
    "ax[1].set_xlabel('Test')\n",
    "ax[1].set_ylabel('Predictions')\n",
    "\n",
    "plt.show()"
   ]
  },
  {
   "cell_type": "markdown",
   "metadata": {},
   "source": [
    "# 5. Optimization"
   ]
  },
  {
   "cell_type": "markdown",
   "metadata": {},
   "source": [
    "### 5.1 Data Resampling"
   ]
  },
  {
   "cell_type": "code",
   "execution_count": 113,
   "metadata": {},
   "outputs": [],
   "source": [
    "n = 5000\n",
    "\n",
    "X_train_tfidf_new = X_train_tfidf[:n, :n]\n",
    "X_test_tfidf_new = X_test_tfidf[:n, :n]\n",
    "\n",
    "y_train_tfidf_new = y_train_tfidf[:n]\n",
    "y_test_tfidf_new = y_test_tfidf[:n]"
   ]
  },
  {
   "cell_type": "code",
   "execution_count": 114,
   "metadata": {},
   "outputs": [
    {
     "data": {
      "text/plain": [
       "(5000,)"
      ]
     },
     "execution_count": 114,
     "metadata": {},
     "output_type": "execute_result"
    }
   ],
   "source": [
    "y_train_tfidf_new.shape"
   ]
  },
  {
   "cell_type": "markdown",
   "metadata": {},
   "source": [
    "### Find the best C value for our SVM model"
   ]
  },
  {
   "cell_type": "code",
   "execution_count": null,
   "metadata": {},
   "outputs": [],
   "source": [
    "from sklearn.model_selection import cross_val_score\n",
    "\n",
    "val_rate = []\n",
    "c_range =  range(1,100,10)\n",
    "for this_c in c_range:\n",
    "    svm = SVC(kernel='linear',C=this_c)\n",
    "    val_score = 1-cross_val_score(svm, X_train_tfidf, y_train_tfidf, cv=5).mean()\n",
    "    val_rate.append(val_score)\n",
    "\n",
    "plt.figure(figsize=(15,7))\n",
    "plt.plot(c_range, val_rate, color='orange', linestyle='dashed', marker='o',\n",
    "         markerfacecolor='black', markersize=5, label='Validation Error')\n",
    "\n",
    "plt.xticks(np.arange(c_range.start, c_range.stop, c_range.step), rotation=60)\n",
    "plt.grid()\n",
    "plt.legend()\n",
    "plt.title('Validation Error vs. C Value')\n",
    "plt.xlabel('C')\n",
    "plt.ylabel('Validation Error')\n",
    "plt.show()"
   ]
  },
  {
   "cell_type": "code",
   "execution_count": 120,
   "metadata": {},
   "outputs": [],
   "source": [
    "best_C = 6\n",
    "\n",
    "svm_tuned_1 = SVC(kernel='linear', C=best_C)\n",
    "svm_tuned_1.fit(X_train_tfidf, y_train_tfidf)\n",
    "svm_tuned_1_preds = svm_tuned_1.predict(X_test_tfidf)\n",
    "# svm_tuned_1.fit(X_train_tfidf_new, y_train_tfidf_new)\n",
    "# svm_tuned_1_preds = svm_tuned_1.predict(X_test_tfidf_new)\n",
    "\n",
    "svm_tuned_1_cm = confusion_matrix(y_test_tfidf, svm_tuned_1_preds)\n",
    "svm_tuned_1_report = classification_report(y_test_tfidf, svm_tuned_1_preds)\n",
    "# svm_tuned_1_cm = confusion_matrix(y_test_tfidf_new, svm_tuned_1_preds)\n",
    "# svm_tuned_1_report = classification_report(y_test_tfidf_new, svm_tuned_1_preds)"
   ]
  },
  {
   "cell_type": "code",
   "execution_count": 121,
   "metadata": {},
   "outputs": [
    {
     "name": "stdout",
     "output_type": "stream",
     "text": [
      "[[2938  470]\n",
      " [ 414 2928]]\n",
      "              precision    recall  f1-score   support\n",
      "\n",
      "           0       0.88      0.86      0.87      3408\n",
      "           1       0.86      0.88      0.87      3342\n",
      "\n",
      "    accuracy                           0.87      6750\n",
      "   macro avg       0.87      0.87      0.87      6750\n",
      "weighted avg       0.87      0.87      0.87      6750\n",
      "\n"
     ]
    }
   ],
   "source": [
    "print(svm_tuned_1_cm)\n",
    "print(svm_tuned_1_report)"
   ]
  },
  {
   "cell_type": "markdown",
   "metadata": {},
   "source": [
    "### TODO: optimize the review feature"
   ]
  },
  {
   "cell_type": "markdown",
   "metadata": {},
   "source": [
    "## TODO: Conclusion"
   ]
  },
  {
   "cell_type": "code",
   "execution_count": null,
   "metadata": {},
   "outputs": [],
   "source": []
  }
 ],
 "metadata": {
  "kernelspec": {
   "display_name": "Python 3",
   "language": "python",
   "name": "python3"
  },
  "language_info": {
   "codemirror_mode": {
    "name": "ipython",
    "version": 3
   },
   "file_extension": ".py",
   "mimetype": "text/x-python",
   "name": "python",
   "nbconvert_exporter": "python",
   "pygments_lexer": "ipython3",
   "version": "3.7.3"
  }
 },
 "nbformat": 4,
 "nbformat_minor": 2
}
