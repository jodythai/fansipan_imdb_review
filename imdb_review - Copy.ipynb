{
 "cells": [
  {
   "cell_type": "markdown",
   "metadata": {},
   "source": [
    "[Bag of Words Meets Bags of Popcorn](https://www.kaggle.com/c/word2vec-nlp-tutorial/data)\n",
    "======\n",
    "\n",
    "## Data Set\n",
    "\n",
    "The labeled data set consists of 50,000 IMDB movie reviews, specially selected for sentiment analysis. The sentiment of reviews is binary, meaning the IMDB rating < 5 results in a sentiment score of 0, and rating >=7 have a sentiment score of 1. No individual movie has more than 30 reviews. The 25,000 review labeled training set does not include any of the same movies as the 25,000 review test set. In addition, there are another 50,000 IMDB reviews provided without any rating labels.\n",
    "\n",
    "## File descriptions\n",
    "\n",
    "labeledTrainData - The labeled training set. The file is tab-delimited and has a header row followed by 25,000 rows containing an id, sentiment, and text for each review.\n",
    "## Data fields\n",
    "\n",
    "* id - Unique ID of each review\n",
    "* sentiment - Sentiment of the review; 1 for positive reviews and 0 for negative reviews\n",
    "* review - Text of the review\n",
    "\n",
    "## Objective\n",
    "Objective of this dataset is base on **review** we predict **sentiment** (positive or negative) so X is **review** column and y is **sentiment** column"
   ]
  },
  {
   "cell_type": "markdown",
   "metadata": {},
   "source": [
    "## Load Dataset and EDA"
   ]
  },
  {
   "cell_type": "code",
   "execution_count": 1,
   "metadata": {
    "ExecuteTime": {
     "end_time": "2019-08-11T13:15:52.215235Z",
     "start_time": "2019-08-11T13:15:50.800736Z"
    }
   },
   "outputs": [],
   "source": [
    "# Import necessary libraries\n",
    "import time\n",
    "import numpy as np\n",
    "import pandas as pd\n",
    "import seaborn as sns\n",
    "import matplotlib.pyplot as plt\n",
    "import re\n",
    "import pickle\n",
    "import os\n",
    "import nltk\n",
    "from nltk.stem import PorterStemmer\n",
    "from nltk.stem import WordNetLemmatizer\n",
    "from collections import Counter\n",
    "from scipy.sparse import hstack\n",
    "from sklearn.feature_extraction.text import CountVectorizer\n",
    "from sklearn.model_selection import train_test_split\n",
    "from sklearn.feature_extraction.text import TfidfVectorizer\n",
    "from sklearn.metrics import accuracy_score, classification_report, confusion_matrix\n",
    "from sklearn.linear_model import LogisticRegression\n",
    "from sklearn.tree import DecisionTreeClassifier\n",
    "from sklearn.ensemble import RandomForestClassifier\n",
    "from sklearn.neighbors import KNeighborsClassifier\n",
    "from sklearn.svm import SVC\n",
    "from sklearn.model_selection import GridSearchCV\n",
    "from sklearn.model_selection import cross_val_score\n",
    "import warnings\n",
    "warnings.filterwarnings('ignore')"
   ]
  },
  {
   "cell_type": "code",
   "execution_count": 2,
   "metadata": {
    "ExecuteTime": {
     "end_time": "2019-08-11T13:15:52.529374Z",
     "start_time": "2019-08-11T13:15:52.217504Z"
    }
   },
   "outputs": [],
   "source": [
    "# Load dataset\n",
    "data = pd.read_csv('./data/movie_review.csv', sep='\\t', encoding='latin-1')"
   ]
  },
  {
   "cell_type": "code",
   "execution_count": 3,
   "metadata": {
    "ExecuteTime": {
     "end_time": "2019-08-11T13:15:52.579928Z",
     "start_time": "2019-08-11T13:15:52.531996Z"
    }
   },
   "outputs": [
    {
     "data": {
      "text/html": [
       "<div>\n",
       "<style scoped>\n",
       "    .dataframe tbody tr th:only-of-type {\n",
       "        vertical-align: middle;\n",
       "    }\n",
       "\n",
       "    .dataframe tbody tr th {\n",
       "        vertical-align: top;\n",
       "    }\n",
       "\n",
       "    .dataframe thead th {\n",
       "        text-align: right;\n",
       "    }\n",
       "</style>\n",
       "<table border=\"1\" class=\"dataframe\">\n",
       "  <thead>\n",
       "    <tr style=\"text-align: right;\">\n",
       "      <th></th>\n",
       "      <th>id</th>\n",
       "      <th>review</th>\n",
       "      <th>sentiment</th>\n",
       "    </tr>\n",
       "  </thead>\n",
       "  <tbody>\n",
       "    <tr>\n",
       "      <th>0</th>\n",
       "      <td>5814_8</td>\n",
       "      <td>With all this stuff going down at the moment w...</td>\n",
       "      <td>1</td>\n",
       "    </tr>\n",
       "    <tr>\n",
       "      <th>1</th>\n",
       "      <td>2381_9</td>\n",
       "      <td>\\The Classic War of the Worlds\\\" by Timothy Hi...</td>\n",
       "      <td>1</td>\n",
       "    </tr>\n",
       "    <tr>\n",
       "      <th>2</th>\n",
       "      <td>7759_3</td>\n",
       "      <td>The film starts with a manager (Nicholas Bell)...</td>\n",
       "      <td>0</td>\n",
       "    </tr>\n",
       "    <tr>\n",
       "      <th>3</th>\n",
       "      <td>3630_4</td>\n",
       "      <td>It must be assumed that those who praised this...</td>\n",
       "      <td>0</td>\n",
       "    </tr>\n",
       "    <tr>\n",
       "      <th>4</th>\n",
       "      <td>9495_8</td>\n",
       "      <td>Superbly trashy and wondrously unpretentious 8...</td>\n",
       "      <td>1</td>\n",
       "    </tr>\n",
       "  </tbody>\n",
       "</table>\n",
       "</div>"
      ],
      "text/plain": [
       "       id                                             review  sentiment\n",
       "0  5814_8  With all this stuff going down at the moment w...          1\n",
       "1  2381_9  \\The Classic War of the Worlds\\\" by Timothy Hi...          1\n",
       "2  7759_3  The film starts with a manager (Nicholas Bell)...          0\n",
       "3  3630_4  It must be assumed that those who praised this...          0\n",
       "4  9495_8  Superbly trashy and wondrously unpretentious 8...          1"
      ]
     },
     "execution_count": 3,
     "metadata": {},
     "output_type": "execute_result"
    }
   ],
   "source": [
    "data.head()"
   ]
  },
  {
   "cell_type": "code",
   "execution_count": 4,
   "metadata": {
    "ExecuteTime": {
     "end_time": "2019-08-11T13:15:52.594312Z",
     "start_time": "2019-08-11T13:15:52.582183Z"
    }
   },
   "outputs": [
    {
     "name": "stdout",
     "output_type": "stream",
     "text": [
      "<class 'pandas.core.frame.DataFrame'>\n",
      "RangeIndex: 22500 entries, 0 to 22499\n",
      "Data columns (total 3 columns):\n",
      "id           22500 non-null object\n",
      "review       22500 non-null object\n",
      "sentiment    22500 non-null int64\n",
      "dtypes: int64(1), object(2)\n",
      "memory usage: 527.4+ KB\n"
     ]
    }
   ],
   "source": [
    "data.info()"
   ]
  },
  {
   "cell_type": "code",
   "execution_count": 5,
   "metadata": {
    "ExecuteTime": {
     "end_time": "2019-08-11T13:15:52.601675Z",
     "start_time": "2019-08-11T13:15:52.596704Z"
    }
   },
   "outputs": [],
   "source": [
    "data.drop(['id'], axis=1, inplace=True)"
   ]
  },
  {
   "cell_type": "code",
   "execution_count": 6,
   "metadata": {
    "ExecuteTime": {
     "end_time": "2019-08-11T13:15:52.611150Z",
     "start_time": "2019-08-11T13:15:52.603408Z"
    }
   },
   "outputs": [
    {
     "data": {
      "text/plain": [
       "review       0\n",
       "sentiment    0\n",
       "dtype: int64"
      ]
     },
     "execution_count": 6,
     "metadata": {},
     "output_type": "execute_result"
    }
   ],
   "source": [
    "data.isnull().sum()"
   ]
  },
  {
   "cell_type": "code",
   "execution_count": 7,
   "metadata": {
    "ExecuteTime": {
     "end_time": "2019-08-11T13:15:52.623779Z",
     "start_time": "2019-08-11T13:15:52.613393Z"
    }
   },
   "outputs": [
    {
     "data": {
      "text/plain": [
       "review       11278\n",
       "sentiment    11278\n",
       "dtype: int64"
      ]
     },
     "execution_count": 7,
     "metadata": {},
     "output_type": "execute_result"
    }
   ],
   "source": [
    "# how many possitive and negative labels?\n",
    "data[data['sentiment'] == 1].count()"
   ]
  },
  {
   "cell_type": "markdown",
   "metadata": {},
   "source": [
    "#### Classes distribution in the dataset"
   ]
  },
  {
   "cell_type": "code",
   "execution_count": 8,
   "metadata": {
    "ExecuteTime": {
     "end_time": "2019-08-11T13:15:52.809552Z",
     "start_time": "2019-08-11T13:15:52.627639Z"
    }
   },
   "outputs": [
    {
     "data": {
      "image/png": "[encoded data removed]",
      "text/plain": [
       "<Figure size 432x288 with 1 Axes>"
      ]
     },
     "metadata": {
      "needs_background": "light"
     },
     "output_type": "display_data"
    },
    {
     "name": "stdout",
     "output_type": "stream",
     "text": [
      "Positive: 11278 - Negative: 11222\n"
     ]
    }
   ],
   "source": [
    "# how many possitive and negative labels?\n",
    "plt.hist(data[data.sentiment == 1].sentiment,\n",
    "         bins=2, color='green', label='Positive')\n",
    "plt.hist(data[data.sentiment == 0].sentiment,\n",
    "         bins=2, color='blue', label='Negative')\n",
    "plt.title('Classes distribution in the train data')\n",
    "plt.xticks([data[data.sentiment == 1].sentiment.count(), data[data.sentiment == 0].sentiment.count()])\n",
    "plt.xlim(-0.5, 2)\n",
    "plt.legend()\n",
    "plt.show()\n",
    "print('Positive: {} - Negative: {}'.format(data[data.sentiment == 1].sentiment.count(), data[data.sentiment == 0].sentiment.count()))"
   ]
  },
  {
   "cell_type": "code",
   "execution_count": 9,
   "metadata": {
    "ExecuteTime": {
     "end_time": "2019-08-11T13:15:53.180491Z",
     "start_time": "2019-08-11T13:15:52.811637Z"
    }
   },
   "outputs": [],
   "source": [
    "# get a word count per sentence column\n",
    "def word_count(sentence):\n",
    "    return len(sentence.split())\n",
    "    \n",
    "data['word count'] = data['review'].apply(word_count)"
   ]
  },
  {
   "cell_type": "code",
   "execution_count": 10,
   "metadata": {
    "ExecuteTime": {
     "end_time": "2019-08-11T13:15:53.191638Z",
     "start_time": "2019-08-11T13:15:53.182805Z"
    }
   },
   "outputs": [
    {
     "data": {
      "text/html": [
       "<div>\n",
       "<style scoped>\n",
       "    .dataframe tbody tr th:only-of-type {\n",
       "        vertical-align: middle;\n",
       "    }\n",
       "\n",
       "    .dataframe tbody tr th {\n",
       "        vertical-align: top;\n",
       "    }\n",
       "\n",
       "    .dataframe thead th {\n",
       "        text-align: right;\n",
       "    }\n",
       "</style>\n",
       "<table border=\"1\" class=\"dataframe\">\n",
       "  <thead>\n",
       "    <tr style=\"text-align: right;\">\n",
       "      <th></th>\n",
       "      <th>review</th>\n",
       "      <th>sentiment</th>\n",
       "      <th>word count</th>\n",
       "    </tr>\n",
       "  </thead>\n",
       "  <tbody>\n",
       "    <tr>\n",
       "      <th>0</th>\n",
       "      <td>With all this stuff going down at the moment w...</td>\n",
       "      <td>1</td>\n",
       "      <td>433</td>\n",
       "    </tr>\n",
       "    <tr>\n",
       "      <th>1</th>\n",
       "      <td>\\The Classic War of the Worlds\\\" by Timothy Hi...</td>\n",
       "      <td>1</td>\n",
       "      <td>158</td>\n",
       "    </tr>\n",
       "    <tr>\n",
       "      <th>2</th>\n",
       "      <td>The film starts with a manager (Nicholas Bell)...</td>\n",
       "      <td>0</td>\n",
       "      <td>378</td>\n",
       "    </tr>\n",
       "    <tr>\n",
       "      <th>3</th>\n",
       "      <td>It must be assumed that those who praised this...</td>\n",
       "      <td>0</td>\n",
       "      <td>379</td>\n",
       "    </tr>\n",
       "    <tr>\n",
       "      <th>4</th>\n",
       "      <td>Superbly trashy and wondrously unpretentious 8...</td>\n",
       "      <td>1</td>\n",
       "      <td>367</td>\n",
       "    </tr>\n",
       "  </tbody>\n",
       "</table>\n",
       "</div>"
      ],
      "text/plain": [
       "                                              review  sentiment  word count\n",
       "0  With all this stuff going down at the moment w...          1         433\n",
       "1  \\The Classic War of the Worlds\\\" by Timothy Hi...          1         158\n",
       "2  The film starts with a manager (Nicholas Bell)...          0         378\n",
       "3  It must be assumed that those who praised this...          0         379\n",
       "4  Superbly trashy and wondrously unpretentious 8...          1         367"
      ]
     },
     "execution_count": 10,
     "metadata": {},
     "output_type": "execute_result"
    }
   ],
   "source": [
    "data.head(5)"
   ]
  },
  {
   "cell_type": "markdown",
   "metadata": {},
   "source": [
    "#### Word count distribution"
   ]
  },
  {
   "cell_type": "code",
   "execution_count": 11,
   "metadata": {
    "ExecuteTime": {
     "end_time": "2019-08-11T13:15:53.443831Z",
     "start_time": "2019-08-11T13:15:53.193367Z"
    }
   },
   "outputs": [
    {
     "data": {
      "image/png": "[encoded data removed]",
      "text/plain": [
       "<Figure size 864x432 with 1 Axes>"
      ]
     },
     "metadata": {
      "needs_background": "light"
     },
     "output_type": "display_data"
    }
   ],
   "source": [
    "# plot word count distribution for both positive and negative sentiments\n",
    "x = data['word count'][data.sentiment == 1]\n",
    "y = data['word count'][data.sentiment == 0]\n",
    "plt.figure(figsize=(12,6))\n",
    "plt.xlim(0,1000)\n",
    "plt.xlabel('word count')\n",
    "plt.ylabel('frequency')\n",
    "g = plt.hist([x, y], color=['r','b'], alpha=0.5, label=['positive','negative'])\n",
    "plt.legend(loc='upper right')\n",
    "plt.title(\"Word Count distribution for positive and negative sentiments\")\n",
    "plt.show()"
   ]
  },
  {
   "cell_type": "markdown",
   "metadata": {},
   "source": [
    "#### Most common words "
   ]
  },
  {
   "cell_type": "code",
   "execution_count": 12,
   "metadata": {
    "ExecuteTime": {
     "end_time": "2019-08-11T13:15:55.967824Z",
     "start_time": "2019-08-11T13:15:53.445981Z"
    }
   },
   "outputs": [
    {
     "data": {
      "text/plain": [
       "[('the', 290182),\n",
       " ('a', 144051),\n",
       " ('and', 142724),\n",
       " ('of', 130112),\n",
       " ('to', 120539),\n",
       " ('is', 93742),\n",
       " ('in', 81699),\n",
       " ('i', 63363),\n",
       " ('this', 62661),\n",
       " ('that', 59553),\n",
       " ('it', 58825),\n",
       " ('/><br', 45851),\n",
       " ('was', 42295),\n",
       " ('as', 40642),\n",
       " ('for', 38520),\n",
       " ('with', 38406),\n",
       " ('but', 35782),\n",
       " ('on', 28508),\n",
       " ('movie', 27684),\n",
       " ('his', 26285),\n",
       " ('are', 25832),\n",
       " ('not', 25584),\n",
       " ('film', 25095),\n",
       " ('you', 24793),\n",
       " ('have', 24632),\n",
       " ('he', 23584),\n",
       " ('be', 23178),\n",
       " ('at', 20443),\n",
       " ('one', 20310),\n",
       " ('by', 19799),\n",
       " ('an', 19098),\n",
       " ('they', 18573),\n",
       " ('from', 17979),\n",
       " ('all', 17685),\n",
       " ('who', 17513),\n",
       " ('like', 16869),\n",
       " ('so', 16211),\n",
       " ('just', 15531),\n",
       " ('or', 15035),\n",
       " ('has', 14923),\n",
       " ('about', 14800),\n",
       " ('her', 14788),\n",
       " (\"it's\", 14312),\n",
       " ('some', 13700),\n",
       " ('if', 13657),\n",
       " ('out', 13071),\n",
       " ('what', 12602),\n",
       " ('when', 12313),\n",
       " ('very', 12244),\n",
       " ('more', 11843)]"
      ]
     },
     "execution_count": 12,
     "metadata": {},
     "output_type": "execute_result"
    }
   ],
   "source": [
    "# get most common words in training dataset\n",
    "all_words = []\n",
    "for line in list(data['review']):\n",
    "    words = line.split()\n",
    "    for word in words:\n",
    "        all_words.append(word.lower())\n",
    "\n",
    "\n",
    "Counter(all_words).most_common(50)"
   ]
  },
  {
   "cell_type": "markdown",
   "metadata": {},
   "source": [
    "## Preprocessing"
   ]
  },
  {
   "cell_type": "code",
   "execution_count": 13,
   "metadata": {
    "ExecuteTime": {
     "end_time": "2019-08-11T13:15:55.972622Z",
     "start_time": "2019-08-11T13:15:55.969731Z"
    }
   },
   "outputs": [],
   "source": [
    "# Get the list of stop words in English\n",
    "from nltk.corpus import stopwords\n",
    "\n",
    "# In Python, searching a set is much faster than searching\n",
    "# a list, so convert the stop words to a set\n",
    "stop_words = set(stopwords.words('english'))\n",
    "\n",
    "# stop_words = ['the', 'a', 'and', 'of', 'to', 'is', 'in', 'i']"
   ]
  },
  {
   "cell_type": "code",
   "execution_count": 14,
   "metadata": {
    "ExecuteTime": {
     "end_time": "2019-08-11T13:15:56.048163Z",
     "start_time": "2019-08-11T13:15:55.974402Z"
    }
   },
   "outputs": [],
   "source": [
    "# Remove special characters, html tags and \"trash\"\n",
    "def clean_text(text):\n",
    "  # remove HTML markup\n",
    "  text = re.sub('<[^>]*>', '', text)\n",
    "  \n",
    "  # Save emoticons for later appending\n",
    "  emoticons = re.findall('(?::|;|=)(?:-)?(?:\\)|\\(|D|P)', text)\n",
    "  # Now remove emoticons\n",
    "  text = re.sub('(?::|;|=)(?:-)?(?:\\)|\\(|D|P)', '', text)\n",
    "  \n",
    "  # Remove some special characters\n",
    "  text = re.sub('Ã\\x82Â¨', '', text)\n",
    "  \n",
    "  # Save number in 1,000 or 1.000 formats for later appending\n",
    "  numbers = re.findall(r'(?<!,)\\b(\\d{1,3}(?:[.,]\\d{3})*)\\b(?!,)', text)\n",
    "  # Now remove numbers\n",
    "  text = re.sub(r'(?<!,)\\b(\\d{1,3}(?:[.,]\\d{3})*)\\b(?!,)', '', text)\n",
    "  \n",
    "  # Remove any non-word character and append the emoticons,\n",
    "  # removing the nose character for standardization. Convert to lower case\n",
    "  text = (re.sub('[\\W]+', ' ', text.lower()))\n",
    "  \n",
    "  # Remove words with 2 or fewer letters\n",
    "#   text = re.sub(r'\\b\\w{1,2}\\b', '', text)\n",
    "  \n",
    "  # Remove whitespace (including new line characters)\n",
    "  text = re.sub(r'\\s\\s+', ' ', text)\n",
    "  \n",
    "  # Remove single space remaining.\n",
    "  text = text.strip(' ') \n",
    "  \n",
    "  # Remove characters beyond Basic Multilingual Plane (BMP) of Unicode:\n",
    "  text = ''.join(c for c in text if c <= '\\uFFFF') \n",
    "  \n",
    "  # rejoin emoticons & numbers\n",
    "  text = text + ' ' + ' '.join(emoticons).replace('-', '') + ' ' + ' '.join(numbers).replace('.', '').replace(',', '')\n",
    "  \n",
    "  return text\n",
    "\n",
    "  \n",
    "# Tokenizer and Stemming\n",
    "# tokenizer: to break down our twits in individual words\n",
    "# stemming: reducing a word to its root\n",
    "porter = PorterStemmer()\n",
    "\n",
    "def preprocessor_stem(text):\n",
    "  \n",
    "  text = clean_text(text)\n",
    "  # stemming\n",
    "  text = [porter.stem(word) for word in text.split()]\n",
    "  # Remove stop words\n",
    "  text = [word for word in text if not word in stop_words]\n",
    "  text = \" \".join(text)\n",
    "  return text\n",
    "  \n",
    "def tokenizer(text):\n",
    "  return [word for word in text.split()]"
   ]
  },
  {
   "cell_type": "code",
   "execution_count": 15,
   "metadata": {
    "ExecuteTime": {
     "end_time": "2019-08-11T13:15:56.055870Z",
     "start_time": "2019-08-11T13:15:56.050335Z"
    }
   },
   "outputs": [
    {
     "name": "stdout",
     "output_type": "stream",
     "text": [
      "yeah i love loving loved loovveee this one so much him bc 2006 blah jurassik park :D =) 10000\n"
     ]
    }
   ],
   "source": [
    "# Test clean text\n",
    "string = 'Yeah :-D I love loving loved loovveee this one so much him =) Ã\\x82Â¨10.000 BC(2006)Ã\\x82Â¨ !@#% Blah #()@...,<,<> Ã\\x82Â¨Jurassik ParkÃ\\x82Â¨'\n",
    "string = clean_text(string)\n",
    "print(string)"
   ]
  },
  {
   "cell_type": "code",
   "execution_count": 16,
   "metadata": {
    "ExecuteTime": {
     "end_time": "2019-08-11T13:15:56.063978Z",
     "start_time": "2019-08-11T13:15:56.059448Z"
    }
   },
   "outputs": [
    {
     "name": "stdout",
     "output_type": "stream",
     "text": [
      "['yeah', 'love', 'love', 'love', 'loovvee', 'thi', 'one', 'much', 'bc', '2006', 'blah', 'jurassik', 'park', '10000', ':D', '=)']\n"
     ]
    }
   ],
   "source": [
    "# Test clean text with stemming\n",
    "string_token = preprocessor_stem(string)\n",
    "print(tokenizer(string_token))"
   ]
  },
  {
   "cell_type": "code",
   "execution_count": 17,
   "metadata": {
    "ExecuteTime": {
     "end_time": "2019-08-11T13:15:56.072696Z",
     "start_time": "2019-08-11T13:15:56.065950Z"
    }
   },
   "outputs": [],
   "source": [
    "# data.drop(columns='stem processed review', inplace=True)\n",
    "data.insert(loc = 1, column=\"stem processed review\", value=\"\")"
   ]
  },
  {
   "cell_type": "code",
   "execution_count": 18,
   "metadata": {
    "ExecuteTime": {
     "end_time": "2019-08-11T13:17:35.407747Z",
     "start_time": "2019-08-11T13:15:56.075312Z"
    }
   },
   "outputs": [],
   "source": [
    "data['stem processed review'] = data['review'].apply(preprocessor_stem)"
   ]
  },
  {
   "cell_type": "code",
   "execution_count": 19,
   "metadata": {
    "ExecuteTime": {
     "end_time": "2019-08-11T13:17:35.714240Z",
     "start_time": "2019-08-11T13:17:35.409661Z"
    }
   },
   "outputs": [],
   "source": [
    "data['stem processed review word count'] = data['stem processed review'].apply(word_count)"
   ]
  },
  {
   "cell_type": "code",
   "execution_count": 20,
   "metadata": {
    "ExecuteTime": {
     "end_time": "2019-08-11T13:17:35.725194Z",
     "start_time": "2019-08-11T13:17:35.716046Z"
    }
   },
   "outputs": [
    {
     "data": {
      "text/html": [
       "<div>\n",
       "<style scoped>\n",
       "    .dataframe tbody tr th:only-of-type {\n",
       "        vertical-align: middle;\n",
       "    }\n",
       "\n",
       "    .dataframe tbody tr th {\n",
       "        vertical-align: top;\n",
       "    }\n",
       "\n",
       "    .dataframe thead th {\n",
       "        text-align: right;\n",
       "    }\n",
       "</style>\n",
       "<table border=\"1\" class=\"dataframe\">\n",
       "  <thead>\n",
       "    <tr style=\"text-align: right;\">\n",
       "      <th></th>\n",
       "      <th>review</th>\n",
       "      <th>stem processed review</th>\n",
       "      <th>sentiment</th>\n",
       "      <th>word count</th>\n",
       "      <th>stem processed review word count</th>\n",
       "    </tr>\n",
       "  </thead>\n",
       "  <tbody>\n",
       "    <tr>\n",
       "      <th>0</th>\n",
       "      <td>With all this stuff going down at the moment w...</td>\n",
       "      <td>thi stuff go moment mj start listen hi music w...</td>\n",
       "      <td>1</td>\n",
       "      <td>433</td>\n",
       "      <td>242</td>\n",
       "    </tr>\n",
       "    <tr>\n",
       "      <th>1</th>\n",
       "      <td>\\The Classic War of the Worlds\\\" by Timothy Hi...</td>\n",
       "      <td>classic war world timothi hine veri entertain ...</td>\n",
       "      <td>1</td>\n",
       "      <td>158</td>\n",
       "      <td>92</td>\n",
       "    </tr>\n",
       "    <tr>\n",
       "      <th>2</th>\n",
       "      <td>The film starts with a manager (Nicholas Bell)...</td>\n",
       "      <td>film start manag nichola bell give welcom inve...</td>\n",
       "      <td>0</td>\n",
       "      <td>378</td>\n",
       "      <td>245</td>\n",
       "    </tr>\n",
       "    <tr>\n",
       "      <th>3</th>\n",
       "      <td>It must be assumed that those who praised this...</td>\n",
       "      <td>must assum prais thi film greatest film opera ...</td>\n",
       "      <td>0</td>\n",
       "      <td>379</td>\n",
       "      <td>200</td>\n",
       "    </tr>\n",
       "    <tr>\n",
       "      <th>4</th>\n",
       "      <td>Superbly trashy and wondrously unpretentious 8...</td>\n",
       "      <td>superbl trashi wondrous unpretenti exploit hoo...</td>\n",
       "      <td>1</td>\n",
       "      <td>367</td>\n",
       "      <td>223</td>\n",
       "    </tr>\n",
       "  </tbody>\n",
       "</table>\n",
       "</div>"
      ],
      "text/plain": [
       "                                              review  \\\n",
       "0  With all this stuff going down at the moment w...   \n",
       "1  \\The Classic War of the Worlds\\\" by Timothy Hi...   \n",
       "2  The film starts with a manager (Nicholas Bell)...   \n",
       "3  It must be assumed that those who praised this...   \n",
       "4  Superbly trashy and wondrously unpretentious 8...   \n",
       "\n",
       "                               stem processed review  sentiment  word count  \\\n",
       "0  thi stuff go moment mj start listen hi music w...          1         433   \n",
       "1  classic war world timothi hine veri entertain ...          1         158   \n",
       "2  film start manag nichola bell give welcom inve...          0         378   \n",
       "3  must assum prais thi film greatest film opera ...          0         379   \n",
       "4  superbl trashi wondrous unpretenti exploit hoo...          1         367   \n",
       "\n",
       "   stem processed review word count  \n",
       "0                               242  \n",
       "1                                92  \n",
       "2                               245  \n",
       "3                               200  \n",
       "4                               223  "
      ]
     },
     "execution_count": 20,
     "metadata": {},
     "output_type": "execute_result"
    }
   ],
   "source": [
    "data.head()"
   ]
  },
  {
   "cell_type": "markdown",
   "metadata": {},
   "source": [
    "### Create Train - Test Subsets"
   ]
  },
  {
   "cell_type": "code",
   "execution_count": 21,
   "metadata": {
    "ExecuteTime": {
     "end_time": "2019-08-11T13:17:35.730378Z",
     "start_time": "2019-08-11T13:17:35.727088Z"
    }
   },
   "outputs": [],
   "source": [
    "X = data['stem processed review']\n",
    "y = data['sentiment']"
   ]
  },
  {
   "cell_type": "code",
   "execution_count": 22,
   "metadata": {
    "ExecuteTime": {
     "end_time": "2019-08-11T13:17:38.312234Z",
     "start_time": "2019-08-11T13:17:35.732379Z"
    }
   },
   "outputs": [
    {
     "name": "stdout",
     "output_type": "stream",
     "text": [
      "Vectorizing time: 2.778432s; Train-Test Splitting time: 0.045516s\n"
     ]
    }
   ],
   "source": [
    "t0 = time.time()\n",
    "tfidf = TfidfVectorizer(tokenizer=tokenizer)\n",
    "X_tfidf = tfidf.fit_transform(X)\n",
    "t1 = time.time()\n",
    "\n",
    "X_train_tfidf, X_test_tfidf, y_train_tfidf, y_test_tfidf = train_test_split(X_tfidf, y, test_size=0.25, random_state=101)\n",
    "t2 = time.time()\n",
    "\n",
    "time_vectorizing = t1-t0\n",
    "time_splitting = t2-t1\n",
    "\n",
    "print(\"Vectorizing time: %fs; Train-Test Splitting time: %fs\" % (time_vectorizing, time_splitting))"
   ]
  },
  {
   "cell_type": "code",
   "execution_count": 23,
   "metadata": {
    "ExecuteTime": {
     "end_time": "2019-08-11T13:17:38.323479Z",
     "start_time": "2019-08-11T13:17:38.318637Z"
    }
   },
   "outputs": [
    {
     "data": {
      "text/plain": [
       "(16875, 50642)"
      ]
     },
     "execution_count": 23,
     "metadata": {},
     "output_type": "execute_result"
    }
   ],
   "source": [
    "X_train_tfidf.shape"
   ]
  },
  {
   "cell_type": "markdown",
   "metadata": {},
   "source": [
    "## Model training and evaluation\n",
    "We will explore different classifiers to evaluate the most efficient one in term of accuracy and computational difficulty."
   ]
  },
  {
   "cell_type": "markdown",
   "metadata": {},
   "source": [
    "### Logistic Regression Classifier"
   ]
  },
  {
   "cell_type": "code",
   "execution_count": 24,
   "metadata": {
    "ExecuteTime": {
     "end_time": "2019-08-11T13:17:38.865023Z",
     "start_time": "2019-08-11T13:17:38.327676Z"
    }
   },
   "outputs": [
    {
     "name": "stdout",
     "output_type": "stream",
     "text": [
      "Training time: 0.856787s; Prediction time: 0.003536s\n"
     ]
    }
   ],
   "source": [
    "lr = LogisticRegression()\n",
    "t0 = time.time()\n",
    "\n",
    "lr.fit(X_train_tfidf, y_train_tfidf)\n",
    "t1 = time.time()\n",
    "\n",
    "lr_preds = lr.predict(X_test_tfidf)\n",
    "t2 = time.time()\n",
    "\n",
    "time_linear_train = t1-t0\n",
    "time_linear_predict = t2-t1\n",
    "\n",
    "# results\n",
    "print(\"Training time: %fs; Prediction time: %fs\" % (time_linear_train, time_linear_predict))\n",
    "\n",
    "lr_cm = confusion_matrix(y_test_tfidf, lr_preds)\n",
    "lr_report = classification_report(y_test_tfidf, lr_preds)"
   ]
  },
  {
   "cell_type": "code",
   "execution_count": 25,
   "metadata": {
    "ExecuteTime": {
     "end_time": "2019-08-11T13:17:38.873602Z",
     "start_time": "2019-08-11T13:17:38.868441Z"
    }
   },
   "outputs": [
    {
     "name": "stdout",
     "output_type": "stream",
     "text": [
      "[[2459  371]\n",
      " [ 258 2537]]\n",
      "              precision    recall  f1-score   support\n",
      "\n",
      "           0       0.91      0.87      0.89      2830\n",
      "           1       0.87      0.91      0.89      2795\n",
      "\n",
      "    accuracy                           0.89      5625\n",
      "   macro avg       0.89      0.89      0.89      5625\n",
      "weighted avg       0.89      0.89      0.89      5625\n",
      "\n"
     ]
    }
   ],
   "source": [
    "print(lr_cm)\n",
    "print(lr_report)"
   ]
  },
  {
   "cell_type": "markdown",
   "metadata": {},
   "source": [
    "### Decision Tree Classifier"
   ]
  },
  {
   "cell_type": "code",
   "execution_count": 26,
   "metadata": {
    "ExecuteTime": {
     "end_time": "2019-08-11T13:18:00.621882Z",
     "start_time": "2019-08-11T13:17:38.876939Z"
    }
   },
   "outputs": [
    {
     "name": "stdout",
     "output_type": "stream",
     "text": [
      "Training time: 21.489758s; Prediction time: 0.038512s\n"
     ]
    }
   ],
   "source": [
    "dtc = DecisionTreeClassifier()\n",
    "t0 = time.time()\n",
    "dtc.fit(X_train_tfidf, y_train_tfidf)\n",
    "t1 = time.time()\n",
    "\n",
    "dtc_preds = dtc.predict(X_test_tfidf)\n",
    "t2 = time.time()\n",
    "\n",
    "time_dtc_train = t1-t0\n",
    "time_dtc_predict = t2-t1\n",
    "\n",
    "# results\n",
    "print(\"Training time: %fs; Prediction time: %fs\" % (time_dtc_train, time_dtc_predict))\n",
    "\n",
    "dtc_cm = confusion_matrix(y_test_tfidf, dtc_preds)\n",
    "dtc_report = classification_report(y_test_tfidf, dtc_preds)"
   ]
  },
  {
   "cell_type": "code",
   "execution_count": 27,
   "metadata": {
    "ExecuteTime": {
     "end_time": "2019-08-11T13:18:00.628870Z",
     "start_time": "2019-08-11T13:18:00.624555Z"
    }
   },
   "outputs": [
    {
     "name": "stdout",
     "output_type": "stream",
     "text": [
      "[[2012  818]\n",
      " [ 780 2015]]\n",
      "              precision    recall  f1-score   support\n",
      "\n",
      "           0       0.72      0.71      0.72      2830\n",
      "           1       0.71      0.72      0.72      2795\n",
      "\n",
      "    accuracy                           0.72      5625\n",
      "   macro avg       0.72      0.72      0.72      5625\n",
      "weighted avg       0.72      0.72      0.72      5625\n",
      "\n"
     ]
    }
   ],
   "source": [
    "print(dtc_cm)\n",
    "print(dtc_report)"
   ]
  },
  {
   "cell_type": "markdown",
   "metadata": {},
   "source": [
    "### Random Forest Classifier"
   ]
  },
  {
   "cell_type": "code",
   "execution_count": 28,
   "metadata": {
    "ExecuteTime": {
     "end_time": "2019-08-11T13:18:04.992549Z",
     "start_time": "2019-08-11T13:18:00.631216Z"
    }
   },
   "outputs": [
    {
     "name": "stdout",
     "output_type": "stream",
     "text": [
      "Training time: 5.204248s; Prediction time: 0.063081s\n"
     ]
    }
   ],
   "source": [
    "rfc = RandomForestClassifier()\n",
    "\n",
    "t0 = time.time()\n",
    "rfc.fit(X_train_tfidf, y_train_tfidf)\n",
    "t1 = time.time()\n",
    "\n",
    "rfc_preds = rfc.predict(X_test_tfidf)\n",
    "t2 = time.time()\n",
    "\n",
    "time_rfc_train = t1-t0\n",
    "time_rfc_predict = t2-t1\n",
    "\n",
    "# results\n",
    "print(\"Training time: %fs; Prediction time: %fs\" % (time_rfc_train, time_rfc_predict))\n",
    "\n",
    "rfc_cm = confusion_matrix(y_test_tfidf, rfc_preds)\n",
    "rfc_report = classification_report(y_test_tfidf, rfc_preds)"
   ]
  },
  {
   "cell_type": "code",
   "execution_count": 29,
   "metadata": {
    "ExecuteTime": {
     "end_time": "2019-08-11T13:18:04.999743Z",
     "start_time": "2019-08-11T13:18:04.994597Z"
    }
   },
   "outputs": [
    {
     "name": "stdout",
     "output_type": "stream",
     "text": [
      "[[2328  502]\n",
      " [ 882 1913]]\n",
      "              precision    recall  f1-score   support\n",
      "\n",
      "           0       0.73      0.82      0.77      2830\n",
      "           1       0.79      0.68      0.73      2795\n",
      "\n",
      "    accuracy                           0.75      5625\n",
      "   macro avg       0.76      0.75      0.75      5625\n",
      "weighted avg       0.76      0.75      0.75      5625\n",
      "\n"
     ]
    }
   ],
   "source": [
    "print(rfc_cm)\n",
    "print(rfc_report)"
   ]
  },
  {
   "cell_type": "markdown",
   "metadata": {},
   "source": [
    "### K-Neighbors Nearest Classifier"
   ]
  },
  {
   "cell_type": "code",
   "execution_count": 30,
   "metadata": {
    "ExecuteTime": {
     "end_time": "2019-08-11T13:18:15.167101Z",
     "start_time": "2019-08-11T13:18:05.002621Z"
    }
   },
   "outputs": [
    {
     "name": "stdout",
     "output_type": "stream",
     "text": [
      "Training time: 0.015005s; Prediction time: 8.585220s\n"
     ]
    }
   ],
   "source": [
    "knn = KNeighborsClassifier()\n",
    "\n",
    "t0 = time.time()\n",
    "knn.fit(X_train_tfidf, y_train_tfidf)\n",
    "t1 = time.time()\n",
    "\n",
    "knn_preds = knn.predict(X_test_tfidf)\n",
    "t2 = time.time()\n",
    "\n",
    "time_knn_train = t1-t0\n",
    "time_knn_predict = t2-t1\n",
    "\n",
    "# results\n",
    "print(\"Training time: %fs; Prediction time: %fs\" % (time_knn_train, time_knn_predict))\n",
    "\n",
    "knn_cm = confusion_matrix(y_test_tfidf, knn_preds)\n",
    "knn_report = classification_report(y_test_tfidf, knn_preds)"
   ]
  },
  {
   "cell_type": "code",
   "execution_count": 31,
   "metadata": {
    "ExecuteTime": {
     "end_time": "2019-08-11T13:18:15.172798Z",
     "start_time": "2019-08-11T13:18:15.169232Z"
    }
   },
   "outputs": [
    {
     "name": "stdout",
     "output_type": "stream",
     "text": [
      "[[2094  736]\n",
      " [ 456 2339]]\n",
      "              precision    recall  f1-score   support\n",
      "\n",
      "           0       0.82      0.74      0.78      2830\n",
      "           1       0.76      0.84      0.80      2795\n",
      "\n",
      "    accuracy                           0.79      5625\n",
      "   macro avg       0.79      0.79      0.79      5625\n",
      "weighted avg       0.79      0.79      0.79      5625\n",
      "\n"
     ]
    }
   ],
   "source": [
    "print(knn_cm)\n",
    "print(knn_report)"
   ]
  },
  {
   "cell_type": "markdown",
   "metadata": {},
   "source": [
    "### Support Vector Machine Classifier"
   ]
  },
  {
   "cell_type": "code",
   "execution_count": 32,
   "metadata": {
    "ExecuteTime": {
     "end_time": "2019-08-11T13:21:58.876858Z",
     "start_time": "2019-08-11T13:18:15.174949Z"
    }
   },
   "outputs": [
    {
     "name": "stdout",
     "output_type": "stream",
     "text": [
      "Training time: 210.990225s; Prediction time: 40.653803s\n"
     ]
    }
   ],
   "source": [
    "svm = SVC(kernel='linear')\n",
    "\n",
    "t0 = time.time()\n",
    "svm.fit(X_train_tfidf, y_train_tfidf)\n",
    "t1 = time.time()\n",
    "\n",
    "svm_preds = svm.predict(X_test_tfidf)\n",
    "t2 = time.time()\n",
    "\n",
    "time_svm_train = t1-t0\n",
    "time_svm_predict = t2-t1\n",
    "\n",
    "# results\n",
    "print(\"Training time: %fs; Prediction time: %fs\" % (time_svm_train, time_svm_predict))\n",
    "\n",
    "svm_cm = confusion_matrix(y_test_tfidf, svm_preds)\n",
    "svm_report = classification_report(y_test_tfidf, svm_preds)"
   ]
  },
  {
   "cell_type": "code",
   "execution_count": 33,
   "metadata": {
    "ExecuteTime": {
     "end_time": "2019-08-11T13:21:58.882716Z",
     "start_time": "2019-08-11T13:21:58.878810Z"
    }
   },
   "outputs": [
    {
     "name": "stdout",
     "output_type": "stream",
     "text": [
      "[[2473  357]\n",
      " [ 280 2515]]\n",
      "              precision    recall  f1-score   support\n",
      "\n",
      "           0       0.90      0.87      0.89      2830\n",
      "           1       0.88      0.90      0.89      2795\n",
      "\n",
      "    accuracy                           0.89      5625\n",
      "   macro avg       0.89      0.89      0.89      5625\n",
      "weighted avg       0.89      0.89      0.89      5625\n",
      "\n"
     ]
    }
   ],
   "source": [
    "print(svm_cm)\n",
    "print(svm_report)"
   ]
  },
  {
   "cell_type": "markdown",
   "metadata": {},
   "source": [
    "### Export Trained Models, default mode"
   ]
  },
  {
   "cell_type": "code",
   "execution_count": 34,
   "metadata": {
    "ExecuteTime": {
     "end_time": "2019-08-11T13:21:59.026837Z",
     "start_time": "2019-08-11T13:21:58.884597Z"
    }
   },
   "outputs": [],
   "source": [
    "# Using pickle to export our trained model\n",
    "# pickle.dump(lr, open(os.path.join('models', 'Model_LR_default_imdb.pkl'), 'wb'), protocol=4)\n",
    "# pickle.dump(dtc, open(os.path.join('models', 'Model_DTC_default_imdb.pkl'), 'wb'), protocol=4)\n",
    "# pickle.dump(rfc, open(os.path.join('models', 'Model_RFC_default_imdb.pkl'), 'wb'), protocol=4)\n",
    "# pickle.dump(knn, open(os.path.join('models', 'Model_KNN_default_imdb.pkl'), 'wb'), protocol=4)\n",
    "# pickle.dump(svm, open(os.path.join('models', 'Model_SVM_default_imdb.pkl'), 'wb'), protocol=4)"
   ]
  },
  {
   "cell_type": "markdown",
   "metadata": {},
   "source": [
    "## 4. Performance Comparison"
   ]
  },
  {
   "cell_type": "code",
   "execution_count": 35,
   "metadata": {
    "ExecuteTime": {
     "end_time": "2019-08-11T13:22:00.382455Z",
     "start_time": "2019-08-11T13:21:59.028684Z"
    }
   },
   "outputs": [
    {
     "data": {
      "image/png": "[encoded data removed]",
      "text/plain": [
       "<Figure size 1008x1440 with 11 Axes>"
      ]
     },
     "metadata": {
      "needs_background": "light"
     },
     "output_type": "display_data"
    }
   ],
   "source": [
    "fig, ax = plt.subplots(3,2, figsize=[14,20])\n",
    "\n",
    "sns.heatmap(lr_cm, ax=ax[0, 0], annot=True, fmt='d', square=True)\n",
    "ax[0, 0].set_title('LR')\n",
    "ax[0, 0].set_xlabel('Test')\n",
    "ax[0, 0].set_ylabel('Predictions')\n",
    "\n",
    "sns.heatmap(svm_cm, ax=ax[0, 1], annot=True, fmt='d', square=True)\n",
    "ax[0, 1].set_title('SVM')\n",
    "ax[0, 1].set_xlabel('Test')\n",
    "ax[0, 1].set_ylabel('Predictions')\n",
    "\n",
    "sns.heatmap(dtc_cm, ax=ax[1, 0], annot=True, fmt='d', square=True)\n",
    "ax[1, 0].set_title('DTC')\n",
    "ax[1, 0].set_xlabel('Test')\n",
    "ax[1, 0].set_ylabel('Predictions')\n",
    "\n",
    "sns.heatmap(rfc_cm, ax=ax[1, 1], annot=True, fmt='d', square=True)\n",
    "ax[1, 1].set_title('RFC')\n",
    "ax[1, 1].set_xlabel('Test')\n",
    "ax[1, 1].set_ylabel('Predictions')\n",
    "\n",
    "sns.heatmap(knn_cm, ax=ax[2, 0], annot=True, fmt='d', square=True)\n",
    "ax[2, 0].set_title('KNN')\n",
    "ax[2, 0].set_xlabel('Test')\n",
    "ax[2, 0].set_ylabel('Predictions')\n",
    "\n",
    "plt.show()"
   ]
  },
  {
   "cell_type": "markdown",
   "metadata": {},
   "source": [
    "### Conclusion: \n",
    "Base on the confusion matrix diagrams, we can see that Logistic Regression and SVM are the two most effecient models. But Logistic Regression outperforms SVM in term of computation time. Now we can choose the Logistic Regression model and fine tune it."
   ]
  },
  {
   "cell_type": "code",
   "execution_count": 36,
   "metadata": {
    "ExecuteTime": {
     "end_time": "2019-08-11T13:22:00.849995Z",
     "start_time": "2019-08-11T13:22:00.385135Z"
    }
   },
   "outputs": [
    {
     "data": {
      "image/png": "[encoded data removed]",
      "text/plain": [
       "<Figure size 1008x504 with 4 Axes>"
      ]
     },
     "metadata": {
      "needs_background": "light"
     },
     "output_type": "display_data"
    }
   ],
   "source": [
    "fig, ax = plt.subplots(1, 2, figsize=[14,7])\n",
    "\n",
    "sns.heatmap(lr_cm, ax=ax[0], annot=True, fmt='d', square=True)\n",
    "ax[0].set_title('LR')\n",
    "ax[0].set_xlabel('Test')\n",
    "ax[0].set_ylabel('Predictions')\n",
    "\n",
    "sns.heatmap(svm_cm, ax=ax[1], annot=True, fmt='d', square=True)\n",
    "ax[1].set_title('SVM')\n",
    "ax[1].set_xlabel('Test')\n",
    "ax[1].set_ylabel('Predictions')\n",
    "\n",
    "plt.show()"
   ]
  },
  {
   "cell_type": "markdown",
   "metadata": {},
   "source": [
    "# Optimization"
   ]
  },
  {
   "cell_type": "markdown",
   "metadata": {},
   "source": [
    "## Parameter Tuning with GridSearchCV\n",
    "We find the best **C** and **n-gram** values for our model.\n",
    "\n",
    "In an n-gram vector, text is represented as a collection of unique n-grams: groups of n adjacent tokens (typically, words). Consider the text The mouse ran up the clock. Here, the word unigrams (n = 1) are ['the', 'mouse', 'ran', 'up', 'clock'], the word bigrams (n = 2) are ['the mouse', 'mouse ran', 'ran up', 'up the', 'the clock'], and so on."
   ]
  },
  {
   "cell_type": "code",
   "execution_count": 37,
   "metadata": {
    "ExecuteTime": {
     "end_time": "2019-08-11T13:22:00.859319Z",
     "start_time": "2019-08-11T13:22:00.852007Z"
    }
   },
   "outputs": [],
   "source": [
    "X_train, X_test, y_train, y_test = train_test_split(X, y, test_size=0.25, random_state=101)"
   ]
  },
  {
   "cell_type": "code",
   "execution_count": 38,
   "metadata": {
    "ExecuteTime": {
     "start_time": "2019-08-11T13:15:50.906Z"
    }
   },
   "outputs": [
    {
     "data": {
      "text/plain": [
       "GridSearchCV(cv=10, error_score='raise-deprecating',\n",
       "             estimator=Pipeline(memory=None,\n",
       "                                steps=[('tfidf',\n",
       "                                        TfidfVectorizer(analyzer='word',\n",
       "                                                        binary=False,\n",
       "                                                        decode_error='strict',\n",
       "                                                        dtype=<class 'numpy.float64'>,\n",
       "                                                        encoding='utf-8',\n",
       "                                                        input='content',\n",
       "                                                        lowercase=True,\n",
       "                                                        max_df=1.0,\n",
       "                                                        max_features=None,\n",
       "                                                        min_df=1,\n",
       "                                                        ngram_range=(1, 1),\n",
       "                                                        norm='l2',\n",
       "                                                        preprocessor=None,\n",
       "                                                        smooth_idf=True,\n",
       "                                                        stop_wor...\n",
       "                                                           l1_ratio=None,\n",
       "                                                           max_iter=100,\n",
       "                                                           multi_class='warn',\n",
       "                                                           n_jobs=None,\n",
       "                                                           penalty='l2',\n",
       "                                                           random_state=None,\n",
       "                                                           solver='warn',\n",
       "                                                           tol=0.0001,\n",
       "                                                           verbose=0,\n",
       "                                                           warm_start=False))],\n",
       "                                verbose=False),\n",
       "             iid='warn', n_jobs=None,\n",
       "             param_grid={'classifier__C': (0.1, 1, 1.5, 2, 2.5, 3, 3.5, 4, 5),\n",
       "                         'tfidf__ngram_range': [(1, 1), (1, 2), (1, 3)]},\n",
       "             pre_dispatch='2*n_jobs', refit=True, return_train_score=False,\n",
       "             scoring=None, verbose=0)"
      ]
     },
     "execution_count": 38,
     "metadata": {},
     "output_type": "execute_result"
    }
   ],
   "source": [
    "from sklearn.pipeline import Pipeline\n",
    "\n",
    "pipeline = Pipeline([ \n",
    "                      ('tfidf', TfidfVectorizer(tokenizer=tokenizer)),\n",
    "                      ('classifier', LogisticRegression()),  \n",
    "                    ])\n",
    "\n",
    "parameters = {\n",
    "              'tfidf__ngram_range': [(1,1), (1,2), (1,3)],\n",
    "              'classifier__C': (0.1, 1, 1.5, 2, 2.5, 3, 3.5, 4, 5),\n",
    "             }\n",
    "\n",
    "grid = GridSearchCV(pipeline, cv=10, param_grid=parameters)\n",
    "grid.fit(X_train, y_train)"
   ]
  },
  {
   "cell_type": "code",
   "execution_count": 39,
   "metadata": {
    "ExecuteTime": {
     "start_time": "2019-08-11T13:15:50.909Z"
    }
   },
   "outputs": [
    {
     "name": "stdout",
     "output_type": "stream",
     "text": [
      "\n",
      "Best Model: 0.893689 using {'classifier__C': 5, 'tfidf__ngram_range': (1, 2)}\n",
      "\n",
      "\n",
      "Mean: 0.852741 Stdev:(0.009266) with: {'classifier__C': 0.1, 'tfidf__ngram_range': (1, 1)}\n",
      "Mean: 0.842370 Stdev:(0.007996) with: {'classifier__C': 0.1, 'tfidf__ngram_range': (1, 2)}\n",
      "Mean: 0.835081 Stdev:(0.006588) with: {'classifier__C': 0.1, 'tfidf__ngram_range': (1, 3)}\n",
      "Mean: 0.884207 Stdev:(0.009068) with: {'classifier__C': 1, 'tfidf__ngram_range': (1, 1)}\n",
      "Mean: 0.882074 Stdev:(0.009030) with: {'classifier__C': 1, 'tfidf__ngram_range': (1, 2)}\n",
      "Mean: 0.874548 Stdev:(0.006880) with: {'classifier__C': 1, 'tfidf__ngram_range': (1, 3)}\n",
      "Mean: 0.885511 Stdev:(0.009229) with: {'classifier__C': 1.5, 'tfidf__ngram_range': (1, 1)}\n",
      "Mean: 0.886222 Stdev:(0.009037) with: {'classifier__C': 1.5, 'tfidf__ngram_range': (1, 2)}\n",
      "Mean: 0.878044 Stdev:(0.007564) with: {'classifier__C': 1.5, 'tfidf__ngram_range': (1, 3)}\n",
      "Mean: 0.886696 Stdev:(0.009150) with: {'classifier__C': 2, 'tfidf__ngram_range': (1, 1)}\n",
      "Mean: 0.888948 Stdev:(0.008618) with: {'classifier__C': 2, 'tfidf__ngram_range': (1, 2)}\n",
      "Mean: 0.880948 Stdev:(0.007585) with: {'classifier__C': 2, 'tfidf__ngram_range': (1, 3)}\n",
      "Mean: 0.887170 Stdev:(0.008434) with: {'classifier__C': 2.5, 'tfidf__ngram_range': (1, 1)}\n",
      "Mean: 0.890193 Stdev:(0.008969) with: {'classifier__C': 2.5, 'tfidf__ngram_range': (1, 2)}\n",
      "Mean: 0.882904 Stdev:(0.008150) with: {'classifier__C': 2.5, 'tfidf__ngram_range': (1, 3)}\n",
      "Mean: 0.887526 Stdev:(0.009207) with: {'classifier__C': 3, 'tfidf__ngram_range': (1, 1)}\n",
      "Mean: 0.891022 Stdev:(0.008934) with: {'classifier__C': 3, 'tfidf__ngram_range': (1, 2)}\n",
      "Mean: 0.884504 Stdev:(0.008597) with: {'classifier__C': 3, 'tfidf__ngram_range': (1, 3)}\n",
      "Mean: 0.887822 Stdev:(0.008629) with: {'classifier__C': 3.5, 'tfidf__ngram_range': (1, 1)}\n",
      "Mean: 0.891970 Stdev:(0.008679) with: {'classifier__C': 3.5, 'tfidf__ngram_range': (1, 2)}\n",
      "Mean: 0.885630 Stdev:(0.008291) with: {'classifier__C': 3.5, 'tfidf__ngram_range': (1, 3)}\n",
      "Mean: 0.887585 Stdev:(0.008620) with: {'classifier__C': 4, 'tfidf__ngram_range': (1, 1)}\n",
      "Mean: 0.892504 Stdev:(0.008433) with: {'classifier__C': 4, 'tfidf__ngram_range': (1, 2)}\n",
      "Mean: 0.886400 Stdev:(0.008458) with: {'classifier__C': 4, 'tfidf__ngram_range': (1, 3)}\n",
      "Mean: 0.888474 Stdev:(0.009182) with: {'classifier__C': 5, 'tfidf__ngram_range': (1, 1)}\n",
      "Mean: 0.893689 Stdev:(0.008392) with: {'classifier__C': 5, 'tfidf__ngram_range': (1, 2)}\n",
      "Mean: 0.887111 Stdev:(0.007931) with: {'classifier__C': 5, 'tfidf__ngram_range': (1, 3)}\n"
     ]
    }
   ],
   "source": [
    "# summarize results\n",
    "print(\"\\nBest Model: %f using %s\" % (grid.best_score_, grid.best_params_))\n",
    "print('\\n')\n",
    "means = grid.cv_results_['mean_test_score']\n",
    "stds = grid.cv_results_['std_test_score']\n",
    "params = grid.cv_results_['params']\n",
    "for mean, stdev, param in zip(means, stds, params):\n",
    "    print(\"Mean: %f Stdev:(%f) with: %r\" % (mean, stdev, param))"
   ]
  },
  {
   "cell_type": "markdown",
   "metadata": {},
   "source": [
    "## Experiment #1: Lemmatization vs Stemming\n",
    "\n",
    "We make an experiment between lemmatization and stemming to see which one contribute to a better accuracy for our model.\n",
    "\n",
    "**Stemming** usually refers to a crude heuristic process that chops off the ends of words in the hope of achieving this goal correctly most of the time, and often includes the removal of derivational affixes.\n",
    "\n",
    "**Lemmatization** usually refers to doing things properly with the use of a vocabulary and morphological analysis of words, normally aiming to remove inflectional endings only and to return the base or dictionary form of a word, which is known as the lemma\n",
    "\n",
    "For instance:\n",
    "\n",
    "* The word \"better\" has \"good\" as its lemma. This link is missed by stemming, as it requires a dictionary look-up.\n",
    "* The word \"walk\" is the base form for word \"walking\", and hence this is matched in both stemming and lemmatisation.\n",
    "* The word \"meeting\" can be either the base form of a noun or a form of a verb (\"to meet\") depending on the context, e.g., \"in our last meeting\" or \"We are meeting again tomorrow\". Unlike stemming, lemmatisation can in principle select the appropriate lemma depending on the context.\n"
   ]
  },
  {
   "cell_type": "markdown",
   "metadata": {},
   "source": [
    "### Lemmatization: Preprocessing"
   ]
  },
  {
   "cell_type": "code",
   "execution_count": 40,
   "metadata": {
    "ExecuteTime": {
     "start_time": "2019-08-11T13:15:50.912Z"
    },
    "scrolled": true
   },
   "outputs": [
    {
     "name": "stderr",
     "output_type": "stream",
     "text": [
      "[nltk_data] Downloading package wordnet to\n",
      "[nltk_data]     C:\\Users\\Admin\\AppData\\Roaming\\nltk_data...\n",
      "[nltk_data]   Package wordnet is already up-to-date!\n"
     ]
    }
   ],
   "source": [
    "nltk.download('wordnet')\n",
    "lemmatizer = WordNetLemmatizer()"
   ]
  },
  {
   "cell_type": "code",
   "execution_count": 41,
   "metadata": {
    "ExecuteTime": {
     "start_time": "2019-08-11T13:15:50.914Z"
    }
   },
   "outputs": [],
   "source": [
    "def preprocessor_lemma(text):\n",
    "  text = clean_text(text)\n",
    "  \n",
    "  # Lemmatizing\n",
    "  text = [lemmatizer.lemmatize(token) for token in text.split(\" \")]\n",
    "  text = [lemmatizer.lemmatize(token, \"v\") for token in text]\n",
    "  \n",
    "  # Remove stop words\n",
    "  text = [word for word in text if not word in stop_words]\n",
    "  \n",
    "  text = \" \".join(text)\n",
    "  \n",
    "  return text"
   ]
  },
  {
   "cell_type": "code",
   "execution_count": 42,
   "metadata": {
    "ExecuteTime": {
     "start_time": "2019-08-11T13:15:50.916Z"
    }
   },
   "outputs": [],
   "source": [
    "# data.drop(columns='lemma processed review', inplace=True)\n",
    "data.insert(loc = 2, column=\"lemma processed review\", value=\"\")"
   ]
  },
  {
   "cell_type": "code",
   "execution_count": 43,
   "metadata": {
    "ExecuteTime": {
     "start_time": "2019-08-11T13:15:50.918Z"
    },
    "scrolled": true
   },
   "outputs": [],
   "source": [
    "data['lemma processed review'] = data['review'].apply(preprocessor_lemma)"
   ]
  },
  {
   "cell_type": "code",
   "execution_count": 44,
   "metadata": {
    "ExecuteTime": {
     "start_time": "2019-08-11T13:15:50.921Z"
    }
   },
   "outputs": [
    {
     "data": {
      "text/html": [
       "<div>\n",
       "<style scoped>\n",
       "    .dataframe tbody tr th:only-of-type {\n",
       "        vertical-align: middle;\n",
       "    }\n",
       "\n",
       "    .dataframe tbody tr th {\n",
       "        vertical-align: top;\n",
       "    }\n",
       "\n",
       "    .dataframe thead th {\n",
       "        text-align: right;\n",
       "    }\n",
       "</style>\n",
       "<table border=\"1\" class=\"dataframe\">\n",
       "  <thead>\n",
       "    <tr style=\"text-align: right;\">\n",
       "      <th></th>\n",
       "      <th>review</th>\n",
       "      <th>stem processed review</th>\n",
       "      <th>lemma processed review</th>\n",
       "      <th>sentiment</th>\n",
       "      <th>word count</th>\n",
       "      <th>stem processed review word count</th>\n",
       "      <th>lemma processed review word count</th>\n",
       "    </tr>\n",
       "  </thead>\n",
       "  <tbody>\n",
       "    <tr>\n",
       "      <th>0</th>\n",
       "      <td>With all this stuff going down at the moment w...</td>\n",
       "      <td>thi stuff go moment mj start listen hi music w...</td>\n",
       "      <td>stuff go moment mj start listen music watch od...</td>\n",
       "      <td>1</td>\n",
       "      <td>433</td>\n",
       "      <td>242</td>\n",
       "      <td>224</td>\n",
       "    </tr>\n",
       "    <tr>\n",
       "      <th>1</th>\n",
       "      <td>\\The Classic War of the Worlds\\\" by Timothy Hi...</td>\n",
       "      <td>classic war world timothi hine veri entertain ...</td>\n",
       "      <td>classic war world timothy hines entertain film...</td>\n",
       "      <td>1</td>\n",
       "      <td>158</td>\n",
       "      <td>92</td>\n",
       "      <td>85</td>\n",
       "    </tr>\n",
       "    <tr>\n",
       "      <th>2</th>\n",
       "      <td>The film starts with a manager (Nicholas Bell)...</td>\n",
       "      <td>film start manag nichola bell give welcom inve...</td>\n",
       "      <td>film start manager nicholas bell give welcome ...</td>\n",
       "      <td>0</td>\n",
       "      <td>378</td>\n",
       "      <td>245</td>\n",
       "      <td>243</td>\n",
       "    </tr>\n",
       "    <tr>\n",
       "      <th>3</th>\n",
       "      <td>It must be assumed that those who praised this...</td>\n",
       "      <td>must assum prais thi film greatest film opera ...</td>\n",
       "      <td>must assume praise film greatest film opera ev...</td>\n",
       "      <td>0</td>\n",
       "      <td>379</td>\n",
       "      <td>200</td>\n",
       "      <td>191</td>\n",
       "    </tr>\n",
       "    <tr>\n",
       "      <th>4</th>\n",
       "      <td>Superbly trashy and wondrously unpretentious 8...</td>\n",
       "      <td>superbl trashi wondrous unpretenti exploit hoo...</td>\n",
       "      <td>superbly trashy wondrously unpretentious explo...</td>\n",
       "      <td>1</td>\n",
       "      <td>367</td>\n",
       "      <td>223</td>\n",
       "      <td>218</td>\n",
       "    </tr>\n",
       "  </tbody>\n",
       "</table>\n",
       "</div>"
      ],
      "text/plain": [
       "                                              review  \\\n",
       "0  With all this stuff going down at the moment w...   \n",
       "1  \\The Classic War of the Worlds\\\" by Timothy Hi...   \n",
       "2  The film starts with a manager (Nicholas Bell)...   \n",
       "3  It must be assumed that those who praised this...   \n",
       "4  Superbly trashy and wondrously unpretentious 8...   \n",
       "\n",
       "                               stem processed review  \\\n",
       "0  thi stuff go moment mj start listen hi music w...   \n",
       "1  classic war world timothi hine veri entertain ...   \n",
       "2  film start manag nichola bell give welcom inve...   \n",
       "3  must assum prais thi film greatest film opera ...   \n",
       "4  superbl trashi wondrous unpretenti exploit hoo...   \n",
       "\n",
       "                              lemma processed review  sentiment  word count  \\\n",
       "0  stuff go moment mj start listen music watch od...          1         433   \n",
       "1  classic war world timothy hines entertain film...          1         158   \n",
       "2  film start manager nicholas bell give welcome ...          0         378   \n",
       "3  must assume praise film greatest film opera ev...          0         379   \n",
       "4  superbly trashy wondrously unpretentious explo...          1         367   \n",
       "\n",
       "   stem processed review word count  lemma processed review word count  \n",
       "0                               242                                224  \n",
       "1                                92                                 85  \n",
       "2                               245                                243  \n",
       "3                               200                                191  \n",
       "4                               223                                218  "
      ]
     },
     "execution_count": 44,
     "metadata": {},
     "output_type": "execute_result"
    }
   ],
   "source": [
    "data['lemma processed review word count'] = data['lemma processed review'].apply(word_count)\n",
    "data.head()"
   ]
  },
  {
   "cell_type": "markdown",
   "metadata": {},
   "source": [
    "**The lemmatizing review content looks a bit different than the stemming version**"
   ]
  },
  {
   "cell_type": "markdown",
   "metadata": {},
   "source": [
    "### Lemmatization: Vectorizing, Train - Test Splitting"
   ]
  },
  {
   "cell_type": "code",
   "execution_count": 45,
   "metadata": {
    "ExecuteTime": {
     "start_time": "2019-08-11T13:15:50.924Z"
    }
   },
   "outputs": [],
   "source": [
    "X_lemma = data['lemma processed review']\n",
    "X_lemma_train, X_lemma_test, y_lemma_train, y_lemma_test = train_test_split(X_lemma, y, test_size=0.25, random_state=101)"
   ]
  },
  {
   "cell_type": "markdown",
   "metadata": {},
   "source": [
    "#### Parameter Tuning - Find the best max_features\n",
    "As the number of features is increasing when using ngram_range, we wonder what is the most optimized number of features. Hence, we perform GridSearchCV to find out."
   ]
  },
  {
   "cell_type": "code",
   "execution_count": 46,
   "metadata": {
    "ExecuteTime": {
     "start_time": "2019-08-11T13:15:50.927Z"
    }
   },
   "outputs": [
    {
     "data": {
      "text/plain": [
       "GridSearchCV(cv=10, error_score='raise-deprecating',\n",
       "             estimator=Pipeline(memory=None,\n",
       "                                steps=[('tfidf',\n",
       "                                        TfidfVectorizer(analyzer='word',\n",
       "                                                        binary=False,\n",
       "                                                        decode_error='strict',\n",
       "                                                        dtype=<class 'numpy.float64'>,\n",
       "                                                        encoding='utf-8',\n",
       "                                                        input='content',\n",
       "                                                        lowercase=True,\n",
       "                                                        max_df=1.0,\n",
       "                                                        max_features=None,\n",
       "                                                        min_df=1,\n",
       "                                                        ngram_range=(1, 2),\n",
       "                                                        norm='l2',\n",
       "                                                        preprocessor=None,\n",
       "                                                        smooth_idf=True,\n",
       "                                                        stop_wor...\n",
       "                                                           l1_ratio=None,\n",
       "                                                           max_iter=100,\n",
       "                                                           multi_class='warn',\n",
       "                                                           n_jobs=None,\n",
       "                                                           penalty='l2',\n",
       "                                                           random_state=None,\n",
       "                                                           solver='warn',\n",
       "                                                           tol=0.0001,\n",
       "                                                           verbose=0,\n",
       "                                                           warm_start=False))],\n",
       "                                verbose=False),\n",
       "             iid='warn', n_jobs=None,\n",
       "             param_grid={'tfidf__max_features': (20000, 25000, 30000, 40000,\n",
       "                                                 50000, 60000, 70000, 80000)},\n",
       "             pre_dispatch='2*n_jobs', refit=True, return_train_score=False,\n",
       "             scoring=None, verbose=0)"
      ]
     },
     "execution_count": 46,
     "metadata": {},
     "output_type": "execute_result"
    }
   ],
   "source": [
    "pipeline1 = Pipeline([ \n",
    "                      ('tfidf', TfidfVectorizer(sublinear_tf=True,\n",
    "                                                tokenizer=tokenizer,\n",
    "                                                ngram_range=(1, 2))),\n",
    "                      ('classifier', LogisticRegression()),  \n",
    "                    ])\n",
    "\n",
    "parameters = {\n",
    "              'tfidf__max_features': (20000, 25000, 30000, 40000, 50000, 60000, 70000, 80000)\n",
    "             }\n",
    "\n",
    "grid1 = GridSearchCV(pipeline1, cv=10, param_grid=parameters)\n",
    "grid1.fit(X_lemma_train, y_lemma_train)"
   ]
  },
  {
   "cell_type": "code",
   "execution_count": 47,
   "metadata": {
    "ExecuteTime": {
     "start_time": "2019-08-11T13:15:50.930Z"
    }
   },
   "outputs": [
    {
     "name": "stdout",
     "output_type": "stream",
     "text": [
      "\n",
      "Best Model: 0.893333 using {'tfidf__max_features': 20000}\n",
      "\n",
      "\n",
      "Mean: 0.893333 Stdev:(0.008175) with: {'tfidf__max_features': 20000}\n",
      "Mean: 0.892504 Stdev:(0.008255) with: {'tfidf__max_features': 25000}\n",
      "Mean: 0.892859 Stdev:(0.008553) with: {'tfidf__max_features': 30000}\n",
      "Mean: 0.892444 Stdev:(0.007638) with: {'tfidf__max_features': 40000}\n",
      "Mean: 0.892504 Stdev:(0.006928) with: {'tfidf__max_features': 50000}\n",
      "Mean: 0.892385 Stdev:(0.007139) with: {'tfidf__max_features': 60000}\n",
      "Mean: 0.891970 Stdev:(0.006902) with: {'tfidf__max_features': 70000}\n",
      "Mean: 0.892089 Stdev:(0.006724) with: {'tfidf__max_features': 80000}\n"
     ]
    }
   ],
   "source": [
    "# summarize results\n",
    "print(\"\\nBest Model: %f using %s\" % (grid1.best_score_, grid1.best_params_))\n",
    "print('\\n')\n",
    "means = grid1.cv_results_['mean_test_score']\n",
    "stds = grid1.cv_results_['std_test_score']\n",
    "params = grid1.cv_results_['params']\n",
    "for mean, stdev, param in zip(means, stds, params):\n",
    "    print(\"Mean: %f Stdev:(%f) with: %r\" % (mean, stdev, param))"
   ]
  },
  {
   "cell_type": "markdown",
   "metadata": {},
   "source": [
    "We can see that **25000 features is the best performer**, so more features doesn't guarantee better performance."
   ]
  },
  {
   "cell_type": "markdown",
   "metadata": {},
   "source": [
    "#### Vectorizing"
   ]
  },
  {
   "cell_type": "code",
   "execution_count": 66,
   "metadata": {
    "ExecuteTime": {
     "start_time": "2019-08-11T13:15:50.934Z"
    }
   },
   "outputs": [
    {
     "name": "stdout",
     "output_type": "stream",
     "text": [
      "Vectorizing time: 80.169537s; Splitting time: 0.049630s\n"
     ]
    }
   ],
   "source": [
    "X_lemma = data['review']\n",
    "\n",
    "t0 = time.time()\n",
    "tfidf_lemma = TfidfVectorizer(sublinear_tf=True,\n",
    "                              preprocessor=preprocessor_lemma,\n",
    "                              tokenizer=tokenizer,\n",
    "                              ngram_range=(1, 2),\n",
    "                              max_features= 20000\n",
    "                             )\n",
    "X_tfidf_lemma = tfidf_lemma.fit_transform(X_lemma)\n",
    "t1 = time.time()\n",
    "\n",
    "X_train_tfidf_lemma, X_test_tfidf_lemma, y_train_tfidf_lemma, y_test_tfidf_lemma = train_test_split(X_tfidf_lemma, y, test_size=0.25, random_state=101)\n",
    "t2 = time.time()\n",
    "\n",
    "time_vectorizing_lemma = t1-t0\n",
    "time_splitting_lemma = t2-t1\n",
    "\n",
    "print(\"Vectorizing time: %fs; Splitting time: %fs\" % (time_vectorizing_lemma, time_splitting_lemma))"
   ]
  },
  {
   "cell_type": "markdown",
   "metadata": {},
   "source": [
    "### Lemmatization: Model training and evaluation"
   ]
  },
  {
   "cell_type": "code",
   "execution_count": 67,
   "metadata": {
    "ExecuteTime": {
     "start_time": "2019-08-11T13:15:50.937Z"
    }
   },
   "outputs": [
    {
     "name": "stdout",
     "output_type": "stream",
     "text": [
      "Training time: 1.052313s; Prediction time: 0.003035s\n"
     ]
    }
   ],
   "source": [
    "lr_lemma = LogisticRegression(C=5)\n",
    "t0 = time.time()\n",
    "\n",
    "lr_lemma.fit(X_train_tfidf_lemma, y_train_tfidf_lemma)\n",
    "t1 = time.time()\n",
    "\n",
    "lr_lemma_preds = lr_lemma.predict(X_test_tfidf_lemma)\n",
    "t2 = time.time()\n",
    "\n",
    "time_linear_train_lr_lemma = t1-t0\n",
    "time_linear_predict_lr_lemma = t2-t1\n",
    "\n",
    "# results\n",
    "print(\"Training time: %fs; Prediction time: %fs\" % (time_linear_train_lr_lemma, time_linear_predict_lr_lemma))\n",
    "\n",
    "lr_lemma_cm = confusion_matrix(y_test_tfidf_lemma, lr_lemma_preds)\n",
    "lr_lemma_report = classification_report(y_test_tfidf_lemma, lr_lemma_preds)"
   ]
  },
  {
   "cell_type": "code",
   "execution_count": 68,
   "metadata": {
    "ExecuteTime": {
     "start_time": "2019-08-11T13:15:50.939Z"
    }
   },
   "outputs": [
    {
     "name": "stdout",
     "output_type": "stream",
     "text": [
      "[[2517  313]\n",
      " [ 245 2550]]\n",
      "              precision    recall  f1-score   support\n",
      "\n",
      "           0       0.91      0.89      0.90      2830\n",
      "           1       0.89      0.91      0.90      2795\n",
      "\n",
      "    accuracy                           0.90      5625\n",
      "   macro avg       0.90      0.90      0.90      5625\n",
      "weighted avg       0.90      0.90      0.90      5625\n",
      "\n"
     ]
    }
   ],
   "source": [
    "print(lr_lemma_cm)\n",
    "print(lr_lemma_report)"
   ]
  },
  {
   "cell_type": "markdown",
   "metadata": {},
   "source": [
    "### Stemming: Train model using tuned parameters"
   ]
  },
  {
   "cell_type": "code",
   "execution_count": 69,
   "metadata": {
    "ExecuteTime": {
     "start_time": "2019-08-11T13:15:50.943Z"
    }
   },
   "outputs": [
    {
     "name": "stdout",
     "output_type": "stream",
     "text": [
      "Vectorizing time: 137.475525s; Splitting time: 0.052015s\n",
      "Training time: 1.072892s; Prediction time: 0.003054s\n"
     ]
    }
   ],
   "source": [
    "X_stem = data['review']\n",
    "\n",
    "t0 = time.time()\n",
    "tfidf_stem = TfidfVectorizer(sublinear_tf=True,\n",
    "                              preprocessor=preprocessor_stem,\n",
    "                              tokenizer=tokenizer,\n",
    "                              ngram_range=(1, 2),\n",
    "                              max_features= 20000\n",
    "                             )\n",
    "X_tfidf_stem = tfidf_stem.fit_transform(X_stem)\n",
    "t1 = time.time()\n",
    "\n",
    "X_train_tfidf_stem, X_test_tfidf_stem, y_train_tfidf_stem, y_test_tfidf_stem = train_test_split(X_tfidf_stem, y, test_size=0.25, random_state=101)\n",
    "t2 = time.time()\n",
    "\n",
    "time_vectorizing_lr_stem = t1-t0\n",
    "time_splitting_lr_stem = t2-t1\n",
    "\n",
    "print(\"Vectorizing time: %fs; Splitting time: %fs\" % (time_vectorizing_lr_stem, time_splitting_lr_stem))\n",
    "\n",
    "lr_stem = LogisticRegression(C=5)\n",
    "t0 = time.time()\n",
    "\n",
    "lr_stem.fit(X_train_tfidf_stem, y_train_tfidf_stem)\n",
    "t1 = time.time()\n",
    "\n",
    "lr_stem_preds = lr_stem.predict(X_test_tfidf_stem)\n",
    "t2 = time.time()\n",
    "\n",
    "time_linear_train_lr_stem = t1-t0\n",
    "time_linear_predict_lr_stem = t2-t1\n",
    "\n",
    "# results\n",
    "print(\"Training time: %fs; Prediction time: %fs\" % (time_linear_train_lr_stem, time_linear_predict_lr_stem))\n",
    "\n",
    "lr_stem_cm = confusion_matrix(y_test_tfidf_stem, lr_stem_preds)\n",
    "lr_stem_report = classification_report(y_test_tfidf_stem, lr_stem_preds)"
   ]
  },
  {
   "cell_type": "code",
   "execution_count": 70,
   "metadata": {
    "ExecuteTime": {
     "start_time": "2019-08-11T13:15:50.946Z"
    }
   },
   "outputs": [
    {
     "name": "stdout",
     "output_type": "stream",
     "text": [
      "[[2515  315]\n",
      " [ 234 2561]]\n",
      "              precision    recall  f1-score   support\n",
      "\n",
      "           0       0.91      0.89      0.90      2830\n",
      "           1       0.89      0.92      0.90      2795\n",
      "\n",
      "    accuracy                           0.90      5625\n",
      "   macro avg       0.90      0.90      0.90      5625\n",
      "weighted avg       0.90      0.90      0.90      5625\n",
      "\n"
     ]
    }
   ],
   "source": [
    "print(lr_stem_cm)\n",
    "print(lr_stem_report)"
   ]
  },
  {
   "cell_type": "markdown",
   "metadata": {},
   "source": [
    "### Validating using K-Fold CV\n",
    "Finally, to make sure that our train models are not biased by the dataset, we use K-Fold CV to validate them."
   ]
  },
  {
   "cell_type": "code",
   "execution_count": 53,
   "metadata": {
    "ExecuteTime": {
     "start_time": "2019-08-11T13:15:50.949Z"
    }
   },
   "outputs": [],
   "source": [
    "lr_lemma_scores = cross_val_score(lr_lemma, X_train_tfidf_lemma, y_train_tfidf_lemma, cv=10)"
   ]
  },
  {
   "cell_type": "code",
   "execution_count": 54,
   "metadata": {
    "ExecuteTime": {
     "start_time": "2019-08-11T13:15:50.952Z"
    }
   },
   "outputs": [],
   "source": [
    "lr_stem_scores = cross_val_score(lr_stem, X_train_tfidf_stem, y_train_tfidf_stem, cv=10)"
   ]
  },
  {
   "cell_type": "code",
   "execution_count": 55,
   "metadata": {
    "ExecuteTime": {
     "start_time": "2019-08-11T13:15:50.954Z"
    }
   },
   "outputs": [
    {
     "data": {
      "text/plain": [
       "0.8989026630988233"
      ]
     },
     "execution_count": 55,
     "metadata": {},
     "output_type": "execute_result"
    }
   ],
   "source": [
    "lr_lemma_scores.mean()"
   ]
  },
  {
   "cell_type": "code",
   "execution_count": 56,
   "metadata": {
    "ExecuteTime": {
     "start_time": "2019-08-11T13:15:50.956Z"
    }
   },
   "outputs": [
    {
     "data": {
      "text/plain": [
       "0.8992591313845623"
      ]
     },
     "execution_count": 56,
     "metadata": {},
     "output_type": "execute_result"
    }
   ],
   "source": [
    "lr_stem_scores.mean()"
   ]
  },
  {
   "cell_type": "markdown",
   "metadata": {},
   "source": [
    "### Conclusion\n",
    "Lemmatization improves our model over Stemming, but not significantly."
   ]
  },
  {
   "cell_type": "code",
   "execution_count": 57,
   "metadata": {
    "ExecuteTime": {
     "start_time": "2019-08-11T13:15:50.959Z"
    }
   },
   "outputs": [
    {
     "data": {
      "image/png": "[encoded data removed]",
      "text/plain": [
       "<Figure size 1008x504 with 4 Axes>"
      ]
     },
     "metadata": {
      "needs_background": "light"
     },
     "output_type": "display_data"
    }
   ],
   "source": [
    "fig, ax = plt.subplots(1, 2, figsize=[14,7])\n",
    "\n",
    "sns.heatmap(lr_lemma_cm, ax=ax[0], annot=True, fmt='d', square=True)\n",
    "ax[0].set_title('LR LEMMA')\n",
    "ax[0].set_xlabel('Test')\n",
    "ax[0].set_ylabel('Predictions')\n",
    "\n",
    "sns.heatmap(lr_stem_cm, ax=ax[1], annot=True, fmt='d', square=True)\n",
    "ax[1].set_title('LR STEM')\n",
    "ax[1].set_xlabel('Test')\n",
    "ax[1].set_ylabel('Predictions')\n",
    "\n",
    "plt.show()"
   ]
  },
  {
   "cell_type": "markdown",
   "metadata": {},
   "source": [
    "### Save trained model: tuned mode"
   ]
  },
  {
   "cell_type": "code",
   "execution_count": 71,
   "metadata": {
    "ExecuteTime": {
     "start_time": "2019-08-11T13:15:50.962Z"
    }
   },
   "outputs": [],
   "source": [
    "pickle.dump(lr_stem, open(os.path.join('models', 'Model_LR_imdb_tuned_stem.pkl'), 'wb'), protocol=4)"
   ]
  },
  {
   "cell_type": "code",
   "execution_count": 59,
   "metadata": {
    "ExecuteTime": {
     "start_time": "2019-08-11T13:15:50.964Z"
    }
   },
   "outputs": [
    {
     "name": "stdout",
     "output_type": "stream",
     "text": [
      "Training time: 563.519557s; Prediction time: 42.413131s\n"
     ]
    }
   ],
   "source": [
    "svm1 = SVC(kernel='linear', C=6)\n",
    "\n",
    "t0 = time.time()\n",
    "svm1.fit(X_train_tfidf_lemma, y_train_tfidf_lemma)\n",
    "t1 = time.time()\n",
    "\n",
    "svm1_preds = svm1.predict(X_test_tfidf_lemma)\n",
    "t2 = time.time()\n",
    "\n",
    "time_svm_train1 = t1-t0\n",
    "time_svm_predict1 = t2-t1\n",
    "\n",
    "# results\n",
    "print(\"Training time: %fs; Prediction time: %fs\" % (time_svm_train1, time_svm_predict1))\n",
    "\n",
    "svm1_cm = confusion_matrix(y_test_tfidf_lemma, svm1_preds)\n",
    "svm1_report = classification_report(y_test_tfidf_lemma, svm1_preds)"
   ]
  },
  {
   "cell_type": "code",
   "execution_count": 60,
   "metadata": {
    "ExecuteTime": {
     "start_time": "2019-08-11T13:15:50.966Z"
    }
   },
   "outputs": [
    {
     "name": "stdout",
     "output_type": "stream",
     "text": [
      "[[2490  340]\n",
      " [ 305 2490]]\n",
      "              precision    recall  f1-score   support\n",
      "\n",
      "           0       0.89      0.88      0.89      2830\n",
      "           1       0.88      0.89      0.89      2795\n",
      "\n",
      "    accuracy                           0.89      5625\n",
      "   macro avg       0.89      0.89      0.89      5625\n",
      "weighted avg       0.89      0.89      0.89      5625\n",
      "\n"
     ]
    }
   ],
   "source": [
    "print(svm1_cm)\n",
    "print(svm1_report)"
   ]
  },
  {
   "cell_type": "markdown",
   "metadata": {},
   "source": [
    "## Investigate wrong predictions"
   ]
  },
  {
   "cell_type": "code",
   "execution_count": 61,
   "metadata": {
    "ExecuteTime": {
     "start_time": "2019-08-11T13:15:50.969Z"
    }
   },
   "outputs": [],
   "source": [
    "wrong_predictions_filter = lr_lemma_preds != y_test_tfidf_lemma"
   ]
  },
  {
   "cell_type": "code",
   "execution_count": 62,
   "metadata": {
    "ExecuteTime": {
     "start_time": "2019-08-11T13:15:50.972Z"
    }
   },
   "outputs": [
    {
     "data": {
      "text/plain": [
       "array([1, 1, 1, 1, 0, 0, 0, 0, 0, 1, 0, 0, 1, 1, 1, 0, 0, 0, 1, 0, 0, 0,\n",
       "       1, 1, 0, 1, 1, 0, 1, 1, 0, 0, 0, 0, 1, 0, 1, 1, 1, 1, 1, 0, 0, 0,\n",
       "       1, 1, 1, 1, 1, 0, 0, 0, 1, 0, 0, 0, 0, 1, 0, 0, 0, 1, 1, 1, 0, 1,\n",
       "       1, 0, 1, 0, 1, 1, 0, 1, 0, 1, 1, 0, 0, 1, 1, 1, 0, 1, 1, 0, 0, 0,\n",
       "       0, 1, 1, 1, 0, 1, 1, 1, 1, 0, 0, 0, 1, 1, 1, 1, 1, 1, 1, 1, 1, 1,\n",
       "       1, 0, 0, 1, 0, 0, 0, 0, 1, 1, 0, 1, 1, 1, 1, 1, 0, 1, 0, 0, 0, 0,\n",
       "       1, 1, 1, 0, 1, 1, 0, 1, 1, 1, 0, 0, 0, 0, 1, 0, 0, 1, 1, 1, 1, 1,\n",
       "       0, 1, 1, 1, 0, 0, 1, 0, 0, 1, 0, 1, 0, 1, 0, 0, 1, 0, 0, 0, 1, 1,\n",
       "       0, 1, 1, 1, 0, 1, 1, 1, 1, 1, 0, 0, 1, 1, 0, 0, 1, 0, 1, 1, 1, 1,\n",
       "       0, 0, 0, 0, 1, 0, 1, 1, 1, 1, 1, 1, 1, 0, 0, 0, 0, 1, 1, 1, 0, 0,\n",
       "       1, 0, 1, 1, 1, 0, 1, 1, 1, 0, 1, 0, 1, 0, 0, 0, 1, 0, 1, 1, 1, 1,\n",
       "       1, 1, 1, 1, 1, 1, 1, 1, 1, 0, 0, 0, 0, 1, 1, 0, 1, 1, 1, 0, 1, 1,\n",
       "       1, 0, 1, 0, 0, 1, 0, 0, 1, 0, 0, 1, 1, 1, 1, 1, 1, 0, 0, 1, 1, 1,\n",
       "       1, 1, 1, 1, 1, 1, 1, 1, 1, 1, 1, 1, 0, 0, 1, 0, 0, 1, 1, 0, 1, 0,\n",
       "       0, 1, 1, 0, 1, 1, 0, 1, 0, 0, 0, 1, 1, 1, 0, 0, 0, 1, 1, 0, 0, 1,\n",
       "       0, 1, 1, 0, 0, 1, 1, 1, 1, 1, 0, 1, 1, 0, 1, 0, 1, 1, 1, 0, 1, 0,\n",
       "       0, 1, 1, 0, 0, 1, 0, 1, 1, 0, 0, 1, 1, 0, 1, 1, 1, 0, 1, 1, 0, 0,\n",
       "       0, 1, 1, 0, 0, 1, 1, 0, 1, 1, 1, 1, 1, 0, 0, 0, 0, 0, 1, 0, 0, 1,\n",
       "       0, 0, 0, 1, 0, 1, 1, 1, 1, 1, 0, 0, 1, 0, 1, 1, 0, 0, 0, 0, 1, 0,\n",
       "       1, 0, 1, 1, 0, 0, 0, 1, 1, 1, 0, 1, 0, 0, 1, 1, 0, 0, 0, 0, 1, 1,\n",
       "       0, 1, 0, 1, 0, 1, 0, 0, 1, 1, 1, 1, 1, 0, 1, 1, 1, 0, 0, 0, 0, 1,\n",
       "       1, 0, 1, 0, 1, 0, 1, 1, 1, 1, 1, 0, 1, 1, 1, 0, 0, 0, 0, 0, 1, 1,\n",
       "       0, 0, 0, 1, 1, 1, 1, 0, 1, 0, 1, 0, 1, 1, 1, 1, 0, 0, 1, 0, 1, 0,\n",
       "       1, 1, 0, 0, 0, 1, 0, 1, 0, 1, 0, 0, 0, 1, 0, 1, 1, 1, 0, 0, 0, 1,\n",
       "       0, 1, 1, 0, 1, 0, 0, 1, 1, 1, 0, 1, 0, 0, 1], dtype=int64)"
      ]
     },
     "execution_count": 62,
     "metadata": {},
     "output_type": "execute_result"
    }
   ],
   "source": [
    "lr_lemma_preds[wrong_predictions_filter]"
   ]
  },
  {
   "cell_type": "code",
   "execution_count": 63,
   "metadata": {
    "ExecuteTime": {
     "start_time": "2019-08-11T13:15:50.974Z"
    }
   },
   "outputs": [
    {
     "data": {
      "text/plain": [
       "12326    0\n",
       "9471     0\n",
       "4861     0\n",
       "18265    0\n",
       "21806    1\n",
       "17758    1\n",
       "1058     1\n",
       "10983    1\n",
       "3214     1\n",
       "21193    0\n",
       "10950    1\n",
       "7491     1\n",
       "15651    0\n",
       "1739     0\n",
       "10960    0\n",
       "7477     1\n",
       "5399     1\n",
       "4011     1\n",
       "14427    0\n",
       "16160    1\n",
       "15239    1\n",
       "2898     1\n",
       "7961     0\n",
       "2504     0\n",
       "17544    1\n",
       "11488    0\n",
       "2161     0\n",
       "10450    1\n",
       "10292    0\n",
       "1211     0\n",
       "        ..\n",
       "19584    0\n",
       "2656     1\n",
       "20097    0\n",
       "5828     1\n",
       "15097    1\n",
       "13645    1\n",
       "8416     0\n",
       "14233    1\n",
       "5712     0\n",
       "18931    0\n",
       "13032    0\n",
       "6774     1\n",
       "19183    1\n",
       "7732     1\n",
       "12875    0\n",
       "8377     1\n",
       "11396    0\n",
       "9170     0\n",
       "15366    1\n",
       "9391     0\n",
       "15552    1\n",
       "15172    1\n",
       "12712    0\n",
       "16926    0\n",
       "6459     0\n",
       "14337    1\n",
       "19192    0\n",
       "10009    1\n",
       "250      1\n",
       "16577    0\n",
       "Name: sentiment, Length: 543, dtype: int64"
      ]
     },
     "execution_count": 63,
     "metadata": {},
     "output_type": "execute_result"
    }
   ],
   "source": [
    "y_test_tfidf_lemma[wrong_predictions_filter]"
   ]
  },
  {
   "cell_type": "code",
   "execution_count": 64,
   "metadata": {
    "ExecuteTime": {
     "start_time": "2019-08-11T13:15:50.977Z"
    }
   },
   "outputs": [
    {
     "data": {
      "text/plain": [
       "Int64Index([12326,  9471,  4861, 18265, 21806, 17758,  1058, 10983,  3214,\n",
       "            21193,\n",
       "            ...\n",
       "            15552, 15172, 12712, 16926,  6459, 14337, 19192, 10009,   250,\n",
       "            16577],\n",
       "           dtype='int64', length=543)"
      ]
     },
     "execution_count": 64,
     "metadata": {},
     "output_type": "execute_result"
    }
   ],
   "source": [
    "y_test_tfidf_lemma[wrong_predictions_filter].index"
   ]
  },
  {
   "cell_type": "code",
   "execution_count": 65,
   "metadata": {
    "ExecuteTime": {
     "start_time": "2019-08-11T13:15:50.980Z"
    }
   },
   "outputs": [
    {
     "name": "stdout",
     "output_type": "stream",
     "text": [
      "Predictions: 1\n",
      "Actual: 0\n",
      "Actual Index: 12326\n",
      "Review: know one care film historic one reason unity two hero two great seventy sci fi film well one great one quite bad great one truly great fact best bad one truly bad fact worst course great refer star war star mark hamill aka luke skywalker hero film kid get vette swipe go vega lead whole lot adventure eventually recover since fix car guess call lube skywalker along way meet hooker heart gold end face character play kim milford hero seventy sci fi cult film laserblast hint earlier worst sci fi film ever make milford play lead baddie hamill must steal car back realize one care meet two great sci fi hero also must say one best worst movie time mark hamill act need force plot need extensive jedi train character hooker play annie potts might annoy character time ever film ever see fun movie watch weekend day weekday night late night late one film meander look something without quite find yet time entire purpose like free form jazz simply exist doe great say entertain hour half might feel rip win feel cheat turn mind relax enjoy muddle gem without expectation may force always  \n"
     ]
    }
   ],
   "source": [
    "index = 0\n",
    "print('Predictions:', lr_lemma_preds[wrong_predictions_filter][index])\n",
    "print('Actual:', y_test_tfidf_lemma[wrong_predictions_filter].iloc[index])\n",
    "print('Actual Index:', y_test_tfidf_lemma[wrong_predictions_filter].index[index])\n",
    "print('Review:', data.iloc[y_test_tfidf_lemma[wrong_predictions_filter].index[index]]['lemma processed review'])"
   ]
  },
  {
   "cell_type": "markdown",
   "metadata": {},
   "source": [
    "## TODO: Implement Light GBM"
   ]
  },
  {
   "cell_type": "code",
   "execution_count": null,
   "metadata": {},
   "outputs": [],
   "source": []
  },
  {
   "cell_type": "markdown",
   "metadata": {},
   "source": [
    "## TODO: Conclusion"
   ]
  },
  {
   "cell_type": "code",
   "execution_count": null,
   "metadata": {},
   "outputs": [],
   "source": []
  }
 ],
 "metadata": {
  "kernelspec": {
   "display_name": "Python 3",
   "language": "python",
   "name": "python3"
  },
  "language_info": {
   "codemirror_mode": {
    "name": "ipython",
    "version": 3
   },
   "file_extension": ".py",
   "mimetype": "text/x-python",
   "name": "python",
   "nbconvert_exporter": "python",
   "pygments_lexer": "ipython3",
   "version": "3.7.3"
  },
  "toc": {
   "base_numbering": 1,
   "nav_menu": {},
   "number_sections": true,
   "sideBar": true,
   "skip_h1_title": false,
   "title_cell": "Table of Contents",
   "title_sidebar": "Contents",
   "toc_cell": false,
   "toc_position": {
    "height": "calc(100% - 180px)",
    "left": "10px",
    "top": "150px",
    "width": "288px"
   },
   "toc_section_display": true,
   "toc_window_display": true
  },
  "varInspector": {
   "cols": {
    "lenName": 16,
    "lenType": 16,
    "lenVar": 40
   },
   "kernels_config": {
    "python": {
     "delete_cmd_postfix": "",
     "delete_cmd_prefix": "del ",
     "library": "var_list.py",
     "varRefreshCmd": "print(var_dic_list())"
    },
    "r": {
     "delete_cmd_postfix": ") ",
     "delete_cmd_prefix": "rm(",
     "library": "var_list.r",
     "varRefreshCmd": "cat(var_dic_list()) "
    }
   },
   "oldHeight": 478,
   "position": {
    "height": "40px",
    "left": "1090px",
    "right": "20px",
    "top": "81px",
    "width": "350px"
   },
   "types_to_exclude": [
    "module",
    "function",
    "builtin_function_or_method",
    "instance",
    "_Feature"
   ],
   "varInspector_section_display": "none",
   "window_display": true
  }
 },
 "nbformat": 4,
 "nbformat_minor": 2
}
