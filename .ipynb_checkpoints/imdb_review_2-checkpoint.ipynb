{
 "cells": [
  {
   "cell_type": "markdown",
   "metadata": {
    "colab_type": "text",
    "id": "5vurpCxZz_LY"
   },
   "source": [
    "[Bag of Words Meets Bags of Popcorn](https://www.kaggle.com/c/word2vec-nlp-tutorial/data)\n",
    "======\n",
    "\n",
    "## Data Set\n",
    "\n",
    "The labeled data set consists of 50,000 IMDB movie reviews, specially selected for sentiment analysis. The sentiment of reviews is binary, meaning the IMDB rating < 5 results in a sentiment score of 0, and rating >=7 have a sentiment score of 1. No individual movie has more than 30 reviews. The 25,000 review labeled training set does not include any of the same movies as the 25,000 review test set. In addition, there are another 50,000 IMDB reviews provided without any rating labels.\n",
    "\n",
    "## File descriptions\n",
    "\n",
    "labeledTrainData - The labeled training set. The file is tab-delimited and has a header row followed by 25,000 rows containing an id, sentiment, and text for each review.\n",
    "## Data fields\n",
    "\n",
    "* id - Unique ID of each review\n",
    "* sentiment - Sentiment of the review; 1 for positive reviews and 0 for negative reviews\n",
    "* review - Text of the review\n",
    "\n",
    "## Objective\n",
    "Objective of this dataset is base on **review** we predict **sentiment** (positive or negative) so X is **review** column and y is **sentiment** column"
   ]
  },
  {
   "cell_type": "markdown",
   "metadata": {
    "colab_type": "text",
    "id": "AbMhsXu4z_La"
   },
   "source": [
    "## 1. Load Dataset"
   ]
  },
  {
   "cell_type": "code",
   "execution_count": 9,
   "metadata": {
    "colab": {
     "base_uri": "https://localhost:8080/",
     "height": 52
    },
    "colab_type": "code",
    "executionInfo": {
     "elapsed": 71867,
     "status": "ok",
     "timestamp": 1565355976643,
     "user": {
      "displayName": "Jody Thai",
      "photoUrl": "https://lh3.googleusercontent.com/-LpV78qt_WbM/AAAAAAAAAAI/AAAAAAAAAJU/cSDgYdKtTQs/s64/photo.jpg",
      "userId": "15371680425307616747"
     },
     "user_tz": -420
    },
    "id": "hHkBAQQAe4hT",
    "outputId": "f987ee76-9d6d-4fd4-bb58-4138b8b82375"
   },
   "outputs": [
    {
     "name": "stdout",
     "output_type": "stream",
     "text": [
      "\u001b[?25l\r",
      "\u001b[K     |▍                               | 10kB 16.1MB/s eta 0:00:01\r",
      "\u001b[K     |▉                               | 20kB 856kB/s eta 0:00:01\r",
      "\u001b[K     |█▎                              | 30kB 1.3MB/s eta 0:00:01\r",
      "\u001b[K     |█▊                              | 40kB 839kB/s eta 0:00:01\r",
      "\u001b[K     |██▏                             | 51kB 1.0MB/s eta 0:00:01\r",
      "\u001b[K     |██▋                             | 61kB 1.2MB/s eta 0:00:01\r",
      "\u001b[K     |███                             | 71kB 1.4MB/s eta 0:00:01\r",
      "\u001b[K     |███▌                            | 81kB 1.6MB/s eta 0:00:01\r",
      "\u001b[K     |████                            | 92kB 1.8MB/s eta 0:00:01\r",
      "\u001b[K     |████▍                           | 102kB 1.4MB/s eta 0:00:01\r",
      "\u001b[K     |████▉                           | 112kB 1.4MB/s eta 0:00:01\r",
      "\u001b[K     |█████▏                          | 122kB 1.4MB/s eta 0:00:01\r",
      "\u001b[K     |█████▋                          | 133kB 1.4MB/s eta 0:00:01\r",
      "\u001b[K     |██████                          | 143kB 1.4MB/s eta 0:00:01\r",
      "\u001b[K     |██████▌                         | 153kB 1.4MB/s eta 0:00:01\r",
      "\u001b[K     |███████                         | 163kB 1.4MB/s eta 0:00:01\r",
      "\u001b[K     |███████▍                        | 174kB 1.4MB/s eta 0:00:01\r",
      "\u001b[K     |███████▉                        | 184kB 1.4MB/s eta 0:00:01\r",
      "\u001b[K     |████████▎                       | 194kB 1.4MB/s eta 0:00:01\r",
      "\u001b[K     |████████▊                       | 204kB 1.4MB/s eta 0:00:01\r",
      "\u001b[K     |█████████▏                      | 215kB 1.4MB/s eta 0:00:01\r",
      "\u001b[K     |█████████▋                      | 225kB 1.4MB/s eta 0:00:01\r",
      "\u001b[K     |██████████                      | 235kB 1.4MB/s eta 0:00:01\r",
      "\u001b[K     |██████████▍                     | 245kB 1.4MB/s eta 0:00:01\r",
      "\u001b[K     |██████████▉                     | 256kB 1.4MB/s eta 0:00:01\r",
      "\u001b[K     |███████████▎                    | 266kB 1.4MB/s eta 0:00:01\r",
      "\u001b[K     |███████████▊                    | 276kB 1.4MB/s eta 0:00:01\r",
      "\u001b[K     |████████████▏                   | 286kB 1.4MB/s eta 0:00:01\r",
      "\u001b[K     |████████████▋                   | 296kB 1.4MB/s eta 0:00:01\r",
      "\u001b[K     |█████████████                   | 307kB 1.4MB/s eta 0:00:01\r",
      "\u001b[K     |█████████████▌                  | 317kB 1.4MB/s eta 0:00:01\r",
      "\u001b[K     |██████████████                  | 327kB 1.4MB/s eta 0:00:01\r",
      "\u001b[K     |██████████████▍                 | 337kB 1.4MB/s eta 0:00:01\r",
      "\u001b[K     |██████████████▉                 | 348kB 1.4MB/s eta 0:00:01\r",
      "\u001b[K     |███████████████▏                | 358kB 1.4MB/s eta 0:00:01\r",
      "\u001b[K     |███████████████▋                | 368kB 1.4MB/s eta 0:00:01\r",
      "\u001b[K     |████████████████                | 378kB 1.4MB/s eta 0:00:01\r",
      "\u001b[K     |████████████████▌               | 389kB 1.4MB/s eta 0:00:01\r",
      "\u001b[K     |█████████████████               | 399kB 1.4MB/s eta 0:00:01\r",
      "\u001b[K     |█████████████████▍              | 409kB 1.4MB/s eta 0:00:01\r",
      "\u001b[K     |█████████████████▉              | 419kB 1.4MB/s eta 0:00:01\r",
      "\u001b[K     |██████████████████▎             | 430kB 1.4MB/s eta 0:00:01\r",
      "\u001b[K     |██████████████████▊             | 440kB 1.4MB/s eta 0:00:01\r",
      "\u001b[K     |███████████████████▏            | 450kB 1.4MB/s eta 0:00:01\r",
      "\u001b[K     |███████████████████▋            | 460kB 1.4MB/s eta 0:00:01\r",
      "\u001b[K     |████████████████████            | 471kB 1.4MB/s eta 0:00:01\r",
      "\u001b[K     |████████████████████▍           | 481kB 1.4MB/s eta 0:00:01\r",
      "\u001b[K     |████████████████████▉           | 491kB 1.4MB/s eta 0:00:01\r",
      "\u001b[K     |█████████████████████▎          | 501kB 1.4MB/s eta 0:00:01\r",
      "\u001b[K     |█████████████████████▊          | 512kB 1.4MB/s eta 0:00:01\r",
      "\u001b[K     |██████████████████████▏         | 522kB 1.4MB/s eta 0:00:01\r",
      "\u001b[K     |██████████████████████▋         | 532kB 1.4MB/s eta 0:00:01\r",
      "\u001b[K     |███████████████████████         | 542kB 1.4MB/s eta 0:00:01\r",
      "\u001b[K     |███████████████████████▌        | 552kB 1.4MB/s eta 0:00:01\r",
      "\u001b[K     |████████████████████████        | 563kB 1.4MB/s eta 0:00:01\r",
      "\u001b[K     |████████████████████████▍       | 573kB 1.4MB/s eta 0:00:01\r",
      "\u001b[K     |████████████████████████▉       | 583kB 1.4MB/s eta 0:00:01\r",
      "\u001b[K     |█████████████████████████▏      | 593kB 1.4MB/s eta 0:00:01\r",
      "\u001b[K     |█████████████████████████▋      | 604kB 1.4MB/s eta 0:00:01\r",
      "\u001b[K     |██████████████████████████      | 614kB 1.4MB/s eta 0:00:01\r",
      "\u001b[K     |██████████████████████████▌     | 624kB 1.4MB/s eta 0:00:01\r",
      "\u001b[K     |███████████████████████████     | 634kB 1.4MB/s eta 0:00:01\r",
      "\u001b[K     |███████████████████████████▍    | 645kB 1.4MB/s eta 0:00:01\r",
      "\u001b[K     |███████████████████████████▉    | 655kB 1.4MB/s eta 0:00:01\r",
      "\u001b[K     |████████████████████████████▎   | 665kB 1.4MB/s eta 0:00:01\r",
      "\u001b[K     |████████████████████████████▊   | 675kB 1.4MB/s eta 0:00:01\r",
      "\u001b[K     |█████████████████████████████▏  | 686kB 1.4MB/s eta 0:00:01\r",
      "\u001b[K     |█████████████████████████████▋  | 696kB 1.4MB/s eta 0:00:01\r",
      "\u001b[K     |██████████████████████████████  | 706kB 1.4MB/s eta 0:00:01\r",
      "\u001b[K     |██████████████████████████████▍ | 716kB 1.4MB/s eta 0:00:01\r",
      "\u001b[K     |██████████████████████████████▉ | 727kB 1.4MB/s eta 0:00:01\r",
      "\u001b[K     |███████████████████████████████▎| 737kB 1.4MB/s eta 0:00:01\r",
      "\u001b[K     |███████████████████████████████▊| 747kB 1.4MB/s eta 0:00:01\r",
      "\u001b[K     |████████████████████████████████| 757kB 1.4MB/s \n",
      "\u001b[?25h  Building wheel for xgboost (setup.py) ... \u001b[?25l\u001b[?25hdone\n"
     ]
    }
   ],
   "source": [
    "!pip install -q xgboost==0.4a30\n",
    "import xgboost"
   ]
  },
  {
   "cell_type": "code",
   "execution_count": 1,
   "metadata": {
    "colab": {
     "base_uri": "https://localhost:8080/",
     "height": 34
    },
    "colab_type": "code",
    "executionInfo": {
     "elapsed": 3286,
     "status": "ok",
     "timestamp": 1565356005144,
     "user": {
      "displayName": "Jody Thai",
      "photoUrl": "https://lh3.googleusercontent.com/-LpV78qt_WbM/AAAAAAAAAAI/AAAAAAAAAJU/cSDgYdKtTQs/s64/photo.jpg",
      "userId": "15371680425307616747"
     },
     "user_tz": -420
    },
    "id": "beF4ybvPfLxD",
    "outputId": "2d6de689-042b-49c6-c46b-ea5e2d10a83a"
   },
   "outputs": [
    {
     "data": {
      "text/plain": [
       "'/device:GPU:0'"
      ]
     },
     "execution_count": 1,
     "metadata": {
      "tags": []
     },
     "output_type": "execute_result"
    }
   ],
   "source": [
    "import tensorflow as tf\n",
    "tf.test.gpu_device_name()"
   ]
  },
  {
   "cell_type": "code",
   "execution_count": null,
   "metadata": {
    "colab": {},
    "colab_type": "code",
    "id": "3kUPYlj-z_La"
   },
   "outputs": [],
   "source": [
    "# Import necessary libraries\n",
    "import numpy as np\n",
    "import pandas as pd\n",
    "import seaborn as sns\n",
    "import matplotlib.pyplot as plt\n",
    "import warnings\n",
    "warnings.filterwarnings('ignore')"
   ]
  },
  {
   "cell_type": "code",
   "execution_count": 9,
   "metadata": {
    "colab": {
     "base_uri": "https://localhost:8080/",
     "height": 125
    },
    "colab_type": "code",
    "executionInfo": {
     "elapsed": 23233,
     "status": "ok",
     "timestamp": 1565356183881,
     "user": {
      "displayName": "Jody Thai",
      "photoUrl": "https://lh3.googleusercontent.com/-LpV78qt_WbM/AAAAAAAAAAI/AAAAAAAAAJU/cSDgYdKtTQs/s64/photo.jpg",
      "userId": "15371680425307616747"
     },
     "user_tz": -420
    },
    "id": "eJ2KhhuM1VJC",
    "outputId": "463b7150-1835-4515-8055-5959786d9f2e"
   },
   "outputs": [
    {
     "name": "stdout",
     "output_type": "stream",
     "text": [
      "Go to this URL in a browser: https://accounts.google.com/o/oauth2/auth?client_id=947318989803-6bn6qk8qdgf4n4g3pfee6491hc0brc4i.apps.googleusercontent.com&redirect_uri=urn%3Aietf%3Awg%3Aoauth%3A2.0%3Aoob&scope=email%20https%3A%2F%2Fwww.googleapis.com%2Fauth%2Fdocs.test%20https%3A%2F%2Fwww.googleapis.com%2Fauth%2Fdrive%20https%3A%2F%2Fwww.googleapis.com%2Fauth%2Fdrive.photos.readonly%20https%3A%2F%2Fwww.googleapis.com%2Fauth%2Fpeopleapi.readonly&response_type=code\n",
      "\n",
      "Enter your authorization code:\n",
      "··········\n",
      "Mounted at /content/gdrive\n"
     ]
    }
   ],
   "source": [
    "from google.colab import drive\n",
    "drive.mount('/content/gdrive')"
   ]
  },
  {
   "cell_type": "code",
   "execution_count": 0,
   "metadata": {
    "colab": {},
    "colab_type": "code",
    "id": "DBA5Jcfxz_Lf"
   },
   "outputs": [],
   "source": [
    "# Load dataset\n",
    "data = pd.read_csv('/content/gdrive/My Drive/PROJECTS/CoderSchool_Fansipan/github_repo/fansipan_imdb_review/data/movie_review.csv', sep='\\t', encoding='latin-1')"
   ]
  },
  {
   "cell_type": "code",
   "execution_count": 11,
   "metadata": {
    "colab": {
     "base_uri": "https://localhost:8080/",
     "height": 197
    },
    "colab_type": "code",
    "executionInfo": {
     "elapsed": 693,
     "status": "ok",
     "timestamp": 1565356193190,
     "user": {
      "displayName": "Jody Thai",
      "photoUrl": "https://lh3.googleusercontent.com/-LpV78qt_WbM/AAAAAAAAAAI/AAAAAAAAAJU/cSDgYdKtTQs/s64/photo.jpg",
      "userId": "15371680425307616747"
     },
     "user_tz": -420
    },
    "id": "5msDIp8S2dMo",
    "outputId": "725a4593-233f-4e1a-9d0a-7efce94e738c"
   },
   "outputs": [
    {
     "data": {
      "text/html": [
       "<div>\n",
       "<style scoped>\n",
       "    .dataframe tbody tr th:only-of-type {\n",
       "        vertical-align: middle;\n",
       "    }\n",
       "\n",
       "    .dataframe tbody tr th {\n",
       "        vertical-align: top;\n",
       "    }\n",
       "\n",
       "    .dataframe thead th {\n",
       "        text-align: right;\n",
       "    }\n",
       "</style>\n",
       "<table border=\"1\" class=\"dataframe\">\n",
       "  <thead>\n",
       "    <tr style=\"text-align: right;\">\n",
       "      <th></th>\n",
       "      <th>id</th>\n",
       "      <th>review</th>\n",
       "      <th>sentiment</th>\n",
       "    </tr>\n",
       "  </thead>\n",
       "  <tbody>\n",
       "    <tr>\n",
       "      <th>0</th>\n",
       "      <td>5814_8</td>\n",
       "      <td>With all this stuff going down at the moment w...</td>\n",
       "      <td>1</td>\n",
       "    </tr>\n",
       "    <tr>\n",
       "      <th>1</th>\n",
       "      <td>2381_9</td>\n",
       "      <td>\\The Classic War of the Worlds\\\" by Timothy Hi...</td>\n",
       "      <td>1</td>\n",
       "    </tr>\n",
       "    <tr>\n",
       "      <th>2</th>\n",
       "      <td>7759_3</td>\n",
       "      <td>The film starts with a manager (Nicholas Bell)...</td>\n",
       "      <td>0</td>\n",
       "    </tr>\n",
       "    <tr>\n",
       "      <th>3</th>\n",
       "      <td>3630_4</td>\n",
       "      <td>It must be assumed that those who praised this...</td>\n",
       "      <td>0</td>\n",
       "    </tr>\n",
       "    <tr>\n",
       "      <th>4</th>\n",
       "      <td>9495_8</td>\n",
       "      <td>Superbly trashy and wondrously unpretentious 8...</td>\n",
       "      <td>1</td>\n",
       "    </tr>\n",
       "  </tbody>\n",
       "</table>\n",
       "</div>"
      ],
      "text/plain": [
       "       id                                             review  sentiment\n",
       "0  5814_8  With all this stuff going down at the moment w...          1\n",
       "1  2381_9  \\The Classic War of the Worlds\\\" by Timothy Hi...          1\n",
       "2  7759_3  The film starts with a manager (Nicholas Bell)...          0\n",
       "3  3630_4  It must be assumed that those who praised this...          0\n",
       "4  9495_8  Superbly trashy and wondrously unpretentious 8...          1"
      ]
     },
     "execution_count": 11,
     "metadata": {
      "tags": []
     },
     "output_type": "execute_result"
    }
   ],
   "source": [
    "data.head()"
   ]
  },
  {
   "cell_type": "code",
   "execution_count": 12,
   "metadata": {
    "colab": {
     "base_uri": "https://localhost:8080/",
     "height": 52
    },
    "colab_type": "code",
    "executionInfo": {
     "elapsed": 1364,
     "status": "ok",
     "timestamp": 1565356196797,
     "user": {
      "displayName": "Jody Thai",
      "photoUrl": "https://lh3.googleusercontent.com/-LpV78qt_WbM/AAAAAAAAAAI/AAAAAAAAAJU/cSDgYdKtTQs/s64/photo.jpg",
      "userId": "15371680425307616747"
     },
     "user_tz": -420
    },
    "id": "0y2RX6sc2jXB",
    "outputId": "562924d8-bf5c-4cc7-afaa-5be349359ea0"
   },
   "outputs": [
    {
     "name": "stdout",
     "output_type": "stream",
     "text": [
      "[nltk_data] Downloading package stopwords to /root/nltk_data...\n",
      "[nltk_data]   Unzipping corpora/stopwords.zip.\n"
     ]
    }
   ],
   "source": [
    "# Get the list of stop words in English\n",
    "from nltk.corpus import stopwords\n",
    "import nltk\n",
    "\n",
    "nltk.download('stopwords')\n",
    "\n",
    "stop = stopwords.words('english')"
   ]
  },
  {
   "cell_type": "code",
   "execution_count": 0,
   "metadata": {
    "colab": {},
    "colab_type": "code",
    "id": "jesUDobJ2r-D"
   },
   "outputs": [],
   "source": [
    "# Remove special characters, html tags and \"trash\"\n",
    "import re\n",
    "\n",
    "def preprocessor(text):\n",
    "  # remove HTML markup\n",
    "  text = re.sub('<[^>]*>', '', text)\n",
    "  \n",
    "  # Save emoticons for later appending\n",
    "  emoticons = re.findall('(?::|;|=)(?:-)?(?:\\)|\\(|D|P)', text)\n",
    "  \n",
    "  # Remove any non-word character and append the emoticons,\n",
    "  # removing the nose character for standardization. Convert to lower case\n",
    "  text = (re.sub('[\\W]+', ' ', text.lower()) + ' ' + ' '.join(emoticons).replace('-', ''))\n",
    "  \n",
    "  return text"
   ]
  },
  {
   "cell_type": "code",
   "execution_count": 0,
   "metadata": {
    "colab": {},
    "colab_type": "code",
    "id": "c6SRmcGS2vM-"
   },
   "outputs": [],
   "source": [
    "# Tokenizer and Stemming\n",
    "# tokenizer: to break down our twits in individual words\n",
    "# stemming: reducing a word to its root\n",
    "\n",
    "from nltk.stem import PorterStemmer\n",
    "\n",
    "porter = PorterStemmer()\n",
    "\n",
    "def tokenizer_porter(text):\n",
    "  return [porter.stem(word) for word in text.split()]"
   ]
  },
  {
   "cell_type": "markdown",
   "metadata": {
    "colab_type": "text",
    "id": "R5wtXQuK3R-e"
   },
   "source": [
    "## Load Trained Models"
   ]
  },
  {
   "cell_type": "code",
   "execution_count": 0,
   "metadata": {
    "colab": {},
    "colab_type": "code",
    "id": "2Ok4G_Za10aP"
   },
   "outputs": [],
   "source": [
    "import pickle\n",
    "import os"
   ]
  },
  {
   "cell_type": "code",
   "execution_count": 0,
   "metadata": {
    "colab": {},
    "colab_type": "code",
    "id": "XEPc4dSM1KXb"
   },
   "outputs": [],
   "source": [
    "svm = pickle.load(open('/content/gdrive/My Drive/PROJECTS/CoderSchool_Fansipan/github_repo/fansipan_imdb_review/models/Model_SVM_default_imdb.pkl', 'rb'))"
   ]
  },
  {
   "cell_type": "code",
   "execution_count": 0,
   "metadata": {
    "colab": {},
    "colab_type": "code",
    "id": "-jyNlRkxgQ60"
   },
   "outputs": [],
   "source": [
    "X = data['review']\n",
    "y = data['sentiment']"
   ]
  },
  {
   "cell_type": "code",
   "execution_count": 0,
   "metadata": {
    "colab": {},
    "colab_type": "code",
    "id": "uLbLEhJNgLPN"
   },
   "outputs": [],
   "source": [
    "from sklearn.model_selection import train_test_split\n",
    "from sklearn.feature_extraction.text import TfidfVectorizer\n",
    "\n",
    "tfidf = TfidfVectorizer(stop_words=stop, tokenizer=tokenizer_porter, preprocessor=preprocessor)\n",
    "X_tfidf = tfidf.fit_transform(X)\n",
    "\n",
    "X_train_tfidf, X_test_tfidf, y_train_tfidf, y_test_tfidf = train_test_split(X_tfidf, y, test_size=0.3, random_state=101)"
   ]
  },
  {
   "cell_type": "code",
   "execution_count": 0,
   "metadata": {
    "colab": {},
    "colab_type": "code",
    "id": "C0xtZgyU2CtH"
   },
   "outputs": [],
   "source": [
    "from sklearn.metrics import accuracy_score, classification_report, confusion_matrix"
   ]
  },
  {
   "cell_type": "code",
   "execution_count": 0,
   "metadata": {
    "colab": {},
    "colab_type": "code",
    "id": "jHEoHmNp2Qgx"
   },
   "outputs": [],
   "source": [
    "svm_preds = svm.predict(X_test_tfidf)\n",
    "svm_cm = confusion_matrix(y_test_tfidf, svm_preds)\n",
    "svm_report = classification_report(y_test_tfidf, svm_preds)"
   ]
  },
  {
   "cell_type": "code",
   "execution_count": 24,
   "metadata": {
    "colab": {
     "base_uri": "https://localhost:8080/",
     "height": 212
    },
    "colab_type": "code",
    "executionInfo": {
     "elapsed": 754,
     "status": "ok",
     "timestamp": 1565356445306,
     "user": {
      "displayName": "Jody Thai",
      "photoUrl": "https://lh3.googleusercontent.com/-LpV78qt_WbM/AAAAAAAAAAI/AAAAAAAAAJU/cSDgYdKtTQs/s64/photo.jpg",
      "userId": "15371680425307616747"
     },
     "user_tz": -420
    },
    "id": "MDQT7YTh2ILG",
    "outputId": "aa3a7700-74c2-4318-febb-47c310a64dae"
   },
   "outputs": [
    {
     "name": "stdout",
     "output_type": "stream",
     "text": [
      "[[2993  415]\n",
      " [ 335 3007]]\n",
      "              precision    recall  f1-score   support\n",
      "\n",
      "           0       0.90      0.88      0.89      3408\n",
      "           1       0.88      0.90      0.89      3342\n",
      "\n",
      "    accuracy                           0.89      6750\n",
      "   macro avg       0.89      0.89      0.89      6750\n",
      "weighted avg       0.89      0.89      0.89      6750\n",
      "\n"
     ]
    }
   ],
   "source": [
    "print(svm_cm)\n",
    "print(svm_report)"
   ]
  },
  {
   "cell_type": "markdown",
   "metadata": {
    "colab_type": "text",
    "id": "nkFNqr41g4hU"
   },
   "source": [
    "### Data Resampling"
   ]
  },
  {
   "cell_type": "code",
   "execution_count": 0,
   "metadata": {
    "colab": {},
    "colab_type": "code",
    "id": "kf8jWRd0g0su"
   },
   "outputs": [],
   "source": [
    "n = 10000\n",
    "\n",
    "X_train_tfidf_new = X_train_tfidf[:n, :n]\n",
    "X_test_tfidf_new = X_test_tfidf[:n, :n]\n",
    "\n",
    "y_train_tfidf_new = y_train_tfidf[:n]\n",
    "y_test_tfidf_new = y_test_tfidf[:n]"
   ]
  },
  {
   "cell_type": "code",
   "execution_count": 0,
   "metadata": {
    "colab": {},
    "colab_type": "code",
    "id": "bx1NbN8H6hJH"
   },
   "outputs": [],
   "source": [
    "from sklearn.model_selection import cross_val_score\n",
    "from sklearn.svm import SVC\n",
    "\n",
    "val_rate = []\n",
    "c_range =  range(1,100,10)\n",
    "for this_c in c_range:\n",
    "    svm = SVC(kernel='linear',C=this_c)\n",
    "    val_score = 1-cross_val_score(svm, X_train_tfidf, y_train_tfidf, cv=5).mean()\n",
    "    val_rate.append(val_score)\n",
    "\n",
    "plt.figure(figsize=(15,7))\n",
    "plt.plot(c_range, val_rate, color='orange', linestyle='dashed', marker='o',\n",
    "         markerfacecolor='black', markersize=5, label='Validation Error')\n",
    "\n",
    "plt.xticks(np.arange(c_range.start, c_range.stop, c_range.step), rotation=60)\n",
    "plt.grid()\n",
    "plt.legend()\n",
    "plt.title('Validation Error vs. C Value')\n",
    "plt.xlabel('C')\n",
    "plt.ylabel('Validation Error')\n",
    "plt.show()"
   ]
  },
  {
   "cell_type": "code",
   "execution_count": 0,
   "metadata": {
    "colab": {},
    "colab_type": "code",
    "id": "2Uo0XjJf6-Vp"
   },
   "outputs": [],
   "source": []
  }
 ],
 "metadata": {
  "accelerator": "GPU",
  "colab": {
   "name": "imdb_review_2.ipynb",
   "provenance": [],
   "version": "0.3.2"
  },
  "kernelspec": {
   "display_name": "Python 3",
   "language": "python",
   "name": "python3"
  },
  "language_info": {
   "codemirror_mode": {
    "name": "ipython",
    "version": 3
   },
   "file_extension": ".py",
   "mimetype": "text/x-python",
   "name": "python",
   "nbconvert_exporter": "python",
   "pygments_lexer": "ipython3",
   "version": "3.7.3"
  }
 },
 "nbformat": 4,
 "nbformat_minor": 1
}
