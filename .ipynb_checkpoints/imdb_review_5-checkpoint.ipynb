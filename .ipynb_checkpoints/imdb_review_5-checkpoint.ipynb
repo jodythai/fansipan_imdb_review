{
 "cells": [
  {
   "cell_type": "markdown",
   "metadata": {},
   "source": [
    "[Bag of Words Meets Bags of Popcorn](https://www.kaggle.com/c/word2vec-nlp-tutorial/data)\n",
    "======\n",
    "\n",
    "## Data Set\n",
    "\n",
    "The labeled data set consists of 50,000 IMDB movie reviews, specially selected for sentiment analysis. The sentiment of reviews is binary, meaning the IMDB rating < 5 results in a sentiment score of 0, and rating >=7 have a sentiment score of 1. No individual movie has more than 30 reviews. The 25,000 review labeled training set does not include any of the same movies as the 25,000 review test set. In addition, there are another 50,000 IMDB reviews provided without any rating labels.\n",
    "\n",
    "## File descriptions\n",
    "\n",
    "labeledTrainData - The labeled training set. The file is tab-delimited and has a header row followed by 25,000 rows containing an id, sentiment, and text for each review.\n",
    "## Data fields\n",
    "\n",
    "* id - Unique ID of each review\n",
    "* sentiment - Sentiment of the review; 1 for positive reviews and 0 for negative reviews\n",
    "* review - Text of the review\n",
    "\n",
    "## Objective\n",
    "Objective of this dataset is base on **review** we predict **sentiment** (positive or negative) so X is **review** column and y is **sentiment** column"
   ]
  },
  {
   "cell_type": "markdown",
   "metadata": {},
   "source": [
    "## 1. Load Dataset and EDA"
   ]
  },
  {
   "cell_type": "code",
   "execution_count": 147,
   "metadata": {},
   "outputs": [],
   "source": [
    "# Import necessary libraries\n",
    "import time\n",
    "import numpy as np\n",
    "import pandas as pd\n",
    "import seaborn as sns\n",
    "import matplotlib.pyplot as plt\n",
    "import warnings\n",
    "warnings.filterwarnings('ignore')"
   ]
  },
  {
   "cell_type": "code",
   "execution_count": 134,
   "metadata": {},
   "outputs": [],
   "source": [
    "# Load dataset\n",
    "data = pd.read_csv('./data/movie_review.csv', sep='\\t', encoding='latin-1')"
   ]
  },
  {
   "cell_type": "code",
   "execution_count": 135,
   "metadata": {},
   "outputs": [
    {
     "data": {
      "text/html": [
       "<div>\n",
       "<style scoped>\n",
       "    .dataframe tbody tr th:only-of-type {\n",
       "        vertical-align: middle;\n",
       "    }\n",
       "\n",
       "    .dataframe tbody tr th {\n",
       "        vertical-align: top;\n",
       "    }\n",
       "\n",
       "    .dataframe thead th {\n",
       "        text-align: right;\n",
       "    }\n",
       "</style>\n",
       "<table border=\"1\" class=\"dataframe\">\n",
       "  <thead>\n",
       "    <tr style=\"text-align: right;\">\n",
       "      <th></th>\n",
       "      <th>id</th>\n",
       "      <th>review</th>\n",
       "      <th>sentiment</th>\n",
       "    </tr>\n",
       "  </thead>\n",
       "  <tbody>\n",
       "    <tr>\n",
       "      <th>0</th>\n",
       "      <td>5814_8</td>\n",
       "      <td>With all this stuff going down at the moment w...</td>\n",
       "      <td>1</td>\n",
       "    </tr>\n",
       "    <tr>\n",
       "      <th>1</th>\n",
       "      <td>2381_9</td>\n",
       "      <td>\\The Classic War of the Worlds\\\" by Timothy Hi...</td>\n",
       "      <td>1</td>\n",
       "    </tr>\n",
       "    <tr>\n",
       "      <th>2</th>\n",
       "      <td>7759_3</td>\n",
       "      <td>The film starts with a manager (Nicholas Bell)...</td>\n",
       "      <td>0</td>\n",
       "    </tr>\n",
       "    <tr>\n",
       "      <th>3</th>\n",
       "      <td>3630_4</td>\n",
       "      <td>It must be assumed that those who praised this...</td>\n",
       "      <td>0</td>\n",
       "    </tr>\n",
       "    <tr>\n",
       "      <th>4</th>\n",
       "      <td>9495_8</td>\n",
       "      <td>Superbly trashy and wondrously unpretentious 8...</td>\n",
       "      <td>1</td>\n",
       "    </tr>\n",
       "  </tbody>\n",
       "</table>\n",
       "</div>"
      ],
      "text/plain": [
       "       id                                             review  sentiment\n",
       "0  5814_8  With all this stuff going down at the moment w...          1\n",
       "1  2381_9  \\The Classic War of the Worlds\\\" by Timothy Hi...          1\n",
       "2  7759_3  The film starts with a manager (Nicholas Bell)...          0\n",
       "3  3630_4  It must be assumed that those who praised this...          0\n",
       "4  9495_8  Superbly trashy and wondrously unpretentious 8...          1"
      ]
     },
     "execution_count": 135,
     "metadata": {},
     "output_type": "execute_result"
    }
   ],
   "source": [
    "data.head()"
   ]
  },
  {
   "cell_type": "code",
   "execution_count": 136,
   "metadata": {},
   "outputs": [
    {
     "name": "stdout",
     "output_type": "stream",
     "text": [
      "<class 'pandas.core.frame.DataFrame'>\n",
      "RangeIndex: 22500 entries, 0 to 22499\n",
      "Data columns (total 3 columns):\n",
      "id           22500 non-null object\n",
      "review       22500 non-null object\n",
      "sentiment    22500 non-null int64\n",
      "dtypes: int64(1), object(2)\n",
      "memory usage: 527.5+ KB\n"
     ]
    }
   ],
   "source": [
    "data.info()"
   ]
  },
  {
   "cell_type": "code",
   "execution_count": 137,
   "metadata": {},
   "outputs": [
    {
     "data": {
      "text/plain": [
       "id           0\n",
       "review       0\n",
       "sentiment    0\n",
       "dtype: int64"
      ]
     },
     "execution_count": 137,
     "metadata": {},
     "output_type": "execute_result"
    }
   ],
   "source": [
    "data.isnull().sum()"
   ]
  },
  {
   "cell_type": "code",
   "execution_count": 138,
   "metadata": {},
   "outputs": [
    {
     "data": {
      "text/plain": [
       "id           11278\n",
       "review       11278\n",
       "sentiment    11278\n",
       "dtype: int64"
      ]
     },
     "execution_count": 138,
     "metadata": {},
     "output_type": "execute_result"
    }
   ],
   "source": [
    "# how many possitive and negative labels?\n",
    "data[data['sentiment'] == 1].count()"
   ]
  },
  {
   "cell_type": "markdown",
   "metadata": {},
   "source": [
    "#### Classes distribution in the dataset"
   ]
  },
  {
   "cell_type": "code",
   "execution_count": 139,
   "metadata": {},
   "outputs": [
    {
     "data": {
      "image/png": "[encoded data removed]",
      "text/plain": [
       "<Figure size 432x288 with 1 Axes>"
      ]
     },
     "metadata": {
      "needs_background": "light"
     },
     "output_type": "display_data"
    },
    {
     "name": "stdout",
     "output_type": "stream",
     "text": [
      "Positive: 11278 - Negative: 11222\n"
     ]
    }
   ],
   "source": [
    "# how many possitive and negative labels?\n",
    "plt.hist(data[data.sentiment == 1].sentiment,\n",
    "         bins=2, color='green', label='Positive')\n",
    "plt.hist(data[data.sentiment == 0].sentiment,\n",
    "         bins=2, color='blue', label='Negative')\n",
    "plt.title('Classes distribution in the train data')\n",
    "plt.xticks([data[data.sentiment == 1].sentiment.count(), data[data.sentiment == 0].sentiment.count()])\n",
    "plt.xlim(-0.5, 2)\n",
    "plt.legend()\n",
    "plt.show()\n",
    "print('Positive: {} - Negative: {}'.format(data[data.sentiment == 1].sentiment.count(), data[data.sentiment == 0].sentiment.count()))"
   ]
  },
  {
   "cell_type": "code",
   "execution_count": null,
   "metadata": {},
   "outputs": [],
   "source": []
  },
  {
   "cell_type": "markdown",
   "metadata": {},
   "source": [
    "## 2. Preprocessing"
   ]
  },
  {
   "cell_type": "code",
   "execution_count": 140,
   "metadata": {},
   "outputs": [],
   "source": [
    "# Get the list of stop words in English\n",
    "from nltk.corpus import stopwords\n",
    "stop = stopwords.words('english')"
   ]
  },
  {
   "cell_type": "code",
   "execution_count": 141,
   "metadata": {},
   "outputs": [],
   "source": [
    "# Remove special characters, html tags and \"trash\"\n",
    "import re\n",
    "\n",
    "def preprocessor(text):\n",
    "  # remove HTML markup\n",
    "  text = re.sub('<[^>]*>', '', text)\n",
    "  \n",
    "  # Save emoticons for later appending\n",
    "  emoticons = re.findall('(?::|;|=)(?:-)?(?:\\)|\\(|D|P)', text)\n",
    "  \n",
    "  # Remove any non-word character and append the emoticons,\n",
    "  # removing the nose character for standardization. Convert to lower case\n",
    "  text = (re.sub('[\\W]+', ' ', text.lower()) + ' ' + ' '.join(emoticons).replace('-', ''))\n",
    "  \n",
    "  return text"
   ]
  },
  {
   "cell_type": "code",
   "execution_count": 142,
   "metadata": {},
   "outputs": [
    {
     "name": "stdout",
     "output_type": "stream",
     "text": [
      "yeah d i love loving loved loovveee it so much blah  :D =)\n"
     ]
    }
   ],
   "source": [
    "# Test\n",
    "string = 'Yeah :D I love loving loved loovveee it so much =)) !@#% Blah #()@...,<,<>'\n",
    "string = preprocessor(string)\n",
    "print(string)"
   ]
  },
  {
   "cell_type": "code",
   "execution_count": 143,
   "metadata": {},
   "outputs": [],
   "source": [
    "# Tokenizer and Stemming\n",
    "# tokenizer: to break down our twits in individual words\n",
    "# stemming: reducing a word to its root\n",
    "\n",
    "from nltk.stem import PorterStemmer\n",
    "\n",
    "porter = PorterStemmer()\n",
    "\n",
    "def tokenizer_porter(text):\n",
    "  return [porter.stem(word) for word in text.split()]"
   ]
  },
  {
   "cell_type": "code",
   "execution_count": 144,
   "metadata": {},
   "outputs": [
    {
     "name": "stdout",
     "output_type": "stream",
     "text": [
      "['yeah', 'd', 'i', 'love', 'love', 'love', 'loovvee', 'it', 'so', 'much', 'blah', ':D', '=)']\n"
     ]
    }
   ],
   "source": [
    "# Test\n",
    "string_token = tokenizer_porter(string)\n",
    "print(string_token)"
   ]
  },
  {
   "cell_type": "markdown",
   "metadata": {},
   "source": [
    "### Train - Test Splitting"
   ]
  },
  {
   "cell_type": "code",
   "execution_count": 145,
   "metadata": {},
   "outputs": [],
   "source": [
    "X = data['review']\n",
    "y = data['sentiment']"
   ]
  },
  {
   "cell_type": "code",
   "execution_count": 149,
   "metadata": {},
   "outputs": [
    {
     "name": "stdout",
     "output_type": "stream",
     "text": [
      "Vectorizing time: 94.438376s; Train-Test Splitting time: 0.014005s\n"
     ]
    }
   ],
   "source": [
    "from sklearn.model_selection import train_test_split\n",
    "from sklearn.feature_extraction.text import TfidfVectorizer\n",
    "\n",
    "t0 = time.time()\n",
    "tfidf = TfidfVectorizer(stop_words=stop, tokenizer=tokenizer_porter, preprocessor=preprocessor)\n",
    "X_tfidf = tfidf.fit_transform(X)\n",
    "t1 = time.time()\n",
    "\n",
    "X_train_tfidf, X_test_tfidf, y_train_tfidf, y_test_tfidf = train_test_split(X_tfidf, y, test_size=0.3, random_state=101)\n",
    "t2 = time.time()\n",
    "\n",
    "time_vectorizing = t1-t0\n",
    "time_splitting = t2-t1\n",
    "\n",
    "print(\"Vectorizing time: %fs; Train-Test Splitting time: %fs\" % (time_vectorizing, time_splitting))"
   ]
  },
  {
   "cell_type": "markdown",
   "metadata": {},
   "source": [
    "## 3. Create, Train and Evaluate Model"
   ]
  },
  {
   "cell_type": "code",
   "execution_count": 150,
   "metadata": {},
   "outputs": [],
   "source": [
    "from sklearn.metrics import accuracy_score, classification_report, confusion_matrix"
   ]
  },
  {
   "cell_type": "markdown",
   "metadata": {},
   "source": [
    "### 3.1 Logistic Regression Classifier"
   ]
  },
  {
   "cell_type": "code",
   "execution_count": 151,
   "metadata": {},
   "outputs": [
    {
     "name": "stdout",
     "output_type": "stream",
     "text": [
      "Training time: 0.335032s; Prediction time: 0.002291s\n"
     ]
    }
   ],
   "source": [
    "from sklearn.linear_model import LogisticRegression\n",
    "lr = LogisticRegression()\n",
    "t0 = time.time()\n",
    "\n",
    "lr.fit(X_train_tfidf, y_train_tfidf)\n",
    "t1 = time.time()\n",
    "\n",
    "lr_preds = lr.predict(X_test_tfidf)\n",
    "t2 = time.time()\n",
    "\n",
    "time_linear_train = t1-t0\n",
    "time_linear_predict = t2-t1\n",
    "\n",
    "# results\n",
    "print(\"Training time: %fs; Prediction time: %fs\" % (time_linear_train, time_linear_predict))\n",
    "\n",
    "lr_cm = confusion_matrix(y_test_tfidf, lr_preds)\n",
    "lr_report = classification_report(y_test_tfidf, lr_preds)"
   ]
  },
  {
   "cell_type": "code",
   "execution_count": 152,
   "metadata": {},
   "outputs": [
    {
     "name": "stdout",
     "output_type": "stream",
     "text": [
      "[[2950  458]\n",
      " [ 304 3038]]\n",
      "              precision    recall  f1-score   support\n",
      "\n",
      "           0       0.91      0.87      0.89      3408\n",
      "           1       0.87      0.91      0.89      3342\n",
      "\n",
      "    accuracy                           0.89      6750\n",
      "   macro avg       0.89      0.89      0.89      6750\n",
      "weighted avg       0.89      0.89      0.89      6750\n",
      "\n"
     ]
    }
   ],
   "source": [
    "print(lr_cm)\n",
    "print(lr_report)"
   ]
  },
  {
   "cell_type": "markdown",
   "metadata": {},
   "source": [
    "### 3.2 Decision Tree Classifier"
   ]
  },
  {
   "cell_type": "code",
   "execution_count": 153,
   "metadata": {},
   "outputs": [
    {
     "name": "stdout",
     "output_type": "stream",
     "text": [
      "Training time: 17.160252s; Prediction time: 0.041106s\n"
     ]
    }
   ],
   "source": [
    "from sklearn.tree import DecisionTreeClassifier\n",
    "dtc = DecisionTreeClassifier()\n",
    "t0 = time.time()\n",
    "dtc.fit(X_train_tfidf, y_train_tfidf)\n",
    "t1 = time.time()\n",
    "\n",
    "dtc_preds = dtc.predict(X_test_tfidf)\n",
    "t2 = time.time()\n",
    "\n",
    "time_dtc_train = t1-t0\n",
    "time_dtc_predict = t2-t1\n",
    "\n",
    "# results\n",
    "print(\"Training time: %fs; Prediction time: %fs\" % (time_dtc_train, time_dtc_predict))\n",
    "\n",
    "dtc_cm = confusion_matrix(y_test_tfidf, dtc_preds)\n",
    "dtc_report = classification_report(y_test_tfidf, dtc_preds)"
   ]
  },
  {
   "cell_type": "code",
   "execution_count": 154,
   "metadata": {},
   "outputs": [
    {
     "name": "stdout",
     "output_type": "stream",
     "text": [
      "[[2414  994]\n",
      " [ 966 2376]]\n",
      "              precision    recall  f1-score   support\n",
      "\n",
      "           0       0.71      0.71      0.71      3408\n",
      "           1       0.71      0.71      0.71      3342\n",
      "\n",
      "    accuracy                           0.71      6750\n",
      "   macro avg       0.71      0.71      0.71      6750\n",
      "weighted avg       0.71      0.71      0.71      6750\n",
      "\n"
     ]
    }
   ],
   "source": [
    "print(dtc_cm)\n",
    "print(dtc_report)"
   ]
  },
  {
   "cell_type": "markdown",
   "metadata": {},
   "source": [
    "### 3.3 Random Forest Classifier"
   ]
  },
  {
   "cell_type": "code",
   "execution_count": 155,
   "metadata": {},
   "outputs": [
    {
     "name": "stdout",
     "output_type": "stream",
     "text": [
      "Training time: 4.093008s; Prediction time: 0.074637s\n"
     ]
    }
   ],
   "source": [
    "from sklearn.ensemble import RandomForestClassifier\n",
    "rfc = RandomForestClassifier()\n",
    "\n",
    "t0 = time.time()\n",
    "rfc.fit(X_train_tfidf, y_train_tfidf)\n",
    "t1 = time.time()\n",
    "\n",
    "rfc_preds = rfc.predict(X_test_tfidf)\n",
    "t2 = time.time()\n",
    "\n",
    "time_rfc_train = t1-t0\n",
    "time_rfc_predict = t2-t1\n",
    "\n",
    "# results\n",
    "print(\"Training time: %fs; Prediction time: %fs\" % (time_rfc_train, time_rfc_predict))\n",
    "\n",
    "rfc_cm = confusion_matrix(y_test_tfidf, rfc_preds)\n",
    "rfc_report = classification_report(y_test_tfidf, rfc_preds)"
   ]
  },
  {
   "cell_type": "code",
   "execution_count": 156,
   "metadata": {},
   "outputs": [
    {
     "name": "stdout",
     "output_type": "stream",
     "text": [
      "[[2796  612]\n",
      " [1062 2280]]\n",
      "              precision    recall  f1-score   support\n",
      "\n",
      "           0       0.72      0.82      0.77      3408\n",
      "           1       0.79      0.68      0.73      3342\n",
      "\n",
      "    accuracy                           0.75      6750\n",
      "   macro avg       0.76      0.75      0.75      6750\n",
      "weighted avg       0.76      0.75      0.75      6750\n",
      "\n"
     ]
    }
   ],
   "source": [
    "print(rfc_cm)\n",
    "print(rfc_report)"
   ]
  },
  {
   "cell_type": "markdown",
   "metadata": {},
   "source": [
    "### 3.4 K-Neighbors Nearest Classifier"
   ]
  },
  {
   "cell_type": "code",
   "execution_count": 157,
   "metadata": {},
   "outputs": [
    {
     "name": "stdout",
     "output_type": "stream",
     "text": [
      "Training time: 0.016870s; Prediction time: 8.811915s\n"
     ]
    }
   ],
   "source": [
    "from sklearn.neighbors import KNeighborsClassifier\n",
    "knn = KNeighborsClassifier()\n",
    "\n",
    "t0 = time.time()\n",
    "knn.fit(X_train_tfidf, y_train_tfidf)\n",
    "t1 = time.time()\n",
    "\n",
    "knn_preds = knn.predict(X_test_tfidf)\n",
    "t2 = time.time()\n",
    "\n",
    "time_knn_train = t1-t0\n",
    "time_knn_predict = t2-t1\n",
    "\n",
    "# results\n",
    "print(\"Training time: %fs; Prediction time: %fs\" % (time_knn_train, time_knn_predict))\n",
    "\n",
    "knn_cm = confusion_matrix(y_test_tfidf, knn_preds)\n",
    "knn_report = classification_report(y_test_tfidf, knn_preds)"
   ]
  },
  {
   "cell_type": "code",
   "execution_count": 159,
   "metadata": {},
   "outputs": [
    {
     "name": "stdout",
     "output_type": "stream",
     "text": [
      "[[2493  915]\n",
      " [ 549 2793]]\n",
      "              precision    recall  f1-score   support\n",
      "\n",
      "           0       0.82      0.73      0.77      3408\n",
      "           1       0.75      0.84      0.79      3342\n",
      "\n",
      "    accuracy                           0.78      6750\n",
      "   macro avg       0.79      0.78      0.78      6750\n",
      "weighted avg       0.79      0.78      0.78      6750\n",
      "\n"
     ]
    }
   ],
   "source": [
    "print(knn_cm)\n",
    "print(knn_report)"
   ]
  },
  {
   "cell_type": "markdown",
   "metadata": {},
   "source": [
    "### 3.6 Support Vector Machine Classifier"
   ]
  },
  {
   "cell_type": "code",
   "execution_count": 158,
   "metadata": {},
   "outputs": [
    {
     "name": "stdout",
     "output_type": "stream",
     "text": [
      "Training time: 119.173184s; Prediction time: 34.252017s\n"
     ]
    }
   ],
   "source": [
    "from sklearn.svm import SVC\n",
    "svm = SVC(kernel='linear')\n",
    "\n",
    "t0 = time.time()\n",
    "svm.fit(X_train_tfidf, y_train_tfidf)\n",
    "t1 = time.time()\n",
    "\n",
    "svm_preds = svm.predict(X_test_tfidf)\n",
    "t2 = time.time()\n",
    "\n",
    "time_svm_train = t1-t0\n",
    "time_svm_predict = t2-t1\n",
    "\n",
    "# results\n",
    "print(\"Training time: %fs; Prediction time: %fs\" % (time_svm_train, time_svm_predict))\n",
    "\n",
    "svm_cm = confusion_matrix(y_test_tfidf, svm_preds)\n",
    "svm_report = classification_report(y_test_tfidf, svm_preds)"
   ]
  },
  {
   "cell_type": "code",
   "execution_count": 160,
   "metadata": {},
   "outputs": [
    {
     "name": "stdout",
     "output_type": "stream",
     "text": [
      "[[2993  415]\n",
      " [ 335 3007]]\n",
      "              precision    recall  f1-score   support\n",
      "\n",
      "           0       0.90      0.88      0.89      3408\n",
      "           1       0.88      0.90      0.89      3342\n",
      "\n",
      "    accuracy                           0.89      6750\n",
      "   macro avg       0.89      0.89      0.89      6750\n",
      "weighted avg       0.89      0.89      0.89      6750\n",
      "\n"
     ]
    }
   ],
   "source": [
    "print(svm_cm)\n",
    "print(svm_report)"
   ]
  },
  {
   "cell_type": "markdown",
   "metadata": {},
   "source": [
    "### 3.5. Export Trained Models"
   ]
  },
  {
   "cell_type": "code",
   "execution_count": 161,
   "metadata": {},
   "outputs": [],
   "source": [
    "# Using pickle to export our trained model\n",
    "import pickle\n",
    "import os\n",
    "\n",
    "pickle.dump(lr, open(os.path.join('models', 'Model_LR_default_imdb.pkl'), 'wb'), protocol=4)\n",
    "pickle.dump(dtc, open(os.path.join('models', 'Model_DTC_default_imdb.pkl'), 'wb'), protocol=4)\n",
    "pickle.dump(rfc, open(os.path.join('models', 'Model_RFC_default_imdb.pkl'), 'wb'), protocol=4)\n",
    "pickle.dump(knn, open(os.path.join('models', 'Model_KNN_default_imdb.pkl'), 'wb'), protocol=4)\n",
    "pickle.dump(svm, open(os.path.join('models', 'Model_SVM_default_imdb.pkl'), 'wb'), protocol=4)"
   ]
  },
  {
   "cell_type": "markdown",
   "metadata": {},
   "source": [
    "## 4. Performance Comparison"
   ]
  },
  {
   "cell_type": "code",
   "execution_count": 162,
   "metadata": {},
   "outputs": [
    {
     "data": {
      "image/png": "[encoded data removed]",
      "text/plain": [
       "<Figure size 1008x1440 with 11 Axes>"
      ]
     },
     "metadata": {
      "needs_background": "light"
     },
     "output_type": "display_data"
    }
   ],
   "source": [
    "fig, ax = plt.subplots(3,2, figsize=[14,20])\n",
    "\n",
    "sns.heatmap(lr_cm, ax=ax[0, 0], annot=True, fmt='d', square=True)\n",
    "ax[0, 0].set_title('LR')\n",
    "ax[0, 0].set_xlabel('Test')\n",
    "ax[0, 0].set_ylabel('Predictions')\n",
    "\n",
    "sns.heatmap(svm_cm, ax=ax[0, 1], annot=True, fmt='d', square=True)\n",
    "ax[0, 1].set_title('SVM')\n",
    "ax[0, 1].set_xlabel('Test')\n",
    "ax[0, 1].set_ylabel('Predictions')\n",
    "\n",
    "sns.heatmap(dtc_cm, ax=ax[1, 0], annot=True, fmt='d', square=True)\n",
    "ax[1, 0].set_title('DTC')\n",
    "ax[1, 0].set_xlabel('Test')\n",
    "ax[1, 0].set_ylabel('Predictions')\n",
    "\n",
    "sns.heatmap(rfc_cm, ax=ax[1, 1], annot=True, fmt='d', square=True)\n",
    "ax[1, 1].set_title('RFC')\n",
    "ax[1, 1].set_xlabel('Test')\n",
    "ax[1, 1].set_ylabel('Predictions')\n",
    "\n",
    "sns.heatmap(knn_cm, ax=ax[2, 0], annot=True, fmt='d', square=True)\n",
    "ax[2, 0].set_title('KNN')\n",
    "ax[2, 0].set_xlabel('Test')\n",
    "ax[2, 0].set_ylabel('Predictions')\n",
    "\n",
    "plt.show()"
   ]
  },
  {
   "cell_type": "markdown",
   "metadata": {},
   "source": [
    "### Conclusion: \n",
    "Base on the confusion matrix diagrams, we can see that Logistic Regression and SVM are the two most effecient models. Now we can tune these models for better performances."
   ]
  },
  {
   "cell_type": "code",
   "execution_count": 163,
   "metadata": {},
   "outputs": [
    {
     "data": {
      "image/png": "[encoded data removed]",
      "text/plain": [
       "<Figure size 1008x504 with 4 Axes>"
      ]
     },
     "metadata": {
      "needs_background": "light"
     },
     "output_type": "display_data"
    }
   ],
   "source": [
    "fig, ax = plt.subplots(1, 2, figsize=[14,7])\n",
    "\n",
    "sns.heatmap(lr_cm, ax=ax[0], annot=True, fmt='d', square=True)\n",
    "ax[0].set_title('LR')\n",
    "ax[0].set_xlabel('Test')\n",
    "ax[0].set_ylabel('Predictions')\n",
    "\n",
    "sns.heatmap(svm_cm, ax=ax[1], annot=True, fmt='d', square=True)\n",
    "ax[1].set_title('SVM')\n",
    "ax[1].set_xlabel('Test')\n",
    "ax[1].set_ylabel('Predictions')\n",
    "\n",
    "plt.show()"
   ]
  },
  {
   "cell_type": "markdown",
   "metadata": {},
   "source": [
    "# 5. Optimization"
   ]
  },
  {
   "cell_type": "code",
   "execution_count": 164,
   "metadata": {},
   "outputs": [],
   "source": [
    "# data.drop(columns='processed_review', inplace=True)\n",
    "data.insert(loc = 2, column=\"processed_review\", value=\"\")"
   ]
  },
  {
   "cell_type": "code",
   "execution_count": 165,
   "metadata": {},
   "outputs": [],
   "source": [
    "# data.drop(columns='processed_review_lemma', inplace=True)\n",
    "data.insert(loc = 2, column=\"processed_review_lemma\", value=\"\")"
   ]
  },
  {
   "cell_type": "markdown",
   "metadata": {},
   "source": [
    "### 5.1 Data Resampling"
   ]
  },
  {
   "cell_type": "code",
   "execution_count": 113,
   "metadata": {},
   "outputs": [],
   "source": [
    "# n = 5000\n",
    "\n",
    "# X_train_tfidf_new = X_train_tfidf[:n, :n]\n",
    "# X_test_tfidf_new = X_test_tfidf[:n, :n]\n",
    "\n",
    "# y_train_tfidf_new = y_train_tfidf[:n]\n",
    "# y_test_tfidf_new = y_test_tfidf[:n]"
   ]
  },
  {
   "cell_type": "code",
   "execution_count": 114,
   "metadata": {},
   "outputs": [
    {
     "data": {
      "text/plain": [
       "(5000,)"
      ]
     },
     "execution_count": 114,
     "metadata": {},
     "output_type": "execute_result"
    }
   ],
   "source": [
    "y_train_tfidf_new.shape"
   ]
  },
  {
   "cell_type": "markdown",
   "metadata": {},
   "source": [
    "### Find the best C value for our SVM model"
   ]
  },
  {
   "cell_type": "code",
   "execution_count": null,
   "metadata": {},
   "outputs": [],
   "source": [
    "# from sklearn.model_selection import cross_val_score\n",
    "\n",
    "# val_rate = []\n",
    "# c_range =  range(1,100,10)\n",
    "# for this_c in c_range:\n",
    "#     svm = SVC(kernel='linear',C=this_c)\n",
    "#     val_score = 1-cross_val_score(svm, X_train_tfidf, y_train_tfidf, cv=5).mean()\n",
    "#     val_rate.append(val_score)\n",
    "\n",
    "# plt.figure(figsize=(15,7))\n",
    "# plt.plot(c_range, val_rate, color='orange', linestyle='dashed', marker='o',\n",
    "#          markerfacecolor='black', markersize=5, label='Validation Error')\n",
    "\n",
    "# plt.xticks(np.arange(c_range.start, c_range.stop, c_range.step), rotation=60)\n",
    "# plt.grid()\n",
    "# plt.legend()\n",
    "# plt.title('Validation Error vs. C Value')\n",
    "# plt.xlabel('C')\n",
    "# plt.ylabel('Validation Error')\n",
    "# plt.show()"
   ]
  },
  {
   "cell_type": "code",
   "execution_count": 120,
   "metadata": {},
   "outputs": [],
   "source": [
    "# best_C = 6\n",
    "\n",
    "# svm_tuned_1 = SVC(kernel='linear', C=best_C)\n",
    "# svm_tuned_1.fit(X_train_tfidf, y_train_tfidf)\n",
    "# svm_tuned_1_preds = svm_tuned_1.predict(X_test_tfidf)\n",
    "# # svm_tuned_1.fit(X_train_tfidf_new, y_train_tfidf_new)\n",
    "# # svm_tuned_1_preds = svm_tuned_1.predict(X_test_tfidf_new)\n",
    "\n",
    "# svm_tuned_1_cm = confusion_matrix(y_test_tfidf, svm_tuned_1_preds)\n",
    "# svm_tuned_1_report = classification_report(y_test_tfidf, svm_tuned_1_preds)\n",
    "# # svm_tuned_1_cm = confusion_matrix(y_test_tfidf_new, svm_tuned_1_preds)\n",
    "# # svm_tuned_1_report = classification_report(y_test_tfidf_new, svm_tuned_1_preds)"
   ]
  },
  {
   "cell_type": "code",
   "execution_count": 121,
   "metadata": {},
   "outputs": [
    {
     "name": "stdout",
     "output_type": "stream",
     "text": [
      "[[2938  470]\n",
      " [ 414 2928]]\n",
      "              precision    recall  f1-score   support\n",
      "\n",
      "           0       0.88      0.86      0.87      3408\n",
      "           1       0.86      0.88      0.87      3342\n",
      "\n",
      "    accuracy                           0.87      6750\n",
      "   macro avg       0.87      0.87      0.87      6750\n",
      "weighted avg       0.87      0.87      0.87      6750\n",
      "\n"
     ]
    }
   ],
   "source": [
    "# print(svm_tuned_1_cm)\n",
    "# print(svm_tuned_1_report)"
   ]
  },
  {
   "cell_type": "markdown",
   "metadata": {},
   "source": [
    "### TODO: optimize the review feature"
   ]
  },
  {
   "cell_type": "markdown",
   "metadata": {},
   "source": [
    "## TODO: Conclusion"
   ]
  },
  {
   "cell_type": "code",
   "execution_count": null,
   "metadata": {},
   "outputs": [],
   "source": []
  }
 ],
 "metadata": {
  "kernelspec": {
   "display_name": "Python 3",
   "language": "python",
   "name": "python3"
  },
  "language_info": {
   "codemirror_mode": {
    "name": "ipython",
    "version": 3
   },
   "file_extension": ".py",
   "mimetype": "text/x-python",
   "name": "python",
   "nbconvert_exporter": "python",
   "pygments_lexer": "ipython3",
   "version": "3.7.3"
  }
 },
 "nbformat": 4,
 "nbformat_minor": 2
}
